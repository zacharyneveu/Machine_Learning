{
 "cells": [
  {
   "cell_type": "code",
   "execution_count": 1,
   "metadata": {},
   "outputs": [
    {
     "data": {
      "text/plain": [
       "2×2 Array{Int64,2}:\n",
       " 3  4\n",
       " 1  2"
      ]
     },
     "execution_count": 1,
     "metadata": {},
     "output_type": "execute_result"
    }
   ],
   "source": [
    "A = [3 4; 1 2]"
   ]
  },
  {
   "cell_type": "code",
   "execution_count": 15,
   "metadata": {},
   "outputs": [],
   "source": [
    "using MultivariateStats\n",
    "using VegaDatasets\n",
    "using DataFrames"
   ]
  },
  {
   "cell_type": "code",
   "execution_count": 16,
   "metadata": {},
   "outputs": [
    {
     "data": {
      "text/html": [
       "<table class=\"data-frame\"><thead><tr><th></th><th>petalLength</th><th>sepalWidth</th><th>sepalLength</th><th>petalWidth</th><th>species</th></tr><tr><th></th><th>Float64</th><th>Float64</th><th>Float64</th><th>Float64</th><th>String</th></tr></thead><tbody><p>150 rows × 5 columns</p><tr><th>1</th><td>1.4</td><td>3.5</td><td>5.1</td><td>0.2</td><td>setosa</td></tr><tr><th>2</th><td>1.4</td><td>3.0</td><td>4.9</td><td>0.2</td><td>setosa</td></tr><tr><th>3</th><td>1.3</td><td>3.2</td><td>4.7</td><td>0.2</td><td>setosa</td></tr><tr><th>4</th><td>1.5</td><td>3.1</td><td>4.6</td><td>0.2</td><td>setosa</td></tr><tr><th>5</th><td>1.4</td><td>3.6</td><td>5.0</td><td>0.2</td><td>setosa</td></tr><tr><th>6</th><td>1.7</td><td>3.9</td><td>5.4</td><td>0.4</td><td>setosa</td></tr><tr><th>7</th><td>1.4</td><td>3.4</td><td>4.6</td><td>0.3</td><td>setosa</td></tr><tr><th>8</th><td>1.5</td><td>3.4</td><td>5.0</td><td>0.2</td><td>setosa</td></tr><tr><th>9</th><td>1.4</td><td>2.9</td><td>4.4</td><td>0.2</td><td>setosa</td></tr><tr><th>10</th><td>1.5</td><td>3.1</td><td>4.9</td><td>0.1</td><td>setosa</td></tr><tr><th>11</th><td>1.5</td><td>3.7</td><td>5.4</td><td>0.2</td><td>setosa</td></tr><tr><th>12</th><td>1.6</td><td>3.4</td><td>4.8</td><td>0.2</td><td>setosa</td></tr><tr><th>13</th><td>1.4</td><td>3.0</td><td>4.8</td><td>0.1</td><td>setosa</td></tr><tr><th>14</th><td>1.1</td><td>3.0</td><td>4.3</td><td>0.1</td><td>setosa</td></tr><tr><th>15</th><td>1.2</td><td>4.0</td><td>5.8</td><td>0.2</td><td>setosa</td></tr><tr><th>16</th><td>1.5</td><td>4.4</td><td>5.7</td><td>0.4</td><td>setosa</td></tr><tr><th>17</th><td>1.3</td><td>3.9</td><td>5.4</td><td>0.4</td><td>setosa</td></tr><tr><th>18</th><td>1.4</td><td>3.5</td><td>5.1</td><td>0.3</td><td>setosa</td></tr><tr><th>19</th><td>1.7</td><td>3.8</td><td>5.7</td><td>0.3</td><td>setosa</td></tr><tr><th>20</th><td>1.5</td><td>3.8</td><td>5.1</td><td>0.3</td><td>setosa</td></tr><tr><th>21</th><td>1.7</td><td>3.4</td><td>5.4</td><td>0.2</td><td>setosa</td></tr><tr><th>22</th><td>1.5</td><td>3.7</td><td>5.1</td><td>0.4</td><td>setosa</td></tr><tr><th>23</th><td>1.0</td><td>3.6</td><td>4.6</td><td>0.2</td><td>setosa</td></tr><tr><th>24</th><td>1.7</td><td>3.3</td><td>5.1</td><td>0.5</td><td>setosa</td></tr><tr><th>25</th><td>1.9</td><td>3.4</td><td>4.8</td><td>0.2</td><td>setosa</td></tr><tr><th>26</th><td>1.6</td><td>3.0</td><td>5.0</td><td>0.2</td><td>setosa</td></tr><tr><th>27</th><td>1.6</td><td>3.4</td><td>5.0</td><td>0.4</td><td>setosa</td></tr><tr><th>28</th><td>1.5</td><td>3.5</td><td>5.2</td><td>0.2</td><td>setosa</td></tr><tr><th>29</th><td>1.4</td><td>3.4</td><td>5.2</td><td>0.2</td><td>setosa</td></tr><tr><th>30</th><td>1.6</td><td>3.2</td><td>4.7</td><td>0.2</td><td>setosa</td></tr><tr><th>&vellip;</th><td>&vellip;</td><td>&vellip;</td><td>&vellip;</td><td>&vellip;</td><td>&vellip;</td></tr></tbody></table>"
      ],
      "text/latex": [
       "\\begin{tabular}{r|ccccc}\n",
       "\t& petalLength & sepalWidth & sepalLength & petalWidth & species\\\\\n",
       "\t\\hline\n",
       "\t& Float64 & Float64 & Float64 & Float64 & String\\\\\n",
       "\t\\hline\n",
       "\t1 & 1.4 & 3.5 & 5.1 & 0.2 & setosa \\\\\n",
       "\t2 & 1.4 & 3.0 & 4.9 & 0.2 & setosa \\\\\n",
       "\t3 & 1.3 & 3.2 & 4.7 & 0.2 & setosa \\\\\n",
       "\t4 & 1.5 & 3.1 & 4.6 & 0.2 & setosa \\\\\n",
       "\t5 & 1.4 & 3.6 & 5.0 & 0.2 & setosa \\\\\n",
       "\t6 & 1.7 & 3.9 & 5.4 & 0.4 & setosa \\\\\n",
       "\t7 & 1.4 & 3.4 & 4.6 & 0.3 & setosa \\\\\n",
       "\t8 & 1.5 & 3.4 & 5.0 & 0.2 & setosa \\\\\n",
       "\t9 & 1.4 & 2.9 & 4.4 & 0.2 & setosa \\\\\n",
       "\t10 & 1.5 & 3.1 & 4.9 & 0.1 & setosa \\\\\n",
       "\t11 & 1.5 & 3.7 & 5.4 & 0.2 & setosa \\\\\n",
       "\t12 & 1.6 & 3.4 & 4.8 & 0.2 & setosa \\\\\n",
       "\t13 & 1.4 & 3.0 & 4.8 & 0.1 & setosa \\\\\n",
       "\t14 & 1.1 & 3.0 & 4.3 & 0.1 & setosa \\\\\n",
       "\t15 & 1.2 & 4.0 & 5.8 & 0.2 & setosa \\\\\n",
       "\t16 & 1.5 & 4.4 & 5.7 & 0.4 & setosa \\\\\n",
       "\t17 & 1.3 & 3.9 & 5.4 & 0.4 & setosa \\\\\n",
       "\t18 & 1.4 & 3.5 & 5.1 & 0.3 & setosa \\\\\n",
       "\t19 & 1.7 & 3.8 & 5.7 & 0.3 & setosa \\\\\n",
       "\t20 & 1.5 & 3.8 & 5.1 & 0.3 & setosa \\\\\n",
       "\t21 & 1.7 & 3.4 & 5.4 & 0.2 & setosa \\\\\n",
       "\t22 & 1.5 & 3.7 & 5.1 & 0.4 & setosa \\\\\n",
       "\t23 & 1.0 & 3.6 & 4.6 & 0.2 & setosa \\\\\n",
       "\t24 & 1.7 & 3.3 & 5.1 & 0.5 & setosa \\\\\n",
       "\t25 & 1.9 & 3.4 & 4.8 & 0.2 & setosa \\\\\n",
       "\t26 & 1.6 & 3.0 & 5.0 & 0.2 & setosa \\\\\n",
       "\t27 & 1.6 & 3.4 & 5.0 & 0.4 & setosa \\\\\n",
       "\t28 & 1.5 & 3.5 & 5.2 & 0.2 & setosa \\\\\n",
       "\t29 & 1.4 & 3.4 & 5.2 & 0.2 & setosa \\\\\n",
       "\t30 & 1.6 & 3.2 & 4.7 & 0.2 & setosa \\\\\n",
       "\t$\\dots$ & $\\dots$ & $\\dots$ & $\\dots$ & $\\dots$ & $\\dots$ \\\\\n",
       "\\end{tabular}\n"
      ],
      "text/plain": [
       "150×5 DataFrame\n",
       "│ Row │ petalLength │ sepalWidth │ sepalLength │ petalWidth │ species   │\n",
       "│     │ \u001b[90mFloat64\u001b[39m     │ \u001b[90mFloat64\u001b[39m    │ \u001b[90mFloat64\u001b[39m     │ \u001b[90mFloat64\u001b[39m    │ \u001b[90mString\u001b[39m    │\n",
       "├─────┼─────────────┼────────────┼─────────────┼────────────┼───────────┤\n",
       "│ 1   │ 1.4         │ 3.5        │ 5.1         │ 0.2        │ setosa    │\n",
       "│ 2   │ 1.4         │ 3.0        │ 4.9         │ 0.2        │ setosa    │\n",
       "│ 3   │ 1.3         │ 3.2        │ 4.7         │ 0.2        │ setosa    │\n",
       "│ 4   │ 1.5         │ 3.1        │ 4.6         │ 0.2        │ setosa    │\n",
       "│ 5   │ 1.4         │ 3.6        │ 5.0         │ 0.2        │ setosa    │\n",
       "│ 6   │ 1.7         │ 3.9        │ 5.4         │ 0.4        │ setosa    │\n",
       "│ 7   │ 1.4         │ 3.4        │ 4.6         │ 0.3        │ setosa    │\n",
       "│ 8   │ 1.5         │ 3.4        │ 5.0         │ 0.2        │ setosa    │\n",
       "│ 9   │ 1.4         │ 2.9        │ 4.4         │ 0.2        │ setosa    │\n",
       "│ 10  │ 1.5         │ 3.1        │ 4.9         │ 0.1        │ setosa    │\n",
       "⋮\n",
       "│ 140 │ 5.4         │ 3.1        │ 6.9         │ 2.1        │ virginica │\n",
       "│ 141 │ 5.6         │ 3.1        │ 6.7         │ 2.4        │ virginica │\n",
       "│ 142 │ 5.1         │ 3.1        │ 6.9         │ 2.3        │ virginica │\n",
       "│ 143 │ 5.1         │ 2.7        │ 5.8         │ 1.9        │ virginica │\n",
       "│ 144 │ 5.9         │ 3.2        │ 6.8         │ 2.3        │ virginica │\n",
       "│ 145 │ 5.7         │ 3.3        │ 6.7         │ 2.5        │ virginica │\n",
       "│ 146 │ 5.2         │ 3.0        │ 6.7         │ 2.3        │ virginica │\n",
       "│ 147 │ 5.0         │ 2.5        │ 6.3         │ 1.9        │ virginica │\n",
       "│ 148 │ 5.2         │ 3.0        │ 6.5         │ 2.0        │ virginica │\n",
       "│ 149 │ 5.4         │ 3.4        │ 6.2         │ 2.3        │ virginica │\n",
       "│ 150 │ 5.1         │ 3.0        │ 5.9         │ 1.8        │ virginica │"
      ]
     },
     "execution_count": 16,
     "metadata": {},
     "output_type": "execute_result"
    }
   ],
   "source": [
    "iris = DataFrame(dataset(\"iris\"))"
   ]
  },
  {
   "cell_type": "code",
   "execution_count": 31,
   "metadata": {},
   "outputs": [
    {
     "ename": "LinearAlgebra.PosDefException",
     "evalue": "PosDefException: matrix is not positive definite; Cholesky factorization failed.",
     "output_type": "error",
     "traceback": [
      "PosDefException: matrix is not positive definite; Cholesky factorization failed.",
      "",
      "Stacktrace:",
      " [1] checkpositivedefinite at /buildworker/worker/package_linux64/build/usr/share/julia/stdlib/v1.0/LinearAlgebra/src/factorization.jl:11 [inlined]",
      " [2] #cholesky!#92(::Bool, ::Function, ::LinearAlgebra.Hermitian{Float64,Array{Float64,2}}, ::Val{false}) at /buildworker/worker/package_linux64/build/usr/share/julia/stdlib/v1.0/LinearAlgebra/src/cholesky.jl:153",
      " [3] cholesky! at /buildworker/worker/package_linux64/build/usr/share/julia/stdlib/v1.0/LinearAlgebra/src/cholesky.jl:152 [inlined] (repeats 2 times)",
      " [4] cov_whitening! at /home/zach/.julia/packages/MultivariateStats/nNJuu/src/whiten.jl:12 [inlined]",
      " [5] cov_whitening!(::Array{Float64,2}, ::Float64) at /home/zach/.julia/packages/MultivariateStats/nNJuu/src/whiten.jl:15",
      " [6] #fit#7(::Nothing, ::Float64, ::Function, ::Type{Whitening}, ::Array{Float64,2}) at /home/zach/.julia/packages/MultivariateStats/nNJuu/src/whiten.jl:53",
      " [7] fit(::Type{Whitening}, ::Array{Float64,2}) at /home/zach/.julia/packages/MultivariateStats/nNJuu/src/whiten.jl:48",
      " [8] top-level scope at In[31]:1"
     ]
    }
   ],
   "source": [
    "fit(Whitening, Matrix(iris[:,1:4]))"
   ]
  },
  {
   "cell_type": "code",
   "execution_count": 28,
   "metadata": {},
   "outputs": [
    {
     "name": "stdout",
     "output_type": "stream",
     "text": [
      "search: \u001b[0m\u001b[1mW\u001b[22m\u001b[0m\u001b[1mh\u001b[22m\u001b[0m\u001b[1mi\u001b[22m\u001b[0m\u001b[1mt\u001b[22m\u001b[0m\u001b[1me\u001b[22m\u001b[0m\u001b[1mn\u001b[22m\u001b[0m\u001b[1mi\u001b[22m\u001b[0m\u001b[1mn\u001b[22m\u001b[0m\u001b[1mg\u001b[22m cov_\u001b[0m\u001b[1mw\u001b[22m\u001b[0m\u001b[1mh\u001b[22m\u001b[0m\u001b[1mi\u001b[22m\u001b[0m\u001b[1mt\u001b[22m\u001b[0m\u001b[1me\u001b[22m\u001b[0m\u001b[1mn\u001b[22m\u001b[0m\u001b[1mi\u001b[22m\u001b[0m\u001b[1mn\u001b[22m\u001b[0m\u001b[1mg\u001b[22m cov_\u001b[0m\u001b[1mw\u001b[22m\u001b[0m\u001b[1mh\u001b[22m\u001b[0m\u001b[1mi\u001b[22m\u001b[0m\u001b[1mt\u001b[22m\u001b[0m\u001b[1me\u001b[22m\u001b[0m\u001b[1mn\u001b[22m\u001b[0m\u001b[1mi\u001b[22m\u001b[0m\u001b[1mn\u001b[22m\u001b[0m\u001b[1mg\u001b[22m!\n",
      "\n"
     ]
    },
    {
     "data": {
      "text/latex": [
       "No documentation found.\n",
       "\n",
       "\\texttt{MultivariateStats.Whitening} is of type \\texttt{UnionAll}.\n",
       "\n",
       "\\section{Summary}\n",
       "\\begin{verbatim}\n",
       "struct UnionAll <: Type{T}\n",
       "\\end{verbatim}\n",
       "\\section{Fields}\n",
       "\\begin{verbatim}\n",
       "var  :: TypeVar\n",
       "body :: Any\n",
       "\\end{verbatim}\n",
       "\\section{Supertype Hierarchy}\n",
       "\\begin{verbatim}\n",
       "UnionAll <: Type{T} <: Any\n",
       "\\end{verbatim}\n"
      ],
      "text/markdown": [
       "No documentation found.\n",
       "\n",
       "`MultivariateStats.Whitening` is of type `UnionAll`.\n",
       "\n",
       "# Summary\n",
       "\n",
       "```\n",
       "struct UnionAll <: Type{T}\n",
       "```\n",
       "\n",
       "# Fields\n",
       "\n",
       "```\n",
       "var  :: TypeVar\n",
       "body :: Any\n",
       "```\n",
       "\n",
       "# Supertype Hierarchy\n",
       "\n",
       "```\n",
       "UnionAll <: Type{T} <: Any\n",
       "```\n"
      ],
      "text/plain": [
       "  No documentation found.\n",
       "\n",
       "  \u001b[36mMultivariateStats.Whitening\u001b[39m is of type \u001b[36mUnionAll\u001b[39m.\n",
       "\n",
       "\u001b[1m  Summary\u001b[22m\n",
       "\u001b[1m  ≡≡≡≡≡≡≡≡≡\u001b[22m\n",
       "\n",
       "\u001b[36m  struct UnionAll <: Type{T}\u001b[39m\n",
       "\n",
       "\u001b[1m  Fields\u001b[22m\n",
       "\u001b[1m  ≡≡≡≡≡≡≡≡\u001b[22m\n",
       "\n",
       "\u001b[36m  var  :: TypeVar\u001b[39m\n",
       "\u001b[36m  body :: Any\u001b[39m\n",
       "\n",
       "\u001b[1m  Supertype Hierarchy\u001b[22m\n",
       "\u001b[1m  ≡≡≡≡≡≡≡≡≡≡≡≡≡≡≡≡≡≡≡≡≡\u001b[22m\n",
       "\n",
       "\u001b[36m  UnionAll <: Type{T} <: Any\u001b[39m"
      ]
     },
     "execution_count": 28,
     "metadata": {},
     "output_type": "execute_result"
    }
   ],
   "source": [
    "?Whitening"
   ]
  },
  {
   "cell_type": "code",
   "execution_count": null,
   "metadata": {},
   "outputs": [],
   "source": []
  }
 ],
 "metadata": {
  "kernelspec": {
   "display_name": "Julia 1.0.3",
   "language": "julia",
   "name": "julia-1.0"
  },
  "language_info": {
   "file_extension": ".jl",
   "mimetype": "application/julia",
   "name": "julia",
   "version": "1.0.3"
  }
 },
 "nbformat": 4,
 "nbformat_minor": 2
}
