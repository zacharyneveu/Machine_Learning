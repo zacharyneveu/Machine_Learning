{
 "cells": [
  {
   "cell_type": "code",
   "execution_count": 3,
   "metadata": {},
   "outputs": [
    {
     "name": "stdout",
     "output_type": "stream",
     "text": [
      "\u001b[32m\u001b[1m Resolving\u001b[22m\u001b[39m package versions...\n",
      "\u001b[32m\u001b[1m Installed\u001b[22m\u001b[39m PlotUtils ──────── v0.5.7\n",
      "\u001b[32m\u001b[1m Installed\u001b[22m\u001b[39m Revise ─────────── v2.0.6\n",
      "\u001b[32m\u001b[1m Installed\u001b[22m\u001b[39m Lasso ──────────── v0.3.0\n",
      "\u001b[32m\u001b[1m Installed\u001b[22m\u001b[39m MLBase ─────────── v0.8.0\n",
      "\u001b[32m\u001b[1m Installed\u001b[22m\u001b[39m NLsolve ────────── v4.0.0\n",
      "\u001b[32m\u001b[1m Installed\u001b[22m\u001b[39m MacroTools ─────── v0.5.0\n",
      "\u001b[32m\u001b[1m Installed\u001b[22m\u001b[39m GR ─────────────── v0.39.0\n",
      "\u001b[32m\u001b[1m Installed\u001b[22m\u001b[39m LLVM ───────────── v1.1.0\n",
      "\u001b[32m\u001b[1m Installed\u001b[22m\u001b[39m LoweredCodeUtils ─ v0.3.1\n",
      "\u001b[32m\u001b[1m Installed\u001b[22m\u001b[39m CodeTracking ───── v0.5.4\n",
      "\u001b[32m\u001b[1m Installed\u001b[22m\u001b[39m StatsModels ────── v0.5.0\n",
      "\u001b[32m\u001b[1m Installed\u001b[22m\u001b[39m GLM ────────────── v1.1.1\n",
      "\u001b[32m\u001b[1m Installed\u001b[22m\u001b[39m TimeZones ──────── v0.9.0\n",
      "\u001b[32m\u001b[1m Installed\u001b[22m\u001b[39m FileIO ─────────── v1.0.6\n",
      "\u001b[32m\u001b[1m Installed\u001b[22m\u001b[39m Widgets ────────── v0.6.1\n",
      "\u001b[32m\u001b[1m Installed\u001b[22m\u001b[39m CSTParser ──────── v0.5.2\n",
      "\u001b[32m\u001b[1m Installed\u001b[22m\u001b[39m Roots ──────────── v0.8.0\n",
      "\u001b[32m\u001b[1m Installed\u001b[22m\u001b[39m JuliaInterpreter ─ v0.4.1\n",
      "\u001b[32m\u001b[1m Installed\u001b[22m\u001b[39m Tokenize ───────── v0.5.3\n",
      "\u001b[32m\u001b[1m  Updating\u001b[22m\u001b[39m `~/.julia/environments/v1.0/Project.toml`\n",
      " \u001b[90m [b4fcebef]\u001b[39m\u001b[92m + Lasso v0.3.0\u001b[39m\n",
      "\u001b[32m\u001b[1m  Updating\u001b[22m\u001b[39m `~/.julia/environments/v1.0/Manifest.toml`\n",
      " \u001b[90m [00ebfdb7]\u001b[39m\u001b[92m + CSTParser v0.5.2\u001b[39m\n",
      " \u001b[90m [da1fd8a2]\u001b[39m\u001b[93m ↑ CodeTracking v0.5.0 ⇒ v0.5.4\u001b[39m\n",
      " \u001b[90m [c5cfe0b6]\u001b[39m\u001b[91m - DiffBase v0.3.2\u001b[39m\n",
      " \u001b[90m [5789e2e9]\u001b[39m\u001b[93m ↑ FileIO v1.0.5 ⇒ v1.0.6\u001b[39m\n",
      " \u001b[90m [38e38edf]\u001b[39m\u001b[92m + GLM v1.1.1\u001b[39m\n",
      " \u001b[90m [28b8d3ca]\u001b[39m\u001b[93m ↑ GR v0.38.1 ⇒ v0.39.0\u001b[39m\n",
      " \u001b[90m [aa1ae85d]\u001b[39m\u001b[93m ↑ JuliaInterpreter v0.3.2 ⇒ v0.4.1\u001b[39m\n",
      " \u001b[90m [929cbde3]\u001b[39m\u001b[93m ↑ LLVM v1.0.0 ⇒ v1.1.0\u001b[39m\n",
      " \u001b[90m [b4fcebef]\u001b[39m\u001b[92m + Lasso v0.3.0\u001b[39m\n",
      " \u001b[90m [6f1432cf]\u001b[39m\u001b[93m ↑ LoweredCodeUtils v0.3.0 ⇒ v0.3.1\u001b[39m\n",
      " \u001b[90m [f0e99cf1]\u001b[39m\u001b[92m + MLBase v0.8.0\u001b[39m\n",
      " \u001b[90m [1914dd2f]\u001b[39m\u001b[93m ↑ MacroTools v0.4.5 ⇒ v0.5.0\u001b[39m\n",
      " \u001b[90m [2774e3e8]\u001b[39m\u001b[93m ↑ NLsolve v3.0.1 ⇒ v4.0.0\u001b[39m\n",
      " \u001b[90m [995b91a9]\u001b[39m\u001b[93m ↑ PlotUtils v0.5.5 ⇒ v0.5.7\u001b[39m\n",
      " \u001b[90m [295af30f]\u001b[39m\u001b[93m ↑ Revise v2.0.3 ⇒ v2.0.6\u001b[39m\n",
      " \u001b[90m [f2b01f46]\u001b[39m\u001b[93m ↑ Roots v0.7.4 ⇒ v0.8.0\u001b[39m\n",
      " \u001b[90m [3eaba693]\u001b[39m\u001b[92m + StatsModels v0.5.0\u001b[39m\n",
      " \u001b[90m [f269a46b]\u001b[39m\u001b[93m ↑ TimeZones v0.8.5 ⇒ v0.9.0\u001b[39m\n",
      " \u001b[90m [0796e94c]\u001b[39m\u001b[92m + Tokenize v0.5.3\u001b[39m\n",
      " \u001b[90m [cc8bc4a8]\u001b[39m\u001b[93m ↑ Widgets v0.5.1 ⇒ v0.6.1\u001b[39m\n",
      "\u001b[32m\u001b[1m  Building\u001b[22m\u001b[39m GR ───────→ `~/.julia/packages/GR/Q8slp/deps/build.log`\n",
      "\u001b[32m\u001b[1m  Building\u001b[22m\u001b[39m LLVM ─────→ `~/.julia/packages/LLVM/tg8MX/deps/build.log`\n",
      "\u001b[32m\u001b[1m  Building\u001b[22m\u001b[39m TimeZones → `~/.julia/packages/TimeZones/oXITd/deps/build.log`\n"
     ]
    }
   ],
   "source": [
    "using Pkg\n",
    "Pkg.add(\"Lasso\")"
   ]
  },
  {
   "cell_type": "code",
   "execution_count": 5,
   "metadata": {},
   "outputs": [
    {
     "name": "stderr",
     "output_type": "stream",
     "text": [
      "┌ Info: Recompiling stale cache file /home/zach/.julia/compiled/v1.0/RDatasets/JyIbx.ji for RDatasets [ce6b1742-4840-55fa-b093-852dadbb1d8b]\n",
      "└ @ Base loading.jl:1190\n"
     ]
    }
   ],
   "source": [
    "using Lasso, RDatasets"
   ]
  },
  {
   "cell_type": "code",
   "execution_count": 6,
   "metadata": {},
   "outputs": [
    {
     "data": {
      "text/html": [
       "<table class=\"data-frame\"><thead><tr><th></th><th>NPreg</th><th>Glu</th><th>BP</th><th>Skin</th><th>BMI</th><th>Ped</th><th>Age</th><th>Type</th></tr><tr><th></th><th>Int32</th><th>Int32</th><th>Int32</th><th>Int32</th><th>Float64</th><th>Float64</th><th>Int32</th><th>Categorical…</th></tr></thead><tbody><p>332 rows × 8 columns</p><tr><th>1</th><td>6</td><td>148</td><td>72</td><td>35</td><td>33.6</td><td>0.627</td><td>50</td><td>Yes</td></tr><tr><th>2</th><td>1</td><td>85</td><td>66</td><td>29</td><td>26.6</td><td>0.351</td><td>31</td><td>No</td></tr><tr><th>3</th><td>1</td><td>89</td><td>66</td><td>23</td><td>28.1</td><td>0.167</td><td>21</td><td>No</td></tr><tr><th>4</th><td>3</td><td>78</td><td>50</td><td>32</td><td>31.0</td><td>0.248</td><td>26</td><td>Yes</td></tr><tr><th>5</th><td>2</td><td>197</td><td>70</td><td>45</td><td>30.5</td><td>0.158</td><td>53</td><td>Yes</td></tr><tr><th>6</th><td>5</td><td>166</td><td>72</td><td>19</td><td>25.8</td><td>0.587</td><td>51</td><td>Yes</td></tr><tr><th>7</th><td>0</td><td>118</td><td>84</td><td>47</td><td>45.8</td><td>0.551</td><td>31</td><td>Yes</td></tr><tr><th>8</th><td>1</td><td>103</td><td>30</td><td>38</td><td>43.3</td><td>0.183</td><td>33</td><td>No</td></tr><tr><th>9</th><td>3</td><td>126</td><td>88</td><td>41</td><td>39.3</td><td>0.704</td><td>27</td><td>No</td></tr><tr><th>10</th><td>9</td><td>119</td><td>80</td><td>35</td><td>29.0</td><td>0.263</td><td>29</td><td>Yes</td></tr><tr><th>11</th><td>1</td><td>97</td><td>66</td><td>15</td><td>23.2</td><td>0.487</td><td>22</td><td>No</td></tr><tr><th>12</th><td>5</td><td>109</td><td>75</td><td>26</td><td>36.0</td><td>0.546</td><td>60</td><td>No</td></tr><tr><th>13</th><td>3</td><td>88</td><td>58</td><td>11</td><td>24.8</td><td>0.267</td><td>22</td><td>No</td></tr><tr><th>14</th><td>10</td><td>122</td><td>78</td><td>31</td><td>27.6</td><td>0.512</td><td>45</td><td>No</td></tr><tr><th>15</th><td>4</td><td>103</td><td>60</td><td>33</td><td>24.0</td><td>0.966</td><td>33</td><td>No</td></tr><tr><th>16</th><td>9</td><td>102</td><td>76</td><td>37</td><td>32.9</td><td>0.665</td><td>46</td><td>Yes</td></tr><tr><th>17</th><td>2</td><td>90</td><td>68</td><td>42</td><td>38.2</td><td>0.503</td><td>27</td><td>Yes</td></tr><tr><th>18</th><td>4</td><td>111</td><td>72</td><td>47</td><td>37.1</td><td>1.39</td><td>56</td><td>Yes</td></tr><tr><th>19</th><td>3</td><td>180</td><td>64</td><td>25</td><td>34.0</td><td>0.271</td><td>26</td><td>No</td></tr><tr><th>20</th><td>7</td><td>106</td><td>92</td><td>18</td><td>22.7</td><td>0.235</td><td>48</td><td>No</td></tr><tr><th>21</th><td>9</td><td>171</td><td>110</td><td>24</td><td>45.4</td><td>0.721</td><td>54</td><td>Yes</td></tr><tr><th>22</th><td>0</td><td>180</td><td>66</td><td>39</td><td>42.0</td><td>1.893</td><td>25</td><td>Yes</td></tr><tr><th>23</th><td>2</td><td>71</td><td>70</td><td>27</td><td>28.0</td><td>0.586</td><td>22</td><td>No</td></tr><tr><th>24</th><td>1</td><td>103</td><td>80</td><td>11</td><td>19.4</td><td>0.491</td><td>22</td><td>No</td></tr><tr><th>25</th><td>1</td><td>101</td><td>50</td><td>15</td><td>24.2</td><td>0.526</td><td>26</td><td>No</td></tr><tr><th>26</th><td>5</td><td>88</td><td>66</td><td>21</td><td>24.4</td><td>0.342</td><td>30</td><td>No</td></tr><tr><th>27</th><td>7</td><td>150</td><td>66</td><td>42</td><td>34.7</td><td>0.718</td><td>42</td><td>No</td></tr><tr><th>28</th><td>1</td><td>73</td><td>50</td><td>10</td><td>23.0</td><td>0.248</td><td>21</td><td>No</td></tr><tr><th>29</th><td>0</td><td>105</td><td>64</td><td>41</td><td>41.5</td><td>0.173</td><td>22</td><td>No</td></tr><tr><th>30</th><td>5</td><td>99</td><td>74</td><td>27</td><td>29.0</td><td>0.203</td><td>32</td><td>No</td></tr><tr><th>&vellip;</th><td>&vellip;</td><td>&vellip;</td><td>&vellip;</td><td>&vellip;</td><td>&vellip;</td><td>&vellip;</td><td>&vellip;</td><td>&vellip;</td></tr></tbody></table>"
      ],
      "text/latex": [
       "\\begin{tabular}{r|cccccccc}\n",
       "\t& NPreg & Glu & BP & Skin & BMI & Ped & Age & Type\\\\\n",
       "\t\\hline\n",
       "\t& Int32 & Int32 & Int32 & Int32 & Float64 & Float64 & Int32 & Categorical…\\\\\n",
       "\t\\hline\n",
       "\t1 & 6 & 148 & 72 & 35 & 33.6 & 0.627 & 50 & Yes \\\\\n",
       "\t2 & 1 & 85 & 66 & 29 & 26.6 & 0.351 & 31 & No \\\\\n",
       "\t3 & 1 & 89 & 66 & 23 & 28.1 & 0.167 & 21 & No \\\\\n",
       "\t4 & 3 & 78 & 50 & 32 & 31.0 & 0.248 & 26 & Yes \\\\\n",
       "\t5 & 2 & 197 & 70 & 45 & 30.5 & 0.158 & 53 & Yes \\\\\n",
       "\t6 & 5 & 166 & 72 & 19 & 25.8 & 0.587 & 51 & Yes \\\\\n",
       "\t7 & 0 & 118 & 84 & 47 & 45.8 & 0.551 & 31 & Yes \\\\\n",
       "\t8 & 1 & 103 & 30 & 38 & 43.3 & 0.183 & 33 & No \\\\\n",
       "\t9 & 3 & 126 & 88 & 41 & 39.3 & 0.704 & 27 & No \\\\\n",
       "\t10 & 9 & 119 & 80 & 35 & 29.0 & 0.263 & 29 & Yes \\\\\n",
       "\t11 & 1 & 97 & 66 & 15 & 23.2 & 0.487 & 22 & No \\\\\n",
       "\t12 & 5 & 109 & 75 & 26 & 36.0 & 0.546 & 60 & No \\\\\n",
       "\t13 & 3 & 88 & 58 & 11 & 24.8 & 0.267 & 22 & No \\\\\n",
       "\t14 & 10 & 122 & 78 & 31 & 27.6 & 0.512 & 45 & No \\\\\n",
       "\t15 & 4 & 103 & 60 & 33 & 24.0 & 0.966 & 33 & No \\\\\n",
       "\t16 & 9 & 102 & 76 & 37 & 32.9 & 0.665 & 46 & Yes \\\\\n",
       "\t17 & 2 & 90 & 68 & 42 & 38.2 & 0.503 & 27 & Yes \\\\\n",
       "\t18 & 4 & 111 & 72 & 47 & 37.1 & 1.39 & 56 & Yes \\\\\n",
       "\t19 & 3 & 180 & 64 & 25 & 34.0 & 0.271 & 26 & No \\\\\n",
       "\t20 & 7 & 106 & 92 & 18 & 22.7 & 0.235 & 48 & No \\\\\n",
       "\t21 & 9 & 171 & 110 & 24 & 45.4 & 0.721 & 54 & Yes \\\\\n",
       "\t22 & 0 & 180 & 66 & 39 & 42.0 & 1.893 & 25 & Yes \\\\\n",
       "\t23 & 2 & 71 & 70 & 27 & 28.0 & 0.586 & 22 & No \\\\\n",
       "\t24 & 1 & 103 & 80 & 11 & 19.4 & 0.491 & 22 & No \\\\\n",
       "\t25 & 1 & 101 & 50 & 15 & 24.2 & 0.526 & 26 & No \\\\\n",
       "\t26 & 5 & 88 & 66 & 21 & 24.4 & 0.342 & 30 & No \\\\\n",
       "\t27 & 7 & 150 & 66 & 42 & 34.7 & 0.718 & 42 & No \\\\\n",
       "\t28 & 1 & 73 & 50 & 10 & 23.0 & 0.248 & 21 & No \\\\\n",
       "\t29 & 0 & 105 & 64 & 41 & 41.5 & 0.173 & 22 & No \\\\\n",
       "\t30 & 5 & 99 & 74 & 27 & 29.0 & 0.203 & 32 & No \\\\\n",
       "\t$\\dots$ & $\\dots$ & $\\dots$ & $\\dots$ & $\\dots$ & $\\dots$ & $\\dots$ & $\\dots$ & $\\dots$ \\\\\n",
       "\\end{tabular}\n"
      ],
      "text/plain": [
       "332×8 DataFrame. Omitted printing of 1 columns\n",
       "│ Row │ NPreg │ Glu   │ BP    │ Skin  │ BMI     │ Ped     │ Age   │\n",
       "│     │ \u001b[90mInt32\u001b[39m │ \u001b[90mInt32\u001b[39m │ \u001b[90mInt32\u001b[39m │ \u001b[90mInt32\u001b[39m │ \u001b[90mFloat64\u001b[39m │ \u001b[90mFloat64\u001b[39m │ \u001b[90mInt32\u001b[39m │\n",
       "├─────┼───────┼───────┼───────┼───────┼─────────┼─────────┼───────┤\n",
       "│ 1   │ 6     │ 148   │ 72    │ 35    │ 33.6    │ 0.627   │ 50    │\n",
       "│ 2   │ 1     │ 85    │ 66    │ 29    │ 26.6    │ 0.351   │ 31    │\n",
       "│ 3   │ 1     │ 89    │ 66    │ 23    │ 28.1    │ 0.167   │ 21    │\n",
       "│ 4   │ 3     │ 78    │ 50    │ 32    │ 31.0    │ 0.248   │ 26    │\n",
       "│ 5   │ 2     │ 197   │ 70    │ 45    │ 30.5    │ 0.158   │ 53    │\n",
       "│ 6   │ 5     │ 166   │ 72    │ 19    │ 25.8    │ 0.587   │ 51    │\n",
       "│ 7   │ 0     │ 118   │ 84    │ 47    │ 45.8    │ 0.551   │ 31    │\n",
       "│ 8   │ 1     │ 103   │ 30    │ 38    │ 43.3    │ 0.183   │ 33    │\n",
       "│ 9   │ 3     │ 126   │ 88    │ 41    │ 39.3    │ 0.704   │ 27    │\n",
       "│ 10  │ 9     │ 119   │ 80    │ 35    │ 29.0    │ 0.263   │ 29    │\n",
       "⋮\n",
       "│ 322 │ 1     │ 147   │ 94    │ 41    │ 49.3    │ 0.358   │ 27    │\n",
       "│ 323 │ 3     │ 187   │ 70    │ 22    │ 36.4    │ 0.408   │ 36    │\n",
       "│ 324 │ 1     │ 121   │ 78    │ 39    │ 39.0    │ 0.261   │ 28    │\n",
       "│ 325 │ 3     │ 108   │ 62    │ 24    │ 26.0    │ 0.223   │ 25    │\n",
       "│ 326 │ 0     │ 181   │ 88    │ 44    │ 43.3    │ 0.222   │ 26    │\n",
       "│ 327 │ 1     │ 128   │ 88    │ 39    │ 36.5    │ 1.057   │ 37    │\n",
       "│ 328 │ 2     │ 88    │ 58    │ 26    │ 28.4    │ 0.766   │ 22    │\n",
       "│ 329 │ 9     │ 170   │ 74    │ 31    │ 44.0    │ 0.403   │ 43    │\n",
       "│ 330 │ 10    │ 101   │ 76    │ 48    │ 32.9    │ 0.171   │ 63    │\n",
       "│ 331 │ 5     │ 121   │ 72    │ 23    │ 26.2    │ 0.245   │ 30    │\n",
       "│ 332 │ 1     │ 93    │ 70    │ 31    │ 30.4    │ 0.315   │ 23    │"
      ]
     },
     "execution_count": 6,
     "metadata": {},
     "output_type": "execute_result"
    }
   ],
   "source": [
    "ds = dataset(\"MASS\", \"Pima.te\")"
   ]
  },
  {
   "cell_type": "code",
   "execution_count": 7,
   "metadata": {
    "collapsed": true
   },
   "outputs": [
    {
     "data": {
      "text/plain": [
       "332-element Array{Int32,1}:\n",
       " 148\n",
       "  85\n",
       "  89\n",
       "  78\n",
       " 197\n",
       " 166\n",
       " 118\n",
       " 103\n",
       " 126\n",
       " 119\n",
       "  97\n",
       " 109\n",
       "  88\n",
       "   ⋮\n",
       " 100\n",
       " 147\n",
       " 187\n",
       " 121\n",
       " 108\n",
       " 181\n",
       " 128\n",
       "  88\n",
       " 170\n",
       " 101\n",
       " 121\n",
       "  93"
      ]
     },
     "execution_count": 7,
     "metadata": {},
     "output_type": "execute_result"
    }
   ],
   "source": [
    "y = ds[:Glu]"
   ]
  },
  {
   "cell_type": "code",
   "execution_count": 25,
   "metadata": {},
   "outputs": [
    {
     "data": {
      "text/plain": [
       "8-element Array{Symbol,1}:\n",
       " :NPreg\n",
       " :Glu  \n",
       " :BP   \n",
       " :Skin \n",
       " :BMI  \n",
       " :Ped  \n",
       " :Age  \n",
       " :Type "
      ]
     },
     "execution_count": 25,
     "metadata": {},
     "output_type": "execute_result"
    }
   ],
   "source": [
    "names(ds)"
   ]
  },
  {
   "cell_type": "code",
   "execution_count": 31,
   "metadata": {},
   "outputs": [
    {
     "data": {
      "text/html": [
       "<table class=\"data-frame\"><thead><tr><th></th><th>NPreg</th><th>BP</th><th>Skin</th><th>BMI</th><th>Ped</th><th>Age</th></tr><tr><th></th><th>Int32</th><th>Int32</th><th>Int32</th><th>Float64</th><th>Float64</th><th>Int32</th></tr></thead><tbody><p>332 rows × 6 columns</p><tr><th>1</th><td>6</td><td>72</td><td>35</td><td>33.6</td><td>0.627</td><td>50</td></tr><tr><th>2</th><td>1</td><td>66</td><td>29</td><td>26.6</td><td>0.351</td><td>31</td></tr><tr><th>3</th><td>1</td><td>66</td><td>23</td><td>28.1</td><td>0.167</td><td>21</td></tr><tr><th>4</th><td>3</td><td>50</td><td>32</td><td>31.0</td><td>0.248</td><td>26</td></tr><tr><th>5</th><td>2</td><td>70</td><td>45</td><td>30.5</td><td>0.158</td><td>53</td></tr><tr><th>6</th><td>5</td><td>72</td><td>19</td><td>25.8</td><td>0.587</td><td>51</td></tr><tr><th>7</th><td>0</td><td>84</td><td>47</td><td>45.8</td><td>0.551</td><td>31</td></tr><tr><th>8</th><td>1</td><td>30</td><td>38</td><td>43.3</td><td>0.183</td><td>33</td></tr><tr><th>9</th><td>3</td><td>88</td><td>41</td><td>39.3</td><td>0.704</td><td>27</td></tr><tr><th>10</th><td>9</td><td>80</td><td>35</td><td>29.0</td><td>0.263</td><td>29</td></tr><tr><th>11</th><td>1</td><td>66</td><td>15</td><td>23.2</td><td>0.487</td><td>22</td></tr><tr><th>12</th><td>5</td><td>75</td><td>26</td><td>36.0</td><td>0.546</td><td>60</td></tr><tr><th>13</th><td>3</td><td>58</td><td>11</td><td>24.8</td><td>0.267</td><td>22</td></tr><tr><th>14</th><td>10</td><td>78</td><td>31</td><td>27.6</td><td>0.512</td><td>45</td></tr><tr><th>15</th><td>4</td><td>60</td><td>33</td><td>24.0</td><td>0.966</td><td>33</td></tr><tr><th>16</th><td>9</td><td>76</td><td>37</td><td>32.9</td><td>0.665</td><td>46</td></tr><tr><th>17</th><td>2</td><td>68</td><td>42</td><td>38.2</td><td>0.503</td><td>27</td></tr><tr><th>18</th><td>4</td><td>72</td><td>47</td><td>37.1</td><td>1.39</td><td>56</td></tr><tr><th>19</th><td>3</td><td>64</td><td>25</td><td>34.0</td><td>0.271</td><td>26</td></tr><tr><th>20</th><td>7</td><td>92</td><td>18</td><td>22.7</td><td>0.235</td><td>48</td></tr><tr><th>21</th><td>9</td><td>110</td><td>24</td><td>45.4</td><td>0.721</td><td>54</td></tr><tr><th>22</th><td>0</td><td>66</td><td>39</td><td>42.0</td><td>1.893</td><td>25</td></tr><tr><th>23</th><td>2</td><td>70</td><td>27</td><td>28.0</td><td>0.586</td><td>22</td></tr><tr><th>24</th><td>1</td><td>80</td><td>11</td><td>19.4</td><td>0.491</td><td>22</td></tr><tr><th>25</th><td>1</td><td>50</td><td>15</td><td>24.2</td><td>0.526</td><td>26</td></tr><tr><th>26</th><td>5</td><td>66</td><td>21</td><td>24.4</td><td>0.342</td><td>30</td></tr><tr><th>27</th><td>7</td><td>66</td><td>42</td><td>34.7</td><td>0.718</td><td>42</td></tr><tr><th>28</th><td>1</td><td>50</td><td>10</td><td>23.0</td><td>0.248</td><td>21</td></tr><tr><th>29</th><td>0</td><td>64</td><td>41</td><td>41.5</td><td>0.173</td><td>22</td></tr><tr><th>30</th><td>5</td><td>74</td><td>27</td><td>29.0</td><td>0.203</td><td>32</td></tr><tr><th>&vellip;</th><td>&vellip;</td><td>&vellip;</td><td>&vellip;</td><td>&vellip;</td><td>&vellip;</td><td>&vellip;</td></tr></tbody></table>"
      ],
      "text/latex": [
       "\\begin{tabular}{r|cccccc}\n",
       "\t& NPreg & BP & Skin & BMI & Ped & Age\\\\\n",
       "\t\\hline\n",
       "\t& Int32 & Int32 & Int32 & Float64 & Float64 & Int32\\\\\n",
       "\t\\hline\n",
       "\t1 & 6 & 72 & 35 & 33.6 & 0.627 & 50 \\\\\n",
       "\t2 & 1 & 66 & 29 & 26.6 & 0.351 & 31 \\\\\n",
       "\t3 & 1 & 66 & 23 & 28.1 & 0.167 & 21 \\\\\n",
       "\t4 & 3 & 50 & 32 & 31.0 & 0.248 & 26 \\\\\n",
       "\t5 & 2 & 70 & 45 & 30.5 & 0.158 & 53 \\\\\n",
       "\t6 & 5 & 72 & 19 & 25.8 & 0.587 & 51 \\\\\n",
       "\t7 & 0 & 84 & 47 & 45.8 & 0.551 & 31 \\\\\n",
       "\t8 & 1 & 30 & 38 & 43.3 & 0.183 & 33 \\\\\n",
       "\t9 & 3 & 88 & 41 & 39.3 & 0.704 & 27 \\\\\n",
       "\t10 & 9 & 80 & 35 & 29.0 & 0.263 & 29 \\\\\n",
       "\t11 & 1 & 66 & 15 & 23.2 & 0.487 & 22 \\\\\n",
       "\t12 & 5 & 75 & 26 & 36.0 & 0.546 & 60 \\\\\n",
       "\t13 & 3 & 58 & 11 & 24.8 & 0.267 & 22 \\\\\n",
       "\t14 & 10 & 78 & 31 & 27.6 & 0.512 & 45 \\\\\n",
       "\t15 & 4 & 60 & 33 & 24.0 & 0.966 & 33 \\\\\n",
       "\t16 & 9 & 76 & 37 & 32.9 & 0.665 & 46 \\\\\n",
       "\t17 & 2 & 68 & 42 & 38.2 & 0.503 & 27 \\\\\n",
       "\t18 & 4 & 72 & 47 & 37.1 & 1.39 & 56 \\\\\n",
       "\t19 & 3 & 64 & 25 & 34.0 & 0.271 & 26 \\\\\n",
       "\t20 & 7 & 92 & 18 & 22.7 & 0.235 & 48 \\\\\n",
       "\t21 & 9 & 110 & 24 & 45.4 & 0.721 & 54 \\\\\n",
       "\t22 & 0 & 66 & 39 & 42.0 & 1.893 & 25 \\\\\n",
       "\t23 & 2 & 70 & 27 & 28.0 & 0.586 & 22 \\\\\n",
       "\t24 & 1 & 80 & 11 & 19.4 & 0.491 & 22 \\\\\n",
       "\t25 & 1 & 50 & 15 & 24.2 & 0.526 & 26 \\\\\n",
       "\t26 & 5 & 66 & 21 & 24.4 & 0.342 & 30 \\\\\n",
       "\t27 & 7 & 66 & 42 & 34.7 & 0.718 & 42 \\\\\n",
       "\t28 & 1 & 50 & 10 & 23.0 & 0.248 & 21 \\\\\n",
       "\t29 & 0 & 64 & 41 & 41.5 & 0.173 & 22 \\\\\n",
       "\t30 & 5 & 74 & 27 & 29.0 & 0.203 & 32 \\\\\n",
       "\t$\\dots$ & $\\dots$ & $\\dots$ & $\\dots$ & $\\dots$ & $\\dots$ & $\\dots$ \\\\\n",
       "\\end{tabular}\n"
      ],
      "text/plain": [
       "332×6 DataFrame\n",
       "│ Row │ NPreg │ BP    │ Skin  │ BMI     │ Ped     │ Age   │\n",
       "│     │ \u001b[90mInt32\u001b[39m │ \u001b[90mInt32\u001b[39m │ \u001b[90mInt32\u001b[39m │ \u001b[90mFloat64\u001b[39m │ \u001b[90mFloat64\u001b[39m │ \u001b[90mInt32\u001b[39m │\n",
       "├─────┼───────┼───────┼───────┼─────────┼─────────┼───────┤\n",
       "│ 1   │ 6     │ 72    │ 35    │ 33.6    │ 0.627   │ 50    │\n",
       "│ 2   │ 1     │ 66    │ 29    │ 26.6    │ 0.351   │ 31    │\n",
       "│ 3   │ 1     │ 66    │ 23    │ 28.1    │ 0.167   │ 21    │\n",
       "│ 4   │ 3     │ 50    │ 32    │ 31.0    │ 0.248   │ 26    │\n",
       "│ 5   │ 2     │ 70    │ 45    │ 30.5    │ 0.158   │ 53    │\n",
       "│ 6   │ 5     │ 72    │ 19    │ 25.8    │ 0.587   │ 51    │\n",
       "│ 7   │ 0     │ 84    │ 47    │ 45.8    │ 0.551   │ 31    │\n",
       "│ 8   │ 1     │ 30    │ 38    │ 43.3    │ 0.183   │ 33    │\n",
       "│ 9   │ 3     │ 88    │ 41    │ 39.3    │ 0.704   │ 27    │\n",
       "│ 10  │ 9     │ 80    │ 35    │ 29.0    │ 0.263   │ 29    │\n",
       "⋮\n",
       "│ 322 │ 1     │ 94    │ 41    │ 49.3    │ 0.358   │ 27    │\n",
       "│ 323 │ 3     │ 70    │ 22    │ 36.4    │ 0.408   │ 36    │\n",
       "│ 324 │ 1     │ 78    │ 39    │ 39.0    │ 0.261   │ 28    │\n",
       "│ 325 │ 3     │ 62    │ 24    │ 26.0    │ 0.223   │ 25    │\n",
       "│ 326 │ 0     │ 88    │ 44    │ 43.3    │ 0.222   │ 26    │\n",
       "│ 327 │ 1     │ 88    │ 39    │ 36.5    │ 1.057   │ 37    │\n",
       "│ 328 │ 2     │ 58    │ 26    │ 28.4    │ 0.766   │ 22    │\n",
       "│ 329 │ 9     │ 74    │ 31    │ 44.0    │ 0.403   │ 43    │\n",
       "│ 330 │ 10    │ 76    │ 48    │ 32.9    │ 0.171   │ 63    │\n",
       "│ 331 │ 5     │ 72    │ 23    │ 26.2    │ 0.245   │ 30    │\n",
       "│ 332 │ 1     │ 70    │ 31    │ 30.4    │ 0.315   │ 23    │"
      ]
     },
     "execution_count": 31,
     "metadata": {},
     "output_type": "execute_result"
    }
   ],
   "source": [
    "x = ds[:, [:NPreg, :BP, :Skin, :BMI, :Ped, :Age]]"
   ]
  },
  {
   "cell_type": "code",
   "execution_count": 33,
   "metadata": {},
   "outputs": [
    {
     "name": "stderr",
     "output_type": "stream",
     "text": [
      "┌ Warning: `convert(::Type{Array}, df::AbstractDataFrame)` is deprecated, use `convert(Matrix, df)` instead.\n",
      "│   caller = top-level scope at In[33]:1\n",
      "└ @ Core In[33]:1\n"
     ]
    },
    {
     "ename": "MethodError",
     "evalue": "MethodError: no method matching fit(::Type{LassoPath}, ::Array{Float64,2}, ::Array{Int32,1}, ::Type{Normal})\nClosest candidates are:\n  fit(!Matched::Type{StatsBase.Histogram}, ::Any...; kwargs...) at /home/zach/.julia/packages/StatsBase/XePnn/src/hist.jl:319\n  fit(!Matched::StatsBase.StatisticalModel, ::Any...) at /home/zach/.julia/packages/StatsBase/XePnn/src/statmodels.jl:151\n  fit(!Matched::Type{D<:Distribution}, ::Any...) where D<:Distribution at /home/zach/.julia/packages/Distributions/fMt8c/src/genericfit.jl:34\n  ...",
     "output_type": "error",
     "traceback": [
      "MethodError: no method matching fit(::Type{LassoPath}, ::Array{Float64,2}, ::Array{Int32,1}, ::Type{Normal})\nClosest candidates are:\n  fit(!Matched::Type{StatsBase.Histogram}, ::Any...; kwargs...) at /home/zach/.julia/packages/StatsBase/XePnn/src/hist.jl:319\n  fit(!Matched::StatsBase.StatisticalModel, ::Any...) at /home/zach/.julia/packages/StatsBase/XePnn/src/statmodels.jl:151\n  fit(!Matched::Type{D<:Distribution}, ::Any...) where D<:Distribution at /home/zach/.julia/packages/Distributions/fMt8c/src/genericfit.jl:34\n  ...",
      "",
      "Stacktrace:",
      " [1] top-level scope at In[33]:1"
     ]
    }
   ],
   "source": [
    "fit(LassoPath, convert(Array, x), convert(Array, y), Normal)"
   ]
  },
  {
   "cell_type": "code",
   "execution_count": null,
   "metadata": {},
   "outputs": [],
   "source": []
  }
 ],
 "metadata": {
  "kernelspec": {
   "display_name": "Julia 1.0.3",
   "language": "julia",
   "name": "julia-1.0"
  },
  "language_info": {
   "file_extension": ".jl",
   "mimetype": "application/julia",
   "name": "julia",
   "version": "1.0.3"
  }
 },
 "nbformat": 4,
 "nbformat_minor": 2
}
