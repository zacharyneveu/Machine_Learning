{
 "cells": [
  {
   "cell_type": "markdown",
   "metadata": {},
   "source": [
    "# Homework 1\n",
    "Zachary Neveu"
   ]
  },
  {
   "cell_type": "markdown",
   "metadata": {},
   "source": [
    "## 1.1"
   ]
  },
  {
   "cell_type": "markdown",
   "metadata": {},
   "source": [
    "### a)\n",
    "$var(x) = E[(X-\\mu)^2]$ (definition)  \n",
    "$var(x) = E[(x-E[x])^2]$  \n",
    "$var(x) = E[(x-E[x])(x-E[x])]$  \n",
    "$var(x) = E[x^2 - 2XE[x] +E[x]^2]$  \n",
    "$var(x) = E[x^2] - 2E[XE[x]] +E[E[x]^2]]$  \n",
    "$var(x) = E[x^2] - 2E[X^2] +E[x]^2$  \n",
    "$var(x) = E[x^2] - E[X]^2$  \n",
    "$var(x) = E[x^2] - \\mu^2$  "
   ]
  },
  {
   "cell_type": "markdown",
   "metadata": {},
   "source": [
    "### b)\n",
    "$var(x) = E[(x-E[x])(x-E(x)^T]$ (definition)  \n",
    "$var(x) = E[xx^T - XE[x]^T - E[x]x^T + E[X]E[X]^T$\n",
    "$var(x) = E[xx^T] - E[x]E[x]^T - E[x]E[x]^T + E[X]E[X]^T$  \n",
    "$var(x) = E[xx^T] - E[x]E[x]^T$  \n",
    "$var(x) = E[xx^T] - \\mu \\mu^T$  "
   ]
  },
  {
   "cell_type": "markdown",
   "metadata": {},
   "source": [
    "## 1.2"
   ]
  },
  {
   "cell_type": "markdown",
   "metadata": {},
   "source": [
    "### A)\n",
    "$\\int_{-\\infty}^{\\infty}P(x|\\omega_i) = \\int_{-\\infty}^{a_i} Ae^{\\frac{x-a_i}{b_i}}dx+ \\int_{a_i}^{\\infty}Ae^{\\frac{-(x-a_i)}{b_i}}dx = 1$ where A is a normalizing factor.\n",
    "\n",
    "$1 = A*( b_i e^{\\frac{x-a_i}{b_i}}|_{-\\infty}^{a_i} + b_i e^{\\frac{-(x-a_i)}{b_i}}|_{a_i}^{\\infty})$  \n",
    "$1 = A*(b_i*(1-0] + -b_i*(0-1))$  \n",
    "$A = 1/(2*b_i)$  \n",
    "$p(x|\\omega_i) \\sim \\frac{1}{2b_i} * e^{\\frac{-|x-a_i|}{b_i}}$"
   ]
  },
  {
   "cell_type": "markdown",
   "metadata": {},
   "source": [
    "### b)\n",
    "$\\frac{P(x|\\omega_1)}{P(x|\\omega_2)} = \\frac{\\frac{e^{-|x-a_1|/b_1}}{2b_1}}{\\frac{e^{-|x-a_1|/b_1}}{2b_1}}$\n",
    "$\\frac{P(x|\\omega_1)}{P(x|\\omega_2)} = \\frac{b_2}{b_1} e^{\\frac{-|x-a_1|}{b_1} + \\frac{|x-a_2|}{b_2}}$"
   ]
  },
  {
   "cell_type": "markdown",
   "metadata": {},
   "source": [
    "### C)"
   ]
  },
  {
   "cell_type": "code",
   "execution_count": 18,
   "metadata": {},
   "outputs": [],
   "source": [
    "function y = likeratio(x, a, b)\n",
    "    y = b(2)./b(1) .* exp(-abs(x-1)./b(1) + abs(x)./b(2));\n",
    "end"
   ]
  },
  {
   "cell_type": "code",
   "execution_count": 20,
   "metadata": {},
   "outputs": [],
   "source": [
    "a = [0 1];\n",
    "b = [1 2];\n",
    "ratios = likeratio(linspace(-2, 2), a, b);"
   ]
  },
  {
   "cell_type": "code",
   "execution_count": 29,
   "metadata": {},
   "outputs": [
    {
     "data": {
      "image/png": "[encoded data removed]",
      "text/plain": [
       "<IPython.core.display.Image object>"
      ]
     },
     "metadata": {},
     "output_type": "display_data"
    }
   ],
   "source": [
    "plot(linspace(-2, 2), ratios, 'DisplayName', 'Likelihood Ratio')\n",
    "xlabel('x')\n",
    "ylabel('likelihood ratio')\n",
    "title('Likelihood ratio vs. x')\n",
    "legend('Location', 'northwest')"
   ]
  },
  {
   "cell_type": "markdown",
   "metadata": {},
   "source": [
    "## 1.3"
   ]
  },
  {
   "cell_type": "code",
   "execution_count": 47,
   "metadata": {},
   "outputs": [
    {
     "data": {
      "application/vnd.plotly.v1+json": {
       "data": [
        {
         "colorbar": {
          "title": {
           "text": ""
          }
         },
         "fill": "tozeroy",
         "fillcolor": "rgba(0, 154, 250, 0.500)",
         "hoverinfo": "text",
         "legendgroup": "y1",
         "line": {
          "color": "rgba(0, 154, 250, 0.500)",
          "dash": "solid",
          "shape": "linear",
          "width": 1
         },
         "mode": "lines",
         "name": "y1",
         "showlegend": true,
         "text": [
          null,
          null,
          null,
          null,
          null,
          null,
          null,
          null,
          null,
          null,
          null,
          null,
          null,
          null,
          null,
          null,
          null,
          null,
          null
         ],
         "type": "scatter",
         "x": [
          3.0292974570593647,
          3.3001947515051184,
          3.462992733916872,
          3.600636356147297,
          3.750155910099154,
          3.887999713603884,
          4.035782839219469,
          4.2070040830155975,
          4.359165318333064,
          4.49259700962066,
          4.638073369965959,
          4.784414336258436,
          4.946212987873213,
          5.10016032223453,
          5.260229830534052,
          5.394974261000535,
          5.5594819379590925,
          5.714124006386125,
          5.96187259204818
         ],
         "xaxis": "x",
         "y": [
          0.3333333333333333,
          0.3333333333333333,
          0.3333333333333333,
          0.3333333333333333,
          0.3333333333333333,
          0.3333333333333333,
          0.3333333333333333,
          0.3333333333333333,
          0.3333333333333333,
          0.3333333333333333,
          0.3333333333333333,
          0.3333333333333333,
          0.3333333333333333,
          0.3333333333333333,
          0.3333333333333333,
          0.3333333333333333,
          0.3333333333333333,
          0.3333333333333333,
          0.3333333333333333
         ],
         "yaxis": "y",
         "zmax": 0.1,
         "zmin": -0.1
        },
        {
         "colorbar": {
          "title": {
           "text": ""
          }
         },
         "fill": "tozeroy",
         "fillcolor": "rgba(227, 111, 71, 0.500)",
         "hoverinfo": "text",
         "legendgroup": "y2",
         "line": {
          "color": "rgba(227, 111, 71, 0.500)",
          "dash": "solid",
          "shape": "linear",
          "width": 1
         },
         "mode": "lines",
         "name": "y2",
         "showlegend": true,
         "text": [
          null,
          null,
          null,
          null,
          null,
          null,
          null,
          null,
          null,
          null,
          null,
          null,
          null,
          null,
          null,
          null,
          null,
          null,
          null
         ],
         "type": "scatter",
         "x": [
          5.0195316380395765,
          5.200129834336746,
          5.308661822611247,
          5.400424237431531,
          5.5001039400661025,
          5.5919998090692555,
          5.6905218928129795,
          5.804669388677064,
          5.9061102122220435,
          5.99506467308044,
          6.092048913310639,
          6.189609557505625,
          6.297475325248809,
          6.4001068814896875,
          6.506819887022701,
          6.59664950733369,
          6.706321291972729,
          6.809416004257417,
          6.97458172803212
         ],
         "xaxis": "x",
         "y": [
          0.5,
          0.5,
          0.5,
          0.5,
          0.5,
          0.5,
          0.5,
          0.5,
          0.5,
          0.5,
          0.5,
          0.5,
          0.5,
          0.5,
          0.5,
          0.5,
          0.5,
          0.5,
          0.5
         ],
         "yaxis": "y",
         "zmax": 0.1,
         "zmin": -0.1
        }
       ],
       "layout": {
        "annotations": [],
        "height": 400,
        "legend": {
         "bgcolor": "rgba(255, 255, 255, 1.000)",
         "bordercolor": "rgba(0, 0, 0, 1)",
         "font": {
          "color": "rgba(0, 0, 0, 1)",
          "family": "sans-serif",
          "size": 11
         },
         "tracegroupgap": 0,
         "x": 1,
         "y": 1
        },
        "margin": {
         "b": 20,
         "l": 0,
         "r": 0,
         "t": 20
        },
        "paper_bgcolor": "rgba(255, 255, 255, 1.000)",
        "plot_bgcolor": "rgba(255, 255, 255, 1.000)",
        "showlegend": true,
        "width": 600,
        "xaxis": {
         "anchor": "y",
         "domain": [
          0.05100612423447069,
          0.9934383202099737
         ],
         "gridcolor": "rgba(0, 0, 0, 0.1)",
         "gridwidth": 0.5,
         "linecolor": "rgba(0, 0, 0, 1)",
         "mirror": false,
         "range": [
          2.910938928930182,
          7.092940256161302
         ],
         "showgrid": true,
         "showline": true,
         "showticklabels": true,
         "tickangle": 0,
         "tickcolor": "rgb(0, 0, 0)",
         "tickfont": {
          "color": "rgba(0, 0, 0, 1)",
          "family": "sans-serif",
          "size": 11
         },
         "tickmode": "array",
         "ticks": "inside",
         "ticktext": [
          "3",
          "4",
          "5",
          "6",
          "7"
         ],
         "tickvals": [
          3,
          4,
          5,
          6,
          7
         ],
         "title": {
          "font": {
           "color": "rgba(0, 0, 0, 1)",
           "family": "sans-serif",
           "size": 15
          },
          "text": ""
         },
         "type": "linear",
         "visible": true,
         "zeroline": false,
         "zerolinecolor": "rgba(0, 0, 0, 1)"
        },
        "yaxis": {
         "anchor": "x",
         "domain": [
          0.03762029746281716,
          0.9901574803149606
         ],
         "gridcolor": "rgba(0, 0, 0, 0.1)",
         "gridwidth": 0.5,
         "linecolor": "rgba(0, 0, 0, 1)",
         "mirror": false,
         "range": [
          -0.015,
          0.515
         ],
         "showgrid": true,
         "showline": true,
         "showticklabels": true,
         "tickangle": 0,
         "tickcolor": "rgb(0, 0, 0)",
         "tickfont": {
          "color": "rgba(0, 0, 0, 1)",
          "family": "sans-serif",
          "size": 11
         },
         "tickmode": "array",
         "ticks": "inside",
         "ticktext": [
          "0.0",
          "0.1",
          "0.2",
          "0.3",
          "0.4",
          "0.5"
         ],
         "tickvals": [
          0,
          0.1,
          0.2,
          0.30000000000000004,
          0.4,
          0.5
         ],
         "title": {
          "font": {
           "color": "rgba(0, 0, 0, 1)",
           "family": "sans-serif",
           "size": 15
          },
          "text": ""
         },
         "type": "linear",
         "visible": true,
         "zeroline": false,
         "zerolinecolor": "rgba(0, 0, 0, 1)"
        }
       }
      },
      "image/png": "[encoded data removed]",
      "text/html": [
       "    <div id=\"79df1be8-3e59-4e78-9c81-93d47051c8bc\" style=\"width:600px;height:400px;\"></div>\n",
       "    <script>\n",
       "    PLOT = document.getElementById('79df1be8-3e59-4e78-9c81-93d47051c8bc');\n",
       "    Plotly.plot(PLOT, [{\"xaxis\":\"x1\",\"colorbar\":{\"title\":\"\"},\"fill\":\"tozeroy\",\"yaxis\":\"y1\",\"text\":[null,null,null,null,null,null,null,null,null,null,null,null,null,null,null,null,null,null,null],\"x\":[3.0292974570593647,3.3001947515051184,3.462992733916872,3.600636356147297,3.750155910099154,3.887999713603884,4.035782839219469,4.2070040830155975,4.359165318333064,4.49259700962066,4.638073369965959,4.784414336258436,4.946212987873213,5.10016032223453,5.260229830534052,5.394974261000535,5.5594819379590925,5.714124006386125,5.96187259204818],\"showlegend\":true,\"mode\":\"lines\",\"fillcolor\":\"rgba(0, 154, 250, 0.500)\",\"name\":\"y1\",\"zmin\":-0.1,\"legendgroup\":\"y1\",\"zmax\":0.1,\"line\":{\"color\":\"rgba(0, 154, 250, 0.500)\",\"shape\":\"linear\",\"dash\":\"solid\",\"width\":1},\"y\":[0.3333333333333333,0.3333333333333333,0.3333333333333333,0.3333333333333333,0.3333333333333333,0.3333333333333333,0.3333333333333333,0.3333333333333333,0.3333333333333333,0.3333333333333333,0.3333333333333333,0.3333333333333333,0.3333333333333333,0.3333333333333333,0.3333333333333333,0.3333333333333333,0.3333333333333333,0.3333333333333333,0.3333333333333333],\"type\":\"scatter\",\"hoverinfo\":\"text\"},{\"xaxis\":\"x1\",\"colorbar\":{\"title\":\"\"},\"fill\":\"tozeroy\",\"yaxis\":\"y1\",\"text\":[null,null,null,null,null,null,null,null,null,null,null,null,null,null,null,null,null,null,null],\"x\":[5.0195316380395765,5.200129834336746,5.308661822611247,5.400424237431531,5.5001039400661025,5.5919998090692555,5.6905218928129795,5.804669388677064,5.9061102122220435,5.99506467308044,6.092048913310639,6.189609557505625,6.297475325248809,6.4001068814896875,6.506819887022701,6.59664950733369,6.706321291972729,6.809416004257417,6.97458172803212],\"showlegend\":true,\"mode\":\"lines\",\"fillcolor\":\"rgba(227, 111, 71, 0.500)\",\"name\":\"y2\",\"zmin\":-0.1,\"legendgroup\":\"y2\",\"zmax\":0.1,\"line\":{\"color\":\"rgba(227, 111, 71, 0.500)\",\"shape\":\"linear\",\"dash\":\"solid\",\"width\":1},\"y\":[0.5,0.5,0.5,0.5,0.5,0.5,0.5,0.5,0.5,0.5,0.5,0.5,0.5,0.5,0.5,0.5,0.5,0.5,0.5],\"type\":\"scatter\",\"hoverinfo\":\"text\"}], {\"showlegend\":true,\"xaxis\":{\"showticklabels\":true,\"gridwidth\":0.5,\"tickvals\":[3.0,4.0,5.0,6.0,7.0],\"visible\":true,\"ticks\":\"inside\",\"range\":[2.910938928930182,7.092940256161302],\"domain\":[0.05100612423447069,0.9934383202099737],\"tickmode\":\"array\",\"linecolor\":\"rgba(0, 0, 0, 1.000)\",\"showgrid\":true,\"title\":\"\",\"mirror\":false,\"tickangle\":0,\"showline\":true,\"gridcolor\":\"rgba(0, 0, 0, 0.100)\",\"titlefont\":{\"color\":\"rgba(0, 0, 0, 1.000)\",\"family\":\"sans-serif\",\"size\":15},\"tickcolor\":\"rgb(0, 0, 0)\",\"ticktext\":[\"3\",\"4\",\"5\",\"6\",\"7\"],\"zeroline\":false,\"type\":\"-\",\"tickfont\":{\"color\":\"rgba(0, 0, 0, 1.000)\",\"family\":\"sans-serif\",\"size\":11},\"zerolinecolor\":\"rgba(0, 0, 0, 1.000)\",\"anchor\":\"y1\"},\"paper_bgcolor\":\"rgba(255, 255, 255, 1.000)\",\"annotations\":[],\"height\":400,\"margin\":{\"l\":0,\"b\":20,\"r\":0,\"t\":20},\"plot_bgcolor\":\"rgba(255, 255, 255, 1.000)\",\"yaxis\":{\"showticklabels\":true,\"gridwidth\":0.5,\"tickvals\":[0.0,0.1,0.2,0.30000000000000004,0.4,0.5],\"visible\":true,\"ticks\":\"inside\",\"range\":[-0.015,0.515],\"domain\":[0.03762029746281716,0.9901574803149606],\"tickmode\":\"array\",\"linecolor\":\"rgba(0, 0, 0, 1.000)\",\"showgrid\":true,\"title\":\"\",\"mirror\":false,\"tickangle\":0,\"showline\":true,\"gridcolor\":\"rgba(0, 0, 0, 0.100)\",\"titlefont\":{\"color\":\"rgba(0, 0, 0, 1.000)\",\"family\":\"sans-serif\",\"size\":15},\"tickcolor\":\"rgb(0, 0, 0)\",\"ticktext\":[\"0.0\",\"0.1\",\"0.2\",\"0.3\",\"0.4\",\"0.5\"],\"zeroline\":false,\"type\":\"-\",\"tickfont\":{\"color\":\"rgba(0, 0, 0, 1.000)\",\"family\":\"sans-serif\",\"size\":11},\"zerolinecolor\":\"rgba(0, 0, 0, 1.000)\",\"anchor\":\"x1\"},\"legend\":{\"tracegroupgap\":0,\"bordercolor\":\"rgba(0, 0, 0, 1.000)\",\"bgcolor\":\"rgba(255, 255, 255, 1.000)\",\"font\":{\"color\":\"rgba(0, 0, 0, 1.000)\",\"family\":\"sans-serif\",\"size\":11},\"y\":1.0,\"x\":1.0},\"width\":600});\n",
       "    </script>\n"
      ]
     },
     "execution_count": 47,
     "metadata": {},
     "output_type": "execute_result"
    }
   ],
   "source": [
    "plot([Uniform(3, 6), Uniform(5, 7)], fill=0, alpha=0.5)"
   ]
  },
  {
   "cell_type": "markdown",
   "metadata": {},
   "source": [
    "$P_{error}$ will always be the area shaded by both distributions.  Mathematically, this is given by: $P{error} = |\\frac{1}{(t-r)}-\\frac{1}{(a-b)}|*(b-r)$"
   ]
  },
  {
   "cell_type": "markdown",
   "metadata": {},
   "source": [
    "## 1.4"
   ]
  },
  {
   "cell_type": "markdown",
   "metadata": {},
   "source": [
    "### a)\n",
    "decision boundary = $\\gamma = P(X=x|\\omega_1) \\gtrless P(X=x|\\omega_2)$  \n",
    "If $\\mu \\ne 1$, then $\\gamma$ will take two values.  \n",
    "$$\\gamma = \\frac{1}{\\sqrt{2\\pi}}e^{-\\frac{(x)^2}{2}} = \\frac{1}{\\sqrt{2\\pi \\sigma^2}}e^{-\\frac{(x-\\mu)^2}{2\\sigma^2}}$$"
   ]
  },
  {
   "cell_type": "markdown",
   "metadata": {},
   "source": [
    "$$-\\frac{1}{2} ln(2\\pi) - \\frac{1}{2}ln(1) - \\frac{1}{2}{(x)^2} = -\\frac{1}{2} ln(2\\pi) - \\frac{1}{2}ln(\\sigma^2) - \\frac{1}{2}\\frac{(x)^2}{\\sigma^2}$$"
   ]
  },
  {
   "cell_type": "markdown",
   "metadata": {},
   "source": [
    "$$0 = \\frac{1}{2}[ln(\\sigma^2) + \\frac{(x-\\mu)^2}{\\sigma^2} - x^2]$$"
   ]
  },
  {
   "cell_type": "markdown",
   "metadata": {},
   "source": [
    "$$0 = \\frac{1}{2}[(-1+\\frac{1}{\\sigma^2})x^2 - 2\\frac{\\mu}{\\sigma^2}x + (\\frac{\\mu^2}{\\sigma^2} + ln(\\sigma^2))]$$"
   ]
  },
  {
   "cell_type": "markdown",
   "metadata": {},
   "source": [
    "$$x = \\frac{2\\frac{\\mu}{\\sigma^2} \\pm \\sqrt{(-2\\frac{\\mu}{\\sigma^2})^2 - 4*(-1+\\frac{1}{\\sigma^2})*(\\frac{\\mu^2}{\\sigma^2} + ln(\\sigma^2))}}{2*(-1+\\frac{1}{\\sigma^2})}$$"
   ]
  },
  {
   "cell_type": "markdown",
   "metadata": {},
   "source": [
    "### b)"
   ]
  },
  {
   "cell_type": "code",
   "execution_count": 52,
   "metadata": {},
   "outputs": [
    {
     "data": {
      "image/png": "[encoded data removed]",
      "text/plain": [
       "<IPython.core.display.Image object>"
      ]
     },
     "metadata": {},
     "output_type": "display_data"
    }
   ],
   "source": [
    "x = linspace(-6, 6);\n",
    "gamma = [1.18 -1.88];\n",
    "area(x, normpdf(x, 0,1), 'DisplayName', '\\omega_1')\n",
    "hold on\n",
    "area(x, normpdf(x, 1, 2), 'DisplayName', '\\omega_2')\n",
    "plot([1, 1], [0, 0.5], 'DisplayName', '\\gamma')\n",
    "title('Class Conditional PDFs')\n",
    "xlabel('x')\n",
    "ylabel('p(x|\\omega_i)')\n",
    "legend('Location', 'northwest')\n",
    "legend boxoff"
   ]
  },
  {
   "cell_type": "markdown",
   "metadata": {},
   "source": [
    "Note: following plots assume $\\sigma^2 = 1$ as I was unable to solve for the posterior probabilities when $\\sigma_1^2 \\ne \\sigma_2^2$.  For the case where $\\sigma_1^2 \\ne \\sigma_2^2$, there is a single decision boundary at $\\gamma = \\frac{\\mu_2 + \\mu_1}{2}$."
   ]
  },
  {
   "cell_type": "code",
   "execution_count": 64,
   "metadata": {},
   "outputs": [],
   "source": [
    "p_2_given_x = exp(-(x-1).^2./(4))./(exp(-(x.^2./(2*2)))+exp(-(x-1).^2./(4)));\n",
    "p_1_given_x = exp(-(x.^2./(2*2)))./(exp(-(x.^2./(2*2)))+exp(-(x-1).^2./(4)));"
   ]
  },
  {
   "cell_type": "code",
   "execution_count": 65,
   "metadata": {},
   "outputs": [
    {
     "data": {
      "image/png": "[encoded data removed]",
      "text/plain": [
       "<IPython.core.display.Image object>"
      ]
     },
     "metadata": {},
     "output_type": "display_data"
    }
   ],
   "source": [
    "hold on\n",
    "plot(x, p_2_given_x, 'DisplayName', 'P(\\omega_2 | x)')\n",
    "plot(x, p_1_given_x, 'DisplayName', 'P(\\omega_1 | x)')\n",
    "xlabel('x')\n",
    "ylabel('P(\\omega_i|x)')\n",
    "title('Posterior Probabilities')\n",
    "legend('Location', 'east')\n",
    "legend boxoff"
   ]
  },
  {
   "cell_type": "markdown",
   "metadata": {},
   "source": [
    "### c)\n",
    "Note: Following work assumes $\\sigma^2 = 1$ for the same reasons as part b.  \n",
    "$p_e = \\int_{-\\infty}^{\\gamma}p(x|\\omega_2) + \\int_{\\gamma}^{\\infty}p(x|\\omega_1)$"
   ]
  },
  {
   "cell_type": "markdown",
   "metadata": {},
   "source": [
    "$p_e = NormalCDF(-\\infty, 0.5, 1, 1) + (1 - NormalCDF(-\\infty, 0.5, 0, 1))$"
   ]
  },
  {
   "cell_type": "markdown",
   "metadata": {},
   "source": [
    "$p_e = 0.3085 + 1 - 0.69146 = .617$"
   ]
  },
  {
   "cell_type": "markdown",
   "metadata": {},
   "source": [
    "### d)\n",
    "\n",
    "In the case that $\\mu = 0$ & $\\sigma^2 \\gg 1$, the only difference between the classes is their variance.  A sample close to 0 will then be classified as $\\omega_1$, while a sample further away from 0 will be classified as $\\omega_2$.  One practical example of a classifification problem with these types of distributions might be detecting a voice over a telephone line.  If the voice is absent, the audio samples taken will have a low-variance distribution centered around 0. If the voice is present, the samples will still be centered around 0, however they will have a much larger variance."
   ]
  }
 ],
 "metadata": {
  "kernelspec": {
   "display_name": "Octave",
   "language": "octave",
   "name": "octave"
  },
  "language_info": {
   "file_extension": ".m",
   "help_links": [
    {
     "text": "GNU Octave",
     "url": "https://www.gnu.org/software/octave/support.html"
    },
    {
     "text": "Octave Kernel",
     "url": "https://github.com/Calysto/octave_kernel"
    },
    {
     "text": "MetaKernel Magics",
     "url": "https://github.com/calysto/metakernel/blob/master/metakernel/magics/README.md"
    }
   ],
   "mimetype": "text/x-octave",
   "name": "octave",
   "version": "4.4.0"
  }
 },
 "nbformat": 4,
 "nbformat_minor": 2
}
