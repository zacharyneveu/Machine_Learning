{
 "cells": [
  {
   "cell_type": "markdown",
   "metadata": {},
   "source": [
    "# Maximum Likelihood"
   ]
  },
  {
   "cell_type": "markdown",
   "metadata": {},
   "source": [
    "## Sufficient Statistics\n",
    "+ How many datapoints are needed to get the correct answer?\n",
    "+ Important because storing TONS of data is expensive\n",
    "+ If PDF takes sum/product of terms only, simply store these values instead of entire feature vectors"
   ]
  },
  {
   "cell_type": "markdown",
   "metadata": {},
   "source": [
    "## Bernoulli Example\n",
    "+ Basically weighted coin experiment\n",
    "+ Sum of results, k, is all the knowledge you need rather than each experiment result\n",
    "+ Taking log-likelihood $L(\\theta, k)$ and setting $\\frac{\\partial L(\\theta, k)}{\\partial k}$ to zero solves for $\\theta$\n",
    "+ $\\theta = \\frac{k}{M}$"
   ]
  },
  {
   "cell_type": "markdown",
   "metadata": {},
   "source": [
    "## MLE for Functions of $\\theta$\n",
    "+ Estimate of $f(\\theta)$ is equal to $f(\\hat{\\theta})$\n",
    "+ First: Estimate $\\theta$ per usual\n",
    "+ Second: Apply function to $\\hat{\\theta}$"
   ]
  },
  {
   "cell_type": "markdown",
   "metadata": {},
   "source": [
    "## Estimating Performance\n",
    "+ Error covariance matrix $C = E[\\hat{\\theta} - \\theta][\\hat{\\theta} - \\theta]^T$\n",
    "+ C can be put in terms of Covariance matrix for $\\hat{\\theta}$ + bias-squared matrix\n",
    "+ For unbiased estimator, bias-squared matrix $\\rightarrow 0$\n",
    "+ Allowing biased estimator can help minimize error by cancelling terms on right side.\n",
    "+ $MSE(\\hat{\\theta_n}) = var(\\hat{\\theta_n}) + b^2(\\hat{\\theta_n})$"
   ]
  },
  {
   "cell_type": "markdown",
   "metadata": {},
   "source": [
    "## Cramer-Rao Bound\n",
    "+ Lower bound on error covariance matrix for unbiased estimators\n",
    "+ Score function $s(\\theta, X) = \\frac{\\partial L(\\theta, x)}{\\partial \\theta}$\n",
    "+ Score function has mean 0. Proof:\n",
    "    $$Es(\\theta, x) = \\int f_{\\theta}(x) \\frac{\\partial}{\\partial \\theta} ln f_{\\theta}(x) dx$$\n",
    "    $$Es(\\theta, x) = \\frac{\\partial}{\\partial \\theta} \\int f_{\\theta}(x) dx$$\n",
    "    + Integral under density = 1, derivative of that is 0, so score function is 0 mean"
   ]
  },
  {
   "cell_type": "markdown",
   "metadata": {},
   "source": [
    "+ Cov. Mat. of score function = Fisher Information Matrix = $J(\\theta)$\n",
    "\n",
    "$$ J(\\theta) = -E\\frac{\\partial}{\\partial \\theta} \\bigg(\\frac{\\partial}{\\partial \\theta} ln f_{\\theta}(x)\\bigg)^T$$\n",
    "\n",
    "+ Avg. Squared error $C = E[\\hat{\\theta} - \\theta][\\hat{\\theta} - \\theta]^T \\ge J^{-1}$ if $J^{-1}$ exists\n",
    "+ If $E[\\hat{\\theta} - \\theta][\\hat{\\theta} - \\theta]^T = J^{-1}(\\theta)$, estimator is efficient.\n",
    "+ This only happens if $\\hat{\\theta}$ is lin. trans. of $s(\\theta, x)$\n",
    "+ If $J(\\theta)(\\hat{\\theta} - \\theta) = s(\\theta, X)$, you have the optimal unbiased estimator.\n",
    "+ Terminology: MVUB $\\rightarrow$ Minimum Variance Unbiased Estimator (best possible unbiased estimator)"
   ]
  },
  {
   "cell_type": "markdown",
   "metadata": {},
   "source": [
    "## Finding Efficient Estimators\n",
    "Old approach:\n",
    "+ Find sufficient statistic, $t(x)$\n",
    "+ Find its mean\n",
    "+ If possible, linearly scale $t(x)$ to make it unbiased\n",
    "\n",
    "New approach:\n",
    "+ Find the score function\n",
    "+ Check for the form $J(\\theta)(\\hat{\\theta} - \\theta) = s(\\theta, X)$\n",
    "+ Take $\\hat{\\theta}$ from above step as efficient estimator"
   ]
  },
  {
   "cell_type": "markdown",
   "metadata": {},
   "source": [
    "## Example: CRB\n",
    "+ **X** from Poisson distribution\n",
    "+ Find score function (first find log likelihood, then take derivative)\n",
    "+ Maximum likelihood estimator - set score function to 0, solve for theta\n",
    "+ Find Fisher Information Matrix from variance in MLE and prove it fits cramer-rao bound."
   ]
  },
  {
   "cell_type": "code",
   "execution_count": null,
   "metadata": {},
   "outputs": [],
   "source": []
  }
 ],
 "metadata": {
  "kernelspec": {
   "display_name": "Octave",
   "language": "octave",
   "name": "octave"
  },
  "language_info": {
   "file_extension": ".m",
   "help_links": [
    {
     "text": "GNU Octave",
     "url": "https://www.gnu.org/software/octave/support.html"
    },
    {
     "text": "Octave Kernel",
     "url": "https://github.com/Calysto/octave_kernel"
    },
    {
     "text": "MetaKernel Magics",
     "url": "https://github.com/calysto/metakernel/blob/master/metakernel/magics/README.md"
    }
   ],
   "mimetype": "text/x-octave",
   "name": "octave",
   "version": "4.4.0"
  }
 },
 "nbformat": 4,
 "nbformat_minor": 2
}
