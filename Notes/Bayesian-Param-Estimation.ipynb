{
 "cells": [
  {
   "cell_type": "markdown",
   "metadata": {},
   "source": [
    "# Bayestion Parameter Estimation"
   ]
  },
  {
   "cell_type": "markdown",
   "metadata": {},
   "source": [
    "## General problem\n",
    "+ Given: random samples from distribution, type of distribution, a guess for the parameter\n",
    "+ To Figure out: parameters of the distribution, $\\theta$"
   ]
  },
  {
   "cell_type": "markdown",
   "metadata": {},
   "source": [
    "goal: compute $p(D|\\theta)$ and maximize it wrt. theta. Basically, what value of the parameter makes the data most probable to have occurred? If data points are independent, it turns out this can be calculated recursively.  $P(D^n|\\theta) = P(x|\\theta)*P(D^{n-1} | \\theta)$.  Another way to think about this is that before we have collected any data, all we have is an initial guess.  Each datapoint we collect will effect our calculation of the optimal $\\theta$ shifting it slightly.  The more data we have, the less each individual point will move $\\hat{\\theta}$."
   ]
  },
  {
   "cell_type": "markdown",
   "metadata": {},
   "source": [
    "Sometimes it's not necessary to save every datapoint.  Describing $D^{n-1}$ by its sufficient statistics (i.e. mean and covariance).  This saves space, and calculation time."
   ]
  },
  {
   "cell_type": "markdown",
   "metadata": {},
   "source": [
    "Convergence: In general, as n gets large, $\\hat{\\theta}$ will converge."
   ]
  }
 ],
 "metadata": {
  "kernelspec": {
   "display_name": "Julia 1.0.3",
   "language": "julia",
   "name": "julia-1.0"
  },
  "language_info": {
   "file_extension": ".jl",
   "mimetype": "application/julia",
   "name": "julia",
   "version": "1.0.3"
  }
 },
 "nbformat": 4,
 "nbformat_minor": 2
}
