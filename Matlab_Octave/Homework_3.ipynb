{
 "cells": [
  {
   "cell_type": "markdown",
   "metadata": {},
   "source": [
    "## 1)"
   ]
  },
  {
   "cell_type": "markdown",
   "metadata": {},
   "source": [
    "Prove that a general whitening transform $A_w = \\Phi \\Lambda ^{-1/2}$ when applied to a Gaussian distribution insures that the ﬁnal distribution has covariance proportional to the identity matrix I. Check whether normalization is preserved by the transformation."
   ]
  },
  {
   "cell_type": "markdown",
   "metadata": {},
   "source": [
    "### Answer\n",
    "$\\Phi \\rightarrow$ eigvecs  \n",
    "$\\Lambda \\rightarrow$ diagonal matrix of eigvals  \n",
    "$\\Sigma = \\Phi \\Lambda \\Phi^t$  \n",
    "\n",
    "$$y =A_w^t x \\sim \\mathcal{N}(A_w^t \\mu, A_w^t\\Sigma A_w)$$\n",
    "$$var(y) = A_w^t \\Sigma A_w$$\n",
    "$$var(y) = \\big(\\Phi \\Lambda^{-1/2}\\big)^t \\Phi \\Lambda \\Phi^t \\big(\\Phi \\Lambda^{-1/2}\\big)$$\n",
    "$$var(y) = \\Lambda^{-1/2} \\Phi \\Phi \\Lambda \\Phi^t \\Phi \\Lambda^{-1/2}$$\n",
    "$$var(y) = \\Lambda^{-1/2} \\Lambda \\Lambda^{-1/2}$$\n",
    "$$var(y) = I$$"
   ]
  },
  {
   "cell_type": "markdown",
   "metadata": {},
   "source": [
    "## 2)\n",
    "Derive the Bhattacharyya error bound without the need for ﬁrst examining the\n",
    "Chernoﬀ bound. Do this as follows:  \n",
    "(a) If a and b are nonnegative numbers, show directly that $min[a,b] \\le \\sqrt{ab}$.  \n",
    "(b) Use this to show that the error rate for a two-category Bayes classiﬁer must\n",
    "satisfy\n",
    "$$P(error) \\le \\sqrt{P(\\omega_1 )P(\\omega_2 )}\\ \\rho \\le \\rho/2$$\n",
    "where ρ is the so-called Bhattacharyya coeﬃcient\n",
    "$\\rho = p(x|\\omega_1 ) p(x|\\omega_2 ) dx$."
   ]
  },
  {
   "cell_type": "markdown",
   "metadata": {},
   "source": [
    "### Answer\n",
    "a)  \n",
    "$$\\sqrt{min(a, b)*min(a,b)} \\le \\sqrt{a*b}$$\n",
    "$$ \\sqrt{min(a, b)^2} \\le \\sqrt{a*b}$$\n",
    "$$ min(a, b) \\le \\sqrt{a*b}$$\n",
    "\n",
    "b)  \n",
    "$a = P(\\omega_1)P(x|\\omega_1)$  \n",
    "$b = P(\\omega_2)P(x|\\omega_2)$  \n",
    "$\\rho = \\int \\sqrt{P(x|\\omega_1)P(x|\\omega_2)}\\ dx$  \n",
    "\n",
    "$$P(error) = \\int min\\big[a, b\\big] dx$$  \n",
    "$$\\le \\int \\sqrt{ab}\\ dx = \\sqrt{P(\\omega_1)P(\\omega_2)} \\rho$$ \n",
    "$$\\sqrt{P(\\omega_1)P(\\omega_2)} \\le 0.5$$\n",
    "$$\\sqrt{P(\\omega_1)P(\\omega_2)} \\rho \\le \\frac{\\rho}{2}$$"
   ]
  },
  {
   "cell_type": "markdown",
   "metadata": {},
   "source": [
    "## 3)\n",
    "Let x have an exponential density\n",
    "\\begin{equation}\n",
    "p(x | \\theta) = \n",
    "\\begin{cases}\n",
    "    \\theta e^{-\\theta x}  & x \\ge 0\\\\\n",
    "    0 & otherwise \\\\\n",
    "\\end{cases}\n",
    "\\end{equation}"
   ]
  },
  {
   "cell_type": "markdown",
   "metadata": {},
   "source": [
    "(b) Suppose that n samples x 1 , ..., x n are drawn independently according to $p(x|\\theta)$.\n",
    "Show that the maximum likelihood estimate for $\\theta$ is given by\n",
    "$$\\hat{\\theta} = \\frac{1}{\\frac{1}{n}\\sum_{k=1}^n x_k}$$"
   ]
  },
  {
   "cell_type": "markdown",
   "metadata": {},
   "source": [
    "### Answer\n",
    "$$\\mathcal{L}(\\hat{\\theta}, x) = f(x_1, x_2, ... , x_n | \\hat{\\theta}) = \\prod_x \\hat{\\theta} e^{-\\hat{\\theta} x} = \\hat{\\theta}^n e^{-\\hat{\\theta} \\sum_{i=1}^n x_i}$$\n",
    "$$\\mathcal{l}(\\hat{\\theta}, x) = ln(\\mathcal{L}(\\hat{\\theta}, x) = nln(\\hat{\\theta}) - \\hat{\\theta} \\sum_{i=1}^n x_i$$\n",
    "$$ \\frac{\\partial \\mathcal{l}}{\\partial \\hat{\\theta}} = \\frac{n}{\\hat{\\theta}} - \\sum_{i=1}^n x_i = 0$$  \n",
    "$$ \\hat{\\theta} = \\frac{n}{\\sum_{i=1}^n x_i} $$"
   ]
  },
  {
   "cell_type": "markdown",
   "metadata": {},
   "source": [
    "## 4)\n",
    "3. Maximum likelihood methods apply to estimates of prior probabilities as well.\n",
    "Let samples be drawn by successive, independent selections of a state of nature $\\omega_i$\n",
    "with unknown probability $P(\\omega_i)$. Let $z_{ik} = 1$ if the state of nature for the kth sample\n",
    "is $\\omega_i$ and $z_{ik} = 0$ otherwise.  \n",
    "(a) Show that\n",
    "$$ P(z_{i1},...,z_{in}|P(\\omega_i)) = \\prod_{k=1}^{n} P(\\omega_i)^{z_{i,k}}(1-P(\\omega_i))^{1-z_{i,k}}$$\n",
    "(b) Show that the maximum likelihood estimate for P (ω i ) is\n",
    "$$\\hat{P}(\\omega_i) = \\frac{1}{n} \\sum_{k=1}^n z_{ik}$$\n",
    "Interpret your result in words."
   ]
  },
  {
   "cell_type": "markdown",
   "metadata": {},
   "source": [
    "## Answer\n",
    "a.  \n",
    "$z_{i,k}$, the $i^{th}$ sample, can be described as a biased coin flip, or in other words a bernoulli distribution, $z_{i,j} = \\theta^{z_{i,k}} (1-\\theta)^{1 - z_{i,k}}$.  $\\theta$ here is the bias of the coin, in other words the prior probability $P(\\omega_i)$.  This makes the distribution $P(z_{i,j}|P(\\omega_i)) = P(\\omega_i)^{z_{i,k}} (1-P(\\omega_i))^{1 - z_{i,k}}$The probability of drawing a specific set of $k$ independent samples is then given by \n",
    "$$ P(z_{i1},...,z_{in}|P(\\omega_i)) = \\prod_{k=1}^{n} P(\\omega_i)^{z_{i,k}}(1-P(\\omega_i))^{1-z_{i,k}}$$\n",
    "\n",
    "b.  \n",
    "$\\theta = P(\\omega_i)$  \n",
    "$$l(\\theta, z_{i,k}) = ln(L(\\theta, z_{i,k})) = \\sum_{k=1}^n \\theta^{z_{i,k}} (1-\\theta)^{1-z_{i,k}}$$\n",
    "$$ \\frac{\\partial l}{\\partial \\theta} = \\frac{\\sum_{k=1}^n z_{i,k}}{\\theta}  - \\frac{\\sum_{k=1}^n 1 - z_{i,k}}{1-\\theta} = 0$$\n",
    "Cross-multiplying to get a common denominator, and transferring terms across the equality gives\n",
    "$$\\sum_{k=1}^n z_{i,k}  = \\theta \\bigg(\\sum_{k=1}^n (1 - z_{i,k}) + \\sum_{k=1}^n z_{i,k}\\bigg)$$\n",
    "$$\\theta = \\frac{\\sum_{k=1}^n z_{i,k}}{n-\\sum_{k=1}^n z_{i,k} + \\sum_{k=1}^n z_{i,k}} = \\frac{1}{n} \\sum_{k=1}^n z_{i,k}$$\n",
    "\n",
    "This result means that the maximum likelihood estimate for the prior probability $P(\\omega_i)$ is just the average of the observed classes.  This makes sense, as the definition of a prior probability is just this average taken over an infinite number of points."
   ]
  },
  {
   "cell_type": "markdown",
   "metadata": {},
   "source": [
    "## 5)\n",
    "17. The purpose of this problem is to derive the Bayesian classiﬁer for the d-\n",
    "dimensional multivariate Bernoulli case. As usual, work with each class separately,\n",
    "interpreting $P(x|D)$ to mean $P(x|D_i, \\omega_i)$. Let the conditional probability for a given\n",
    "category be given by\n",
    "$$ P(x|\\theta) = \\prod_{i=1}^d \\theta_i^{x_i}(1-\\theta_i)^{1-x_i}$$\n",
    "and let D = {x 1 , ..., x n } be a set of n samples independently drawn according to this\n",
    "probability density."
   ]
  },
  {
   "cell_type": "markdown",
   "metadata": {},
   "source": [
    "(a) If s = (s 1 , ..., s d)' t is the sum of the n samples, show that\n",
    "$$P(D|\\theta) = \\prod_{i=1}^d \\theta_i^{s_i}(1-\\theta_i)^{n-s_i}$$\n",
    "(b) Assuming a uniform a priori distribution for θ and using the identity\n",
    "$$\\int_0^1 \\theta^m(1-\\theta)^n d\\theta = \\frac{m!n!}{(m+n+1)!}$$\n",
    "show that\n",
    "$$P(\\theta|D) = \\prod_{i=1}^d \\frac{(n+1)!}{s_i!(n-s_i)!}\\theta_i^{s_i}(1-\\theta_i)^{n-s_i}$$\n",
    "(c) Plot this density for the case d = 1, n = 1, and for the two resulting possibilities\n",
    "for $s_1$.  \n",
    "(d) Integrate the product $P(x|\\theta)P(\\theta|d)$ over θ to obtain the desired conditional\n",
    "probability\n",
    "$$P(x|D) = \\prod_{i=1}^d \\bigg(\\frac{s_i+1}{n+2}\\bigg)^{x_i}\\bigg(1 - \\frac{s_i+1}{n+2}\\bigg)^{1 - x_i}$$\n",
    "(e) If we think of obtaining P (x|D) by substituting an estimate θ̂ for θ in P (x|θ),\n",
    "what is the eﬀective Bayesian estimate for θ?"
   ]
  },
  {
   "cell_type": "markdown",
   "metadata": {},
   "source": [
    "## Answer\n",
    "\n",
    "a.  \n",
    "$$P(D|\\theta) = P(x1,...,xn | \\theta) = \\prod_{k=1}^n \\prod_{i=1}^d \\theta^{x_i} (1-\\theta)^{1-x_i}$$\n",
    "$$ P(D|\\theta) = \\prod_{k=1}^n \\theta^{\\sum_{i=1}^n x_i} (1-\\theta)^{\\sum_{i=1}^n 1- x_i} $$\n",
    "$s_i = \\sum_{i=1}^d x_i$, so\n",
    "$$ P(D|\\theta) = \\prod_{i=1}^d \\theta^{s_i} (1-\\theta)^{n - s_i} $$"
   ]
  },
  {
   "cell_type": "markdown",
   "metadata": {},
   "source": [
    "b.  \n",
    "\n",
    "$$P(\\theta | D) = \\frac{P(D|\\theta)P(\\theta)}{P(D)}$$  \n",
    "$$P(D) = \\int P(D|\\theta)P(\\theta)d\\theta = \\int \\prod_{i=1}^d \\theta^{s_i} (1-\\theta)^{n - s_i} d\\theta$$  \n",
    "$$P(D) = \\prod_{i=1}^d \\int_0^1 \\theta^{s_i}(1-\\theta)^{n - s_i} d\\theta_i$$  \n",
    "$$P(D)= \\prod_{i=1}^d \\frac{s_i!(n-s_i)!}{(n+1)!}$$  \n",
    "$$P(\\theta | D) = \\frac{\\prod_{i=1}^d \\theta^{s_i} (1-\\theta)^{n - s_i}}{\\prod_{i=1}^d \\frac{s_i!(n-s_i)!}{(n+1)!}} = \\prod_{i=1}^d \\frac{(n+1)!}{s_i!(n-s_i)!}\\theta^{s_i} (1-\\theta)^{n - s_i}$$"
   ]
  },
  {
   "cell_type": "markdown",
   "metadata": {},
   "source": [
    "c.  \n",
    "If n=1 and d=1, $P(\\theta|D) = 2\\theta^{x}(1-\\theta)^{x}$.  \n",
    "If $x=1$, $P(\\theta|D) = 2\\theta$, and if $x=0$ $P(\\theta|D) = 2(1-\\theta)$"
   ]
  },
  {
   "cell_type": "code",
   "execution_count": 34,
   "metadata": {},
   "outputs": [
    {
     "data": {
      "image/png": "[encoded data removed]"
     },
     "execution_count": 34,
     "metadata": {},
     "output_type": "execute_result"
    }
   ],
   "source": [
    "f1(θ) = 2 .* θ\n",
    "f2(θ) = 2 .* (1. .- θ)\n",
    "r = 0:0.01:1\n",
    "plot(r,f1(r), title=L\"P(\\theta|D)\", xlabel=L\"\\theta\", ylabel=L\"P(\\theta)\")\n",
    "plot!(r,f2(r))"
   ]
  },
  {
   "cell_type": "markdown",
   "metadata": {},
   "source": [
    "d.  \n",
    "$$P(x|D) = P(x|\\theta)P(\\theta|D)$$\n",
    "$$P(x|D) = \\int \\prod_{i=1}^d \\theta_i^{x_i}(1-\\theta_i)^{1-x_i} \\frac{(n+1)!}{s_i!(n-s_i)!}\\theta_i^{s_i}(1-\\theta_i)^{n-s_i}\\ d\\theta$$  \n",
    "$$P(x|D) = \\prod_{i=1}^d \\frac{(n+1)!}{s_i!(n-s_i)!} \\int \\theta_i^{x_i + s_i}(1-\\theta_i)^{n+1-s_i-x_i}\\ d\\theta_i$$  \n",
    "\n",
    "Using the identity from part b and combining like terms on the bottom:  \n",
    "$$P(x|D) = \\prod_{i=1}^d \\frac{(n+1)!}{s_i!(n-s_i)!} \\frac{(x_i+s_i)!(n+1-s_i-x_i)!}{n+2}$$  \n",
    "\n",
    "$x_i$ can only take the values $\\{1, 0\\}$.  $P(x=1)+P(x=0)=1$, so if we plug in 1 for x and solve, $P(x=0) = 1 - P(x=1)$. Doing this gives:  \n",
    "$$\n",
    "P(x|d) = \n",
    "\\begin{cases}\n",
    "    \\frac{1}{n+2} \\frac{(s_i+1)}{s_i!} \\frac{(n-s_i)!}{(n-s_i)!} = \\frac{s_i+1}{n+2} & x_i=1 \\\\\n",
    "    1 - \\frac{s_i+1}{n+2} & x=0\n",
    "\\end{cases}\n",
    "$$\n",
    "\n",
    "This can be expressed in a single function and ends up as the answer by raising each part to a power of $x_i$ such that if $x_i=0$ the $x=1$ term cancels out and visa versa for the $x_i=0$ case.  \n",
    "$$P(x|D) = \\prod_{i=1}^d \\bigg(\\frac{s_i+1}{n+2}\\bigg)^{x_i}\\bigg(1 - \\frac{s_i+1}{n+2}\\bigg)^{1 - x_i}$$\n"
   ]
  },
  {
   "cell_type": "markdown",
   "metadata": {},
   "source": [
    "e.  \n",
    "Simply looking at the equations for $P(x|D)$ and $P(x|\\theta)$ it is clear that $P(x|D) = P(x|\\theta)$ when $\\theta = \\frac{s_i + 1}{n+2}$.  A MAP estimator $\\hat{\\theta} = \\frac{s_i+1}{n+2}$.  This makes sense, as it is essentially just the average observed value of $X$, biased by a prior probability of $\\frac{1}{2}$."
   ]
  },
  {
   "cell_type": "markdown",
   "metadata": {},
   "source": [
    "## 6)\n",
    "Assume we have training data from a Gaussian distribution of known covariance Σ but unknown mean µ. Suppose further that this mean itself is random, and characterized by a Gaussian density having mean $m_0$ and covariance $\\Sigma_0$.  \n",
    "(a) What is the MAP estimator for $\\mu$?  \n",
    "(b) Suppose we transform our coordinates by a linear transform x' = Ax, for non-singular matrix A, and accordingly for other terms. Determine whether your MAP estimator gives the appropriate estimate for the transformed mean $\\mu'$.\n",
    "Explain."
   ]
  },
  {
   "cell_type": "markdown",
   "metadata": {},
   "source": [
    "### Answer\n",
    "a.  \n",
    "$$\\hat{\\mu} = argmax_\\mu(ln[p(D|\\mu)]p(\\mu)$$  \n",
    "$$ln[p(D|\\mu)] = ln\\bigg(\\prod_{k=1}^n p(x_k|\\mu)\\bigg)=\\sum_{k=1}^n ln[p(x_k|\\mu)]$$  \n",
    "$$ln[p(D|\\mu)] = n*-\\frac{1}{2} ln(2\\pi^d |\\Sigma|) - \\sum_{k=1}^n \\frac{1}{2}(x_k-\\mu)^t \\Sigma^{-1} (x_k-\\mu)$$  \n",
    "$$p(\\mu) = MVNorm(m_o, \\Sigma_o) = \\frac{1}{(2\\pi)^{d/2}|\\Sigma_o|^{1/2}}e^{-\\frac{1}{2}(\\mu-m_0)^t\\Sigma_0(\\mu-m_0)}$$  \n",
    "$$\\hat{\\mu} = argmax_\\mu\\bigg[\\bigg(-\\frac{n}{2} ln(2\\pi^d |\\Sigma|) - \\sum_{k=1}^n \\frac{1}{2}(x_k-\\mu)^t \\Sigma^{-1} (x_k-\\mu)\\bigg)\\bigg(\\frac{1}{2\\pi^{d/2}|\\Sigma_o|^{1/2}}e^{-\\frac{1}{2}(\\mu-m_0)^t\\Sigma_0(\\mu-m_0)}\\bigg)\\bigg]$$"
   ]
  },
  {
   "cell_type": "markdown",
   "metadata": {},
   "source": [
    "b.  \n",
    "A Linear transform will not effect $\\hat{\\mu}$.  To understand this, think about the 1 dimensional case.  $A$ is a scalar.  Multiplying all observations by a scalar will change both the mean and the variance.  Transforming the variance by $A$, however, and plugging these values into the estimator for $\\mu$, will give the value of $\\hat{\\mu}$. This principle tranfers to higher dimensions.  Plugging in $\\mu \\rightarrow A\\mu$ and $\\Sigma \\rightarrow A\\Sigma A^t$ into the estimator for $\\mu$ gives $\\hat{\\mu} = A\\hat{\\mu}$ so the estimate is appropriate.\n"
   ]
  }
 ],
 "metadata": {
  "kernelspec": {
   "display_name": "Julia 1.0.3",
   "language": "julia",
   "name": "julia-1.0"
  },
  "language_info": {
   "file_extension": ".jl",
   "mimetype": "application/julia",
   "name": "julia",
   "version": "1.0.3"
  }
 },
 "nbformat": 4,
 "nbformat_minor": 2
}
