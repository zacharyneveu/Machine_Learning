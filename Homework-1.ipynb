{
 "cells": [
  {
   "cell_type": "code",
   "execution_count": 1,
   "metadata": {},
   "outputs": [],
   "source": [
    "using Statistics"
   ]
  },
  {
   "cell_type": "code",
   "execution_count": 2,
   "metadata": {},
   "outputs": [
    {
     "name": "stderr",
     "output_type": "stream",
     "text": [
      "┌ Info: Recompiling stale cache file /home/zach/.julia/compiled/v1.0/Plots/ld3vC.ji for Plots [91a5bcdd-55d7-5caf-9e0b-520d859cae80]\n",
      "└ @ Base loading.jl:1190\n"
     ]
    },
    {
     "data": {
      "text/plain": [
       "Plots.PlotlyBackend()"
      ]
     },
     "execution_count": 2,
     "metadata": {},
     "output_type": "execute_result"
    }
   ],
   "source": [
    "using Plots\n",
    "plotly()"
   ]
  },
  {
   "cell_type": "code",
   "execution_count": 152,
   "metadata": {},
   "outputs": [
    {
     "ename": "UndefVarError",
     "evalue": "UndefVarError: JupyterPlot not defined",
     "output_type": "error",
     "traceback": [
      "UndefVarError: JupyterPlot not defined",
      "",
      "Stacktrace:",
      " [1] top-level scope at In[152]:1"
     ]
    }
   ],
   "source": [
    "function IJulia.display_dict(p::JupyterPlot)\n",
    "    Dict(\"text/html\" => html_body(p),\n",
    "         \"application/vnd.plotly.v1+json\" => JSON.lower(p))\n",
    "end"
   ]
  },
  {
   "cell_type": "markdown",
   "metadata": {},
   "source": [
    "## 1.1"
   ]
  },
  {
   "cell_type": "markdown",
   "metadata": {},
   "source": [
    "### a)\n",
    "\n",
    "$\\sigma^2 = \\frac{\\sum_1^n{(x-\\mu)^2}}{n} = E[(x-\\mu)^2] = E[x^2] - E[\\mu^2] = E[x^2] - \\mu^2$"
   ]
  },
  {
   "cell_type": "markdown",
   "metadata": {},
   "source": [
    "### b)\n",
    "$\\alpha$"
   ]
  },
  {
   "cell_type": "markdown",
   "metadata": {},
   "source": [
    "## 1.2"
   ]
  },
  {
   "cell_type": "markdown",
   "metadata": {},
   "source": [
    "### A)\n",
    "$\\int_{-\\infty}^{\\infty}P(x|\\omega_i) = \\int_{-\\infty}^{a_i} Ae^{\\frac{x-a_i}{b_i}}dx+ \\int_{a_i}^{\\infty}Ae^{\\frac{-(x-a_i)}{b_i}}dx = $"
   ]
  },
  {
   "cell_type": "code",
   "execution_count": 3,
   "metadata": {},
   "outputs": [
    {
     "data": {
      "text/plain": [
       "p (generic function with 1 method)"
      ]
     },
     "execution_count": 3,
     "metadata": {},
     "output_type": "execute_result"
    }
   ],
   "source": [
    "a = [0 1]\n",
    "b = [1 2]\n",
    "p(x,i) = 1/(2*b[i]) * exp(-abs(x-a[i])/b[i])"
   ]
  },
  {
   "cell_type": "code",
   "execution_count": 4,
   "metadata": {},
   "outputs": [],
   "source": [
    "set = collect(-2:0.1:2)\n",
    "res = zeros(length(set), 2)\n",
    "for i in range(1, length(set))\n",
    "    res[i, 1] = p(set[i],1)\n",
    "    res[i, 2] = p(set[i],2)\n",
    "end"
   ]
  },
  {
   "cell_type": "code",
   "execution_count": 5,
   "metadata": {},
   "outputs": [
    {
     "data": {
      "text/html": [
       "    <script type=\"text/javascript\">\n",
       "        requirejs([\"https://cdn.plot.ly/plotly-latest.min.js\"], function(p) {\n",
       "            window.Plotly = p\n",
       "        });\n",
       "    </script>\n"
      ]
     },
     "metadata": {},
     "output_type": "display_data"
    },
    {
     "data": {
      "application/vnd.plotly.v1+json": {
       "data": [
        {
         "colorbar": {
          "title": {
           "text": ""
          }
         },
         "hoverinfo": "text",
         "legendgroup": "y1",
         "line": {
          "color": "rgba(0, 154, 250, 1.000)",
          "dash": "solid",
          "shape": "linear",
          "width": 1
         },
         "mode": "lines",
         "name": "y1",
         "showlegend": true,
         "text": [
          null,
          null,
          null,
          null,
          null,
          null,
          null,
          null,
          null,
          null,
          null,
          null,
          null,
          null,
          null,
          null,
          null,
          null,
          null,
          null,
          null,
          null,
          null,
          null,
          null,
          null,
          null,
          null,
          null,
          null,
          null,
          null,
          null,
          null,
          null,
          null,
          null,
          null,
          null,
          null,
          null
         ],
         "type": "scatter",
         "visible": true,
         "x": [
          -2,
          -1.9,
          -1.8,
          -1.7,
          -1.6,
          -1.5,
          -1.4,
          -1.3,
          -1.2,
          -1.1,
          -1,
          -0.9,
          -0.8,
          -0.7,
          -0.6,
          -0.5,
          -0.4,
          -0.3,
          -0.2,
          -0.1,
          0,
          0.1,
          0.2,
          0.3,
          0.4,
          0.5,
          0.6,
          0.7,
          0.8,
          0.9,
          1,
          1.1,
          1.2,
          1.3,
          1.4,
          1.5,
          1.6,
          1.7,
          1.8,
          1.9,
          2
         ],
         "xaxis": "x",
         "y": [
          0.06766764161830635,
          0.07478430961131753,
          0.08264944411079327,
          0.09134176202636733,
          0.10094825899732769,
          0.11156508007421491,
          0.12329848197080324,
          0.1362658965170063,
          0.15059710595610104,
          0.16643554184903975,
          0.18393972058572117,
          0.20328482987029955,
          0.22466448205861078,
          0.24829265189570476,
          0.27440581804701325,
          0.3032653298563167,
          0.33516002301781966,
          0.37040911034085894,
          0.4093653765389909,
          0.45241870901797976,
          0.5,
          0.45241870901797976,
          0.4093653765389909,
          0.37040911034085894,
          0.33516002301781966,
          0.3032653298563167,
          0.27440581804701325,
          0.24829265189570476,
          0.22466448205861078,
          0.20328482987029955,
          0.18393972058572117,
          0.16643554184903975,
          0.15059710595610104,
          0.1362658965170063,
          0.12329848197080324,
          0.11156508007421491,
          0.10094825899732769,
          0.09134176202636733,
          0.08264944411079327,
          0.07478430961131753,
          0.06766764161830635
         ],
         "yaxis": "y",
         "zmax": 0.1,
         "zmin": -0.1
        },
        {
         "colorbar": {
          "title": {
           "text": ""
          }
         },
         "hoverinfo": "text",
         "legendgroup": "y2",
         "line": {
          "color": "rgba(227, 111, 71, 1.000)",
          "dash": "solid",
          "shape": "linear",
          "width": 1
         },
         "mode": "lines",
         "name": "y2",
         "showlegend": true,
         "text": [
          null,
          null,
          null,
          null,
          null,
          null,
          null,
          null,
          null,
          null,
          null,
          null,
          null,
          null,
          null,
          null,
          null,
          null,
          null,
          null,
          null,
          null,
          null,
          null,
          null,
          null,
          null,
          null,
          null,
          null,
          null,
          null,
          null,
          null,
          null,
          null,
          null,
          null,
          null,
          null,
          null
         ],
         "type": "scatter",
         "x": [
          -2,
          -1.9,
          -1.8,
          -1.7,
          -1.6,
          -1.5,
          -1.4,
          -1.3,
          -1.2,
          -1.1,
          -1,
          -0.9,
          -0.8,
          -0.7,
          -0.6,
          -0.5,
          -0.4,
          -0.3,
          -0.2,
          -0.1,
          0,
          0.1,
          0.2,
          0.3,
          0.4,
          0.5,
          0.6,
          0.7,
          0.8,
          0.9,
          1,
          1.1,
          1.2,
          1.3,
          1.4,
          1.5,
          1.6,
          1.7,
          1.8,
          1.9,
          2
         ],
         "xaxis": "x",
         "y": [
          0.055782540037107455,
          0.05864257202344941,
          0.06164924098540162,
          0.06481006516147288,
          0.06813294825850315,
          0.07162619921504752,
          0.07529855297805052,
          0.07915919234476332,
          0.08321777092451987,
          0.08748443727778883,
          0.09196986029286058,
          0.09668525586362531,
          0.10164241493514978,
          0.10685373298718168,
          0.11233224102930539,
          0.11809163818525367,
          0.12414632594785238,
          0.130511444190254,
          0.13720290902350663,
          0.14423745259512166,
          0.15163266492815836,
          0.1594070379054433,
          0.16758001150890983,
          0.17617202242967836,
          0.18520455517042947,
          0.19470019576785122,
          0.20468268826949546,
          0.21517699410626445,
          0.2262093545089899,
          0.2378073561251785,
          0.25,
          0.2378073561251785,
          0.2262093545089899,
          0.21517699410626445,
          0.20468268826949548,
          0.19470019576785122,
          0.18520455517042944,
          0.17617202242967836,
          0.16758001150890983,
          0.15940703790544333,
          0.15163266492815836
         ],
         "yaxis": "y",
         "zmax": 0.1,
         "zmin": -0.1
        }
       ],
       "layout": {
        "annotations": [],
        "height": 400,
        "hovermode": "x",
        "legend": {
         "bgcolor": "rgba(255, 255, 255, 1.000)",
         "bordercolor": "rgba(0, 0, 0, 1)",
         "font": {
          "color": "rgba(0, 0, 0, 1)",
          "family": "sans-serif",
          "size": 11
         },
         "tracegroupgap": 0,
         "x": 1,
         "y": 1
        },
        "margin": {
         "b": 20,
         "l": 0,
         "r": 0,
         "t": 20
        },
        "paper_bgcolor": "rgba(255, 255, 255, 1.000)",
        "plot_bgcolor": "rgba(255, 255, 255, 1.000)",
        "showlegend": true,
        "width": 600,
        "xaxis": {
         "anchor": "y",
         "autorange": false,
         "domain": [
          0.05100612423447069,
          0.9934383202099737
         ],
         "gridcolor": "rgba(0, 0, 0, 0.1)",
         "gridwidth": 0.5,
         "linecolor": "rgba(0, 0, 0, 1)",
         "mirror": false,
         "range": [
          -2.12,
          2.12
         ],
         "showgrid": true,
         "showline": true,
         "showticklabels": true,
         "tickangle": 0,
         "tickcolor": "rgb(0, 0, 0)",
         "tickfont": {
          "color": "rgba(0, 0, 0, 1)",
          "family": "sans-serif",
          "size": 11
         },
         "tickmode": "array",
         "ticks": "inside",
         "ticktext": [
          "-2",
          "-1",
          "0",
          "1",
          "2"
         ],
         "tickvals": [
          -2,
          -1,
          0,
          1,
          2
         ],
         "title": {
          "font": {
           "color": "rgba(0, 0, 0, 1)",
           "family": "sans-serif",
           "size": 15
          },
          "text": ""
         },
         "type": "linear",
         "visible": true,
         "zeroline": false,
         "zerolinecolor": "rgba(0, 0, 0, 1)"
        },
        "yaxis": {
         "anchor": "x",
         "autorange": false,
         "domain": [
          0.03762029746281716,
          0.9901574803149606
         ],
         "gridcolor": "rgba(0, 0, 0, 0.1)",
         "gridwidth": 0.5,
         "linecolor": "rgba(0, 0, 0, 1)",
         "mirror": false,
         "range": [
          0.04245601623822068,
          0.5133265237988868
         ],
         "showgrid": true,
         "showline": true,
         "showticklabels": true,
         "tickangle": 0,
         "tickcolor": "rgb(0, 0, 0)",
         "tickfont": {
          "color": "rgba(0, 0, 0, 1)",
          "family": "sans-serif",
          "size": 11
         },
         "tickmode": "array",
         "ticks": "inside",
         "ticktext": [
          "0.1",
          "0.2",
          "0.3",
          "0.4",
          "0.5"
         ],
         "tickvals": [
          0.1,
          0.2,
          0.30000000000000004,
          0.4,
          0.5
         ],
         "title": {
          "font": {
           "color": "rgba(0, 0, 0, 1)",
           "family": "sans-serif",
           "size": 15
          },
          "text": ""
         },
         "type": "linear",
         "visible": true,
         "zeroline": false,
         "zerolinecolor": "rgba(0, 0, 0, 1)"
        }
       }
      },
      "image/png": "[encoded data removed]",
      "text/html": [
       "    <div id=\"4015e632-d8d4-44a2-9b6b-cc781081fdf4\" style=\"width:600px;height:400px;\"></div>\n",
       "    <script>\n",
       "    PLOT = document.getElementById('4015e632-d8d4-44a2-9b6b-cc781081fdf4');\n",
       "    Plotly.plot(PLOT, [{\"xaxis\":\"x1\",\"colorbar\":{\"title\":\"\"},\"yaxis\":\"y1\",\"text\":[null,null,null,null,null,null,null,null,null,null,null,null,null,null,null,null,null,null,null,null,null,null,null,null,null,null,null,null,null,null,null,null,null,null,null,null,null,null,null,null,null],\"x\":[-2.0,-1.9,-1.8,-1.7,-1.6,-1.5,-1.4,-1.3,-1.2,-1.1,-1.0,-0.9,-0.8,-0.7,-0.6,-0.5,-0.4,-0.3,-0.2,-0.1,0.0,0.1,0.2,0.3,0.4,0.5,0.6,0.7,0.8,0.9,1.0,1.1,1.2,1.3,1.4,1.5,1.6,1.7,1.8,1.9,2.0],\"showlegend\":true,\"mode\":\"lines\",\"name\":\"y1\",\"zmin\":-0.1,\"legendgroup\":\"y1\",\"zmax\":0.1,\"line\":{\"color\":\"rgba(0, 154, 250, 1.000)\",\"shape\":\"linear\",\"dash\":\"solid\",\"width\":1},\"y\":[0.06766764161830635,0.07478430961131753,0.08264944411079327,0.09134176202636733,0.10094825899732769,0.11156508007421491,0.12329848197080324,0.1362658965170063,0.15059710595610104,0.16643554184903975,0.18393972058572117,0.20328482987029955,0.22466448205861078,0.24829265189570476,0.27440581804701325,0.3032653298563167,0.33516002301781966,0.37040911034085894,0.4093653765389909,0.45241870901797976,0.5,0.45241870901797976,0.4093653765389909,0.37040911034085894,0.33516002301781966,0.3032653298563167,0.27440581804701325,0.24829265189570476,0.22466448205861078,0.20328482987029955,0.18393972058572117,0.16643554184903975,0.15059710595610104,0.1362658965170063,0.12329848197080324,0.11156508007421491,0.10094825899732769,0.09134176202636733,0.08264944411079327,0.07478430961131753,0.06766764161830635],\"type\":\"scatter\",\"hoverinfo\":\"text\"},{\"xaxis\":\"x1\",\"colorbar\":{\"title\":\"\"},\"yaxis\":\"y1\",\"text\":[null,null,null,null,null,null,null,null,null,null,null,null,null,null,null,null,null,null,null,null,null,null,null,null,null,null,null,null,null,null,null,null,null,null,null,null,null,null,null,null,null],\"x\":[-2.0,-1.9,-1.8,-1.7,-1.6,-1.5,-1.4,-1.3,-1.2,-1.1,-1.0,-0.9,-0.8,-0.7,-0.6,-0.5,-0.4,-0.3,-0.2,-0.1,0.0,0.1,0.2,0.3,0.4,0.5,0.6,0.7,0.8,0.9,1.0,1.1,1.2,1.3,1.4,1.5,1.6,1.7,1.8,1.9,2.0],\"showlegend\":true,\"mode\":\"lines\",\"name\":\"y2\",\"zmin\":-0.1,\"legendgroup\":\"y2\",\"zmax\":0.1,\"line\":{\"color\":\"rgba(227, 111, 71, 1.000)\",\"shape\":\"linear\",\"dash\":\"solid\",\"width\":1},\"y\":[0.055782540037107455,0.05864257202344941,0.06164924098540162,0.06481006516147288,0.06813294825850315,0.07162619921504752,0.07529855297805052,0.07915919234476332,0.08321777092451987,0.08748443727778883,0.09196986029286058,0.09668525586362531,0.10164241493514978,0.10685373298718168,0.11233224102930539,0.11809163818525367,0.12414632594785238,0.130511444190254,0.13720290902350663,0.14423745259512166,0.15163266492815836,0.1594070379054433,0.16758001150890983,0.17617202242967836,0.18520455517042947,0.19470019576785122,0.20468268826949546,0.21517699410626445,0.2262093545089899,0.2378073561251785,0.25,0.2378073561251785,0.2262093545089899,0.21517699410626445,0.20468268826949548,0.19470019576785122,0.18520455517042944,0.17617202242967836,0.16758001150890983,0.15940703790544333,0.15163266492815836],\"type\":\"scatter\",\"hoverinfo\":\"text\"}], {\"showlegend\":true,\"xaxis\":{\"showticklabels\":true,\"gridwidth\":0.5,\"tickvals\":[-2.0,-1.0,0.0,1.0,2.0],\"visible\":true,\"ticks\":\"inside\",\"range\":[-2.12,2.12],\"domain\":[0.05100612423447069,0.9934383202099737],\"tickmode\":\"array\",\"linecolor\":\"rgba(0, 0, 0, 1.000)\",\"showgrid\":true,\"title\":\"\",\"mirror\":false,\"tickangle\":0,\"showline\":true,\"gridcolor\":\"rgba(0, 0, 0, 0.100)\",\"titlefont\":{\"color\":\"rgba(0, 0, 0, 1.000)\",\"family\":\"sans-serif\",\"size\":15},\"tickcolor\":\"rgb(0, 0, 0)\",\"ticktext\":[\"-2\",\"-1\",\"0\",\"1\",\"2\"],\"zeroline\":false,\"type\":\"-\",\"tickfont\":{\"color\":\"rgba(0, 0, 0, 1.000)\",\"family\":\"sans-serif\",\"size\":11},\"zerolinecolor\":\"rgba(0, 0, 0, 1.000)\",\"anchor\":\"y1\"},\"paper_bgcolor\":\"rgba(255, 255, 255, 1.000)\",\"annotations\":[],\"height\":400,\"margin\":{\"l\":0,\"b\":20,\"r\":0,\"t\":20},\"plot_bgcolor\":\"rgba(255, 255, 255, 1.000)\",\"yaxis\":{\"showticklabels\":true,\"gridwidth\":0.5,\"tickvals\":[0.1,0.2,0.30000000000000004,0.4,0.5],\"visible\":true,\"ticks\":\"inside\",\"range\":[0.04245601623822068,0.5133265237988868],\"domain\":[0.03762029746281716,0.9901574803149606],\"tickmode\":\"array\",\"linecolor\":\"rgba(0, 0, 0, 1.000)\",\"showgrid\":true,\"title\":\"\",\"mirror\":false,\"tickangle\":0,\"showline\":true,\"gridcolor\":\"rgba(0, 0, 0, 0.100)\",\"titlefont\":{\"color\":\"rgba(0, 0, 0, 1.000)\",\"family\":\"sans-serif\",\"size\":15},\"tickcolor\":\"rgb(0, 0, 0)\",\"ticktext\":[\"0.1\",\"0.2\",\"0.3\",\"0.4\",\"0.5\"],\"zeroline\":false,\"type\":\"-\",\"tickfont\":{\"color\":\"rgba(0, 0, 0, 1.000)\",\"family\":\"sans-serif\",\"size\":11},\"zerolinecolor\":\"rgba(0, 0, 0, 1.000)\",\"anchor\":\"x1\"},\"legend\":{\"tracegroupgap\":0,\"bordercolor\":\"rgba(0, 0, 0, 1.000)\",\"bgcolor\":\"rgba(255, 255, 255, 1.000)\",\"font\":{\"color\":\"rgba(0, 0, 0, 1.000)\",\"family\":\"sans-serif\",\"size\":11},\"y\":1.0,\"x\":1.0},\"width\":600});\n",
       "    </script>\n"
      ]
     },
     "execution_count": 5,
     "metadata": {},
     "output_type": "execute_result"
    }
   ],
   "source": [
    "plot(set, res)"
   ]
  },
  {
   "cell_type": "markdown",
   "metadata": {},
   "source": [
    "### b)\n",
    "$\\frac{P(x|\\omega_1)}{P(x|\\omega_2)} = \\frac{\\frac{e^{-|x-a_1|/b_1}}{2b_1}}{\\frac{e^{-|x-a_1|/b_1}}{2b_1}}$\n",
    "$\\frac{P(x|\\omega_1)}{P(x|\\omega_2)} = \\frac{b_2}{b_1} e^{\\frac{-|x-a_1|}{b_1} + \\frac{|x-a_2|}{b_2}}$"
   ]
  },
  {
   "cell_type": "markdown",
   "metadata": {},
   "source": [
    "### C)"
   ]
  },
  {
   "cell_type": "code",
   "execution_count": 6,
   "metadata": {},
   "outputs": [
    {
     "data": {
      "text/plain": [
       "likeratio (generic function with 1 method)"
      ]
     },
     "execution_count": 6,
     "metadata": {},
     "output_type": "execute_result"
    }
   ],
   "source": [
    "likeratio(x) = b[2]/b[1] * exp(-abs(x-1)/b[1] + abs(x)/b[2])"
   ]
  },
  {
   "cell_type": "code",
   "execution_count": 8,
   "metadata": {},
   "outputs": [],
   "source": [
    "ratios = [likeratio(x) for x in set];"
   ]
  },
  {
   "cell_type": "code",
   "execution_count": 9,
   "metadata": {},
   "outputs": [
    {
     "data": {
      "application/vnd.plotly.v1+json": {
       "data": [
        {
         "colorbar": {
          "title": {
           "text": ""
          }
         },
         "hoverinfo": "text",
         "legendgroup": "y1",
         "line": {
          "color": "rgba(0, 154, 250, 1.000)",
          "dash": "solid",
          "shape": "linear",
          "width": 1
         },
         "mode": "lines",
         "name": "y1",
         "showlegend": true,
         "text": [
          null,
          null,
          null,
          null,
          null,
          null,
          null,
          null,
          null,
          null,
          null,
          null,
          null,
          null,
          null,
          null,
          null,
          null,
          null,
          null,
          null,
          null,
          null,
          null,
          null,
          null,
          null,
          null,
          null,
          null,
          null,
          null,
          null,
          null,
          null,
          null,
          null,
          null,
          null,
          null,
          null
         ],
         "type": "scatter",
         "x": [
          -2,
          -1.9,
          -1.8,
          -1.7,
          -1.6,
          -1.5,
          -1.4,
          -1.3,
          -1.2,
          -1.1,
          -1,
          -0.9,
          -0.8,
          -0.7,
          -0.6,
          -0.5,
          -0.4,
          -0.3,
          -0.2,
          -0.1,
          0,
          0.1,
          0.2,
          0.3,
          0.4,
          0.5,
          0.6,
          0.7,
          0.8,
          0.9,
          1,
          1.1,
          1.2,
          1.3,
          1.4,
          1.5,
          1.6,
          1.7,
          1.8,
          1.9,
          2
         ],
         "xaxis": "x",
         "y": [
          0.2706705664732254,
          0.2845481431730272,
          0.2991372384452701,
          0.3144743326272552,
          0.33059777644317306,
          0.3475478869008902,
          0.3653670481054693,
          0.38409981724150827,
          0.40379303598931077,
          0.4244959476534861,
          0.44626032029685964,
          0.4691405761875953,
          0.493193927883213,
          0.518480521291783,
          0.5450635860680252,
          0.5730095937203802,
          0.6023884238244042,
          0.6332735387581063,
          0.6657421673961592,
          0.6998754982223107,
          0.7357588823428847,
          0.8548298638974534,
          0.9931706075828189,
          1.1538996207609735,
          1.3406400920712787,
          1.5576015661428098,
          1.809674836071919,
          2.102542192752048,
          2.4428055163203397,
          2.8381350971865147,
          3.2974425414002564,
          3.1366243709803374,
          2.9836493952825407,
          2.8381350971865142,
          2.6997176151520064,
          2.568050833375483,
          2.4428055163203397,
          2.323668485456566,
          2.2103418361512954,
          2.1025421927520482,
          2
         ],
         "yaxis": "y",
         "zmax": 0.1,
         "zmin": -0.1
        }
       ],
       "layout": {
        "annotations": [
         {
          "font": {
           "color": "rgba(0, 0, 0, 1)",
           "family": "sans-serif",
           "size": 20
          },
          "rotation": 0,
          "showarrow": false,
          "text": "Likelihood ratio vs. x",
          "x": 0.5349537037037038,
          "xanchor": "center",
          "xref": "paper",
          "y": 1,
          "yanchor": "top",
          "yref": "paper"
         }
        ],
        "height": 400,
        "legend": {
         "bgcolor": "rgba(255, 255, 255, 1.000)",
         "bordercolor": "rgba(0, 0, 0, 1)",
         "font": {
          "color": "rgba(0, 0, 0, 1)",
          "family": "sans-serif",
          "size": 11
         },
         "tracegroupgap": 0,
         "x": 1,
         "y": 1
        },
        "margin": {
         "b": 20,
         "l": 0,
         "r": 0,
         "t": 20
        },
        "paper_bgcolor": "rgba(255, 255, 255, 1.000)",
        "plot_bgcolor": "rgba(255, 255, 255, 1.000)",
        "showlegend": true,
        "width": 600,
        "xaxis": {
         "anchor": "y",
         "domain": [
          0.07646908719743364,
          0.9934383202099737
         ],
         "gridcolor": "rgba(0, 0, 0, 0.1)",
         "gridwidth": 0.5,
         "linecolor": "rgba(0, 0, 0, 1)",
         "mirror": false,
         "range": [
          -2.12,
          2.12
         ],
         "showgrid": true,
         "showline": true,
         "showticklabels": true,
         "tickangle": 0,
         "tickcolor": "rgb(0, 0, 0)",
         "tickfont": {
          "color": "rgba(0, 0, 0, 1)",
          "family": "sans-serif",
          "size": 11
         },
         "tickmode": "array",
         "ticks": "inside",
         "ticktext": [
          "-2",
          "-1",
          "0",
          "1",
          "2"
         ],
         "tickvals": [
          -2,
          -1,
          0,
          1,
          2
         ],
         "title": {
          "font": {
           "color": "rgba(0, 0, 0, 1)",
           "family": "sans-serif",
           "size": 15
          },
          "text": "x"
         },
         "type": "linear",
         "visible": true,
         "zeroline": false,
         "zerolinecolor": "rgba(0, 0, 0, 1)"
        },
        "yaxis": {
         "anchor": "x",
         "domain": [
          0.07581474190726165,
          0.9415463692038496
         ],
         "gridcolor": "rgba(0, 0, 0, 0.1)",
         "gridwidth": 0.5,
         "linecolor": "rgba(0, 0, 0, 1)",
         "mirror": false,
         "range": [
          0.1798674072254145,
          3.3882457006480675
         ],
         "showgrid": true,
         "showline": true,
         "showticklabels": true,
         "tickangle": 0,
         "tickcolor": "rgb(0, 0, 0)",
         "tickfont": {
          "color": "rgba(0, 0, 0, 1)",
          "family": "sans-serif",
          "size": 11
         },
         "tickmode": "array",
         "ticks": "inside",
         "ticktext": [
          "0.5",
          "1.0",
          "1.5",
          "2.0",
          "2.5",
          "3.0"
         ],
         "tickvals": [
          0.5,
          1,
          1.5,
          2,
          2.5,
          3
         ],
         "title": {
          "font": {
           "color": "rgba(0, 0, 0, 1)",
           "family": "sans-serif",
           "size": 15
          },
          "text": "likelihood ratio"
         },
         "type": "linear",
         "visible": true,
         "zeroline": false,
         "zerolinecolor": "rgba(0, 0, 0, 1)"
        }
       }
      },
      "image/png": "[encoded data removed]",
      "text/html": [
       "    <div id=\"82c5e310-5adc-4beb-9f1f-95f088270641\" style=\"width:600px;height:400px;\"></div>\n",
       "    <script>\n",
       "    PLOT = document.getElementById('82c5e310-5adc-4beb-9f1f-95f088270641');\n",
       "    Plotly.plot(PLOT, [{\"xaxis\":\"x1\",\"colorbar\":{\"title\":\"\"},\"yaxis\":\"y1\",\"text\":[null,null,null,null,null,null,null,null,null,null,null,null,null,null,null,null,null,null,null,null,null,null,null,null,null,null,null,null,null,null,null,null,null,null,null,null,null,null,null,null,null],\"x\":[-2.0,-1.9,-1.8,-1.7,-1.6,-1.5,-1.4,-1.3,-1.2,-1.1,-1.0,-0.9,-0.8,-0.7,-0.6,-0.5,-0.4,-0.3,-0.2,-0.1,0.0,0.1,0.2,0.3,0.4,0.5,0.6,0.7,0.8,0.9,1.0,1.1,1.2,1.3,1.4,1.5,1.6,1.7,1.8,1.9,2.0],\"showlegend\":true,\"mode\":\"lines\",\"name\":\"y1\",\"zmin\":-0.1,\"legendgroup\":\"y1\",\"zmax\":0.1,\"line\":{\"color\":\"rgba(0, 154, 250, 1.000)\",\"shape\":\"linear\",\"dash\":\"solid\",\"width\":1},\"y\":[0.2706705664732254,0.2845481431730272,0.2991372384452701,0.3144743326272552,0.33059777644317306,0.3475478869008902,0.3653670481054693,0.38409981724150827,0.40379303598931077,0.4244959476534861,0.44626032029685964,0.4691405761875953,0.493193927883213,0.518480521291783,0.5450635860680252,0.5730095937203802,0.6023884238244042,0.6332735387581063,0.6657421673961592,0.6998754982223107,0.7357588823428847,0.8548298638974534,0.9931706075828189,1.1538996207609735,1.3406400920712787,1.5576015661428098,1.809674836071919,2.102542192752048,2.4428055163203397,2.8381350971865147,3.2974425414002564,3.1366243709803374,2.9836493952825407,2.8381350971865142,2.6997176151520064,2.568050833375483,2.4428055163203397,2.323668485456566,2.2103418361512954,2.1025421927520482,2.0],\"type\":\"scatter\",\"hoverinfo\":\"text\"}], {\"showlegend\":true,\"xaxis\":{\"showticklabels\":true,\"gridwidth\":0.5,\"tickvals\":[-2.0,-1.0,0.0,1.0,2.0],\"visible\":true,\"ticks\":\"inside\",\"range\":[-2.12,2.12],\"domain\":[0.07646908719743364,0.9934383202099737],\"tickmode\":\"array\",\"linecolor\":\"rgba(0, 0, 0, 1.000)\",\"showgrid\":true,\"title\":\"x\",\"mirror\":false,\"tickangle\":0,\"showline\":true,\"gridcolor\":\"rgba(0, 0, 0, 0.100)\",\"titlefont\":{\"color\":\"rgba(0, 0, 0, 1.000)\",\"family\":\"sans-serif\",\"size\":15},\"tickcolor\":\"rgb(0, 0, 0)\",\"ticktext\":[\"-2\",\"-1\",\"0\",\"1\",\"2\"],\"zeroline\":false,\"type\":\"-\",\"tickfont\":{\"color\":\"rgba(0, 0, 0, 1.000)\",\"family\":\"sans-serif\",\"size\":11},\"zerolinecolor\":\"rgba(0, 0, 0, 1.000)\",\"anchor\":\"y1\"},\"paper_bgcolor\":\"rgba(255, 255, 255, 1.000)\",\"annotations\":[{\"yanchor\":\"top\",\"xanchor\":\"center\",\"rotation\":-0.0,\"y\":1.0,\"font\":{\"color\":\"rgba(0, 0, 0, 1.000)\",\"family\":\"sans-serif\",\"size\":20},\"yref\":\"paper\",\"showarrow\":false,\"text\":\"Likelihood ratio vs. x\",\"xref\":\"paper\",\"x\":0.5349537037037038}],\"height\":400,\"margin\":{\"l\":0,\"b\":20,\"r\":0,\"t\":20},\"plot_bgcolor\":\"rgba(255, 255, 255, 1.000)\",\"yaxis\":{\"showticklabels\":true,\"gridwidth\":0.5,\"tickvals\":[0.5,1.0,1.5,2.0,2.5,3.0],\"visible\":true,\"ticks\":\"inside\",\"range\":[0.1798674072254145,3.3882457006480675],\"domain\":[0.07581474190726165,0.9415463692038496],\"tickmode\":\"array\",\"linecolor\":\"rgba(0, 0, 0, 1.000)\",\"showgrid\":true,\"title\":\"likelihood ratio\",\"mirror\":false,\"tickangle\":0,\"showline\":true,\"gridcolor\":\"rgba(0, 0, 0, 0.100)\",\"titlefont\":{\"color\":\"rgba(0, 0, 0, 1.000)\",\"family\":\"sans-serif\",\"size\":15},\"tickcolor\":\"rgb(0, 0, 0)\",\"ticktext\":[\"0.5\",\"1.0\",\"1.5\",\"2.0\",\"2.5\",\"3.0\"],\"zeroline\":false,\"type\":\"-\",\"tickfont\":{\"color\":\"rgba(0, 0, 0, 1.000)\",\"family\":\"sans-serif\",\"size\":11},\"zerolinecolor\":\"rgba(0, 0, 0, 1.000)\",\"anchor\":\"x1\"},\"legend\":{\"tracegroupgap\":0,\"bordercolor\":\"rgba(0, 0, 0, 1.000)\",\"bgcolor\":\"rgba(255, 255, 255, 1.000)\",\"font\":{\"color\":\"rgba(0, 0, 0, 1.000)\",\"family\":\"sans-serif\",\"size\":11},\"y\":1.0,\"x\":1.0},\"width\":600});\n",
       "    </script>\n"
      ]
     },
     "execution_count": 9,
     "metadata": {},
     "output_type": "execute_result"
    }
   ],
   "source": [
    "plot(set, ratios, title=\"Likelihood ratio vs. x\", xlabel=\"x\", ylabel=\"likelihood ratio\")"
   ]
  },
  {
   "cell_type": "markdown",
   "metadata": {},
   "source": [
    "## 1.3"
   ]
  },
  {
   "cell_type": "code",
   "execution_count": 10,
   "metadata": {},
   "outputs": [
    {
     "name": "stderr",
     "output_type": "stream",
     "text": [
      "┌ Info: Recompiling stale cache file /home/zach/.julia/compiled/v1.0/Distributions/xILW0.ji for Distributions [31c24e10-a181-5473-b8eb-7969acd0382f]\n",
      "└ @ Base loading.jl:1190\n",
      "┌ Info: Recompiling stale cache file /home/zach/.julia/compiled/v1.0/StatPlots/iAmZm.ji for StatPlots [60ddc479-9b66-56df-82fc-76a74619b69c]\n",
      "└ @ Base loading.jl:1190\n"
     ]
    }
   ],
   "source": [
    "using Distributions\n",
    "using StatPlots"
   ]
  },
  {
   "cell_type": "code",
   "execution_count": 47,
   "metadata": {},
   "outputs": [
    {
     "data": {
      "application/vnd.plotly.v1+json": {
       "data": [
        {
         "colorbar": {
          "title": {
           "text": ""
          }
         },
         "fill": "tozeroy",
         "fillcolor": "rgba(0, 154, 250, 0.500)",
         "hoverinfo": "text",
         "legendgroup": "y1",
         "line": {
          "color": "rgba(0, 154, 250, 0.500)",
          "dash": "solid",
          "shape": "linear",
          "width": 1
         },
         "mode": "lines",
         "name": "y1",
         "showlegend": true,
         "text": [
          null,
          null,
          null,
          null,
          null,
          null,
          null,
          null,
          null,
          null,
          null,
          null,
          null,
          null,
          null,
          null,
          null,
          null,
          null
         ],
         "type": "scatter",
         "x": [
          3.0292974570593647,
          3.3001947515051184,
          3.462992733916872,
          3.600636356147297,
          3.750155910099154,
          3.887999713603884,
          4.035782839219469,
          4.2070040830155975,
          4.359165318333064,
          4.49259700962066,
          4.638073369965959,
          4.784414336258436,
          4.946212987873213,
          5.10016032223453,
          5.260229830534052,
          5.394974261000535,
          5.5594819379590925,
          5.714124006386125,
          5.96187259204818
         ],
         "xaxis": "x",
         "y": [
          0.3333333333333333,
          0.3333333333333333,
          0.3333333333333333,
          0.3333333333333333,
          0.3333333333333333,
          0.3333333333333333,
          0.3333333333333333,
          0.3333333333333333,
          0.3333333333333333,
          0.3333333333333333,
          0.3333333333333333,
          0.3333333333333333,
          0.3333333333333333,
          0.3333333333333333,
          0.3333333333333333,
          0.3333333333333333,
          0.3333333333333333,
          0.3333333333333333,
          0.3333333333333333
         ],
         "yaxis": "y",
         "zmax": 0.1,
         "zmin": -0.1
        },
        {
         "colorbar": {
          "title": {
           "text": ""
          }
         },
         "fill": "tozeroy",
         "fillcolor": "rgba(227, 111, 71, 0.500)",
         "hoverinfo": "text",
         "legendgroup": "y2",
         "line": {
          "color": "rgba(227, 111, 71, 0.500)",
          "dash": "solid",
          "shape": "linear",
          "width": 1
         },
         "mode": "lines",
         "name": "y2",
         "showlegend": true,
         "text": [
          null,
          null,
          null,
          null,
          null,
          null,
          null,
          null,
          null,
          null,
          null,
          null,
          null,
          null,
          null,
          null,
          null,
          null,
          null
         ],
         "type": "scatter",
         "x": [
          5.0195316380395765,
          5.200129834336746,
          5.308661822611247,
          5.400424237431531,
          5.5001039400661025,
          5.5919998090692555,
          5.6905218928129795,
          5.804669388677064,
          5.9061102122220435,
          5.99506467308044,
          6.092048913310639,
          6.189609557505625,
          6.297475325248809,
          6.4001068814896875,
          6.506819887022701,
          6.59664950733369,
          6.706321291972729,
          6.809416004257417,
          6.97458172803212
         ],
         "xaxis": "x",
         "y": [
          0.5,
          0.5,
          0.5,
          0.5,
          0.5,
          0.5,
          0.5,
          0.5,
          0.5,
          0.5,
          0.5,
          0.5,
          0.5,
          0.5,
          0.5,
          0.5,
          0.5,
          0.5,
          0.5
         ],
         "yaxis": "y",
         "zmax": 0.1,
         "zmin": -0.1
        }
       ],
       "layout": {
        "annotations": [],
        "height": 400,
        "legend": {
         "bgcolor": "rgba(255, 255, 255, 1.000)",
         "bordercolor": "rgba(0, 0, 0, 1)",
         "font": {
          "color": "rgba(0, 0, 0, 1)",
          "family": "sans-serif",
          "size": 11
         },
         "tracegroupgap": 0,
         "x": 1,
         "y": 1
        },
        "margin": {
         "b": 20,
         "l": 0,
         "r": 0,
         "t": 20
        },
        "paper_bgcolor": "rgba(255, 255, 255, 1.000)",
        "plot_bgcolor": "rgba(255, 255, 255, 1.000)",
        "showlegend": true,
        "width": 600,
        "xaxis": {
         "anchor": "y",
         "domain": [
          0.05100612423447069,
          0.9934383202099737
         ],
         "gridcolor": "rgba(0, 0, 0, 0.1)",
         "gridwidth": 0.5,
         "linecolor": "rgba(0, 0, 0, 1)",
         "mirror": false,
         "range": [
          2.910938928930182,
          7.092940256161302
         ],
         "showgrid": true,
         "showline": true,
         "showticklabels": true,
         "tickangle": 0,
         "tickcolor": "rgb(0, 0, 0)",
         "tickfont": {
          "color": "rgba(0, 0, 0, 1)",
          "family": "sans-serif",
          "size": 11
         },
         "tickmode": "array",
         "ticks": "inside",
         "ticktext": [
          "3",
          "4",
          "5",
          "6",
          "7"
         ],
         "tickvals": [
          3,
          4,
          5,
          6,
          7
         ],
         "title": {
          "font": {
           "color": "rgba(0, 0, 0, 1)",
           "family": "sans-serif",
           "size": 15
          },
          "text": ""
         },
         "type": "linear",
         "visible": true,
         "zeroline": false,
         "zerolinecolor": "rgba(0, 0, 0, 1)"
        },
        "yaxis": {
         "anchor": "x",
         "domain": [
          0.03762029746281716,
          0.9901574803149606
         ],
         "gridcolor": "rgba(0, 0, 0, 0.1)",
         "gridwidth": 0.5,
         "linecolor": "rgba(0, 0, 0, 1)",
         "mirror": false,
         "range": [
          -0.015,
          0.515
         ],
         "showgrid": true,
         "showline": true,
         "showticklabels": true,
         "tickangle": 0,
         "tickcolor": "rgb(0, 0, 0)",
         "tickfont": {
          "color": "rgba(0, 0, 0, 1)",
          "family": "sans-serif",
          "size": 11
         },
         "tickmode": "array",
         "ticks": "inside",
         "ticktext": [
          "0.0",
          "0.1",
          "0.2",
          "0.3",
          "0.4",
          "0.5"
         ],
         "tickvals": [
          0,
          0.1,
          0.2,
          0.30000000000000004,
          0.4,
          0.5
         ],
         "title": {
          "font": {
           "color": "rgba(0, 0, 0, 1)",
           "family": "sans-serif",
           "size": 15
          },
          "text": ""
         },
         "type": "linear",
         "visible": true,
         "zeroline": false,
         "zerolinecolor": "rgba(0, 0, 0, 1)"
        }
       }
      },
      "image/png": "[encoded data removed]",
      "text/html": [
       "    <div id=\"79df1be8-3e59-4e78-9c81-93d47051c8bc\" style=\"width:600px;height:400px;\"></div>\n",
       "    <script>\n",
       "    PLOT = document.getElementById('79df1be8-3e59-4e78-9c81-93d47051c8bc');\n",
       "    Plotly.plot(PLOT, [{\"xaxis\":\"x1\",\"colorbar\":{\"title\":\"\"},\"fill\":\"tozeroy\",\"yaxis\":\"y1\",\"text\":[null,null,null,null,null,null,null,null,null,null,null,null,null,null,null,null,null,null,null],\"x\":[3.0292974570593647,3.3001947515051184,3.462992733916872,3.600636356147297,3.750155910099154,3.887999713603884,4.035782839219469,4.2070040830155975,4.359165318333064,4.49259700962066,4.638073369965959,4.784414336258436,4.946212987873213,5.10016032223453,5.260229830534052,5.394974261000535,5.5594819379590925,5.714124006386125,5.96187259204818],\"showlegend\":true,\"mode\":\"lines\",\"fillcolor\":\"rgba(0, 154, 250, 0.500)\",\"name\":\"y1\",\"zmin\":-0.1,\"legendgroup\":\"y1\",\"zmax\":0.1,\"line\":{\"color\":\"rgba(0, 154, 250, 0.500)\",\"shape\":\"linear\",\"dash\":\"solid\",\"width\":1},\"y\":[0.3333333333333333,0.3333333333333333,0.3333333333333333,0.3333333333333333,0.3333333333333333,0.3333333333333333,0.3333333333333333,0.3333333333333333,0.3333333333333333,0.3333333333333333,0.3333333333333333,0.3333333333333333,0.3333333333333333,0.3333333333333333,0.3333333333333333,0.3333333333333333,0.3333333333333333,0.3333333333333333,0.3333333333333333],\"type\":\"scatter\",\"hoverinfo\":\"text\"},{\"xaxis\":\"x1\",\"colorbar\":{\"title\":\"\"},\"fill\":\"tozeroy\",\"yaxis\":\"y1\",\"text\":[null,null,null,null,null,null,null,null,null,null,null,null,null,null,null,null,null,null,null],\"x\":[5.0195316380395765,5.200129834336746,5.308661822611247,5.400424237431531,5.5001039400661025,5.5919998090692555,5.6905218928129795,5.804669388677064,5.9061102122220435,5.99506467308044,6.092048913310639,6.189609557505625,6.297475325248809,6.4001068814896875,6.506819887022701,6.59664950733369,6.706321291972729,6.809416004257417,6.97458172803212],\"showlegend\":true,\"mode\":\"lines\",\"fillcolor\":\"rgba(227, 111, 71, 0.500)\",\"name\":\"y2\",\"zmin\":-0.1,\"legendgroup\":\"y2\",\"zmax\":0.1,\"line\":{\"color\":\"rgba(227, 111, 71, 0.500)\",\"shape\":\"linear\",\"dash\":\"solid\",\"width\":1},\"y\":[0.5,0.5,0.5,0.5,0.5,0.5,0.5,0.5,0.5,0.5,0.5,0.5,0.5,0.5,0.5,0.5,0.5,0.5,0.5],\"type\":\"scatter\",\"hoverinfo\":\"text\"}], {\"showlegend\":true,\"xaxis\":{\"showticklabels\":true,\"gridwidth\":0.5,\"tickvals\":[3.0,4.0,5.0,6.0,7.0],\"visible\":true,\"ticks\":\"inside\",\"range\":[2.910938928930182,7.092940256161302],\"domain\":[0.05100612423447069,0.9934383202099737],\"tickmode\":\"array\",\"linecolor\":\"rgba(0, 0, 0, 1.000)\",\"showgrid\":true,\"title\":\"\",\"mirror\":false,\"tickangle\":0,\"showline\":true,\"gridcolor\":\"rgba(0, 0, 0, 0.100)\",\"titlefont\":{\"color\":\"rgba(0, 0, 0, 1.000)\",\"family\":\"sans-serif\",\"size\":15},\"tickcolor\":\"rgb(0, 0, 0)\",\"ticktext\":[\"3\",\"4\",\"5\",\"6\",\"7\"],\"zeroline\":false,\"type\":\"-\",\"tickfont\":{\"color\":\"rgba(0, 0, 0, 1.000)\",\"family\":\"sans-serif\",\"size\":11},\"zerolinecolor\":\"rgba(0, 0, 0, 1.000)\",\"anchor\":\"y1\"},\"paper_bgcolor\":\"rgba(255, 255, 255, 1.000)\",\"annotations\":[],\"height\":400,\"margin\":{\"l\":0,\"b\":20,\"r\":0,\"t\":20},\"plot_bgcolor\":\"rgba(255, 255, 255, 1.000)\",\"yaxis\":{\"showticklabels\":true,\"gridwidth\":0.5,\"tickvals\":[0.0,0.1,0.2,0.30000000000000004,0.4,0.5],\"visible\":true,\"ticks\":\"inside\",\"range\":[-0.015,0.515],\"domain\":[0.03762029746281716,0.9901574803149606],\"tickmode\":\"array\",\"linecolor\":\"rgba(0, 0, 0, 1.000)\",\"showgrid\":true,\"title\":\"\",\"mirror\":false,\"tickangle\":0,\"showline\":true,\"gridcolor\":\"rgba(0, 0, 0, 0.100)\",\"titlefont\":{\"color\":\"rgba(0, 0, 0, 1.000)\",\"family\":\"sans-serif\",\"size\":15},\"tickcolor\":\"rgb(0, 0, 0)\",\"ticktext\":[\"0.0\",\"0.1\",\"0.2\",\"0.3\",\"0.4\",\"0.5\"],\"zeroline\":false,\"type\":\"-\",\"tickfont\":{\"color\":\"rgba(0, 0, 0, 1.000)\",\"family\":\"sans-serif\",\"size\":11},\"zerolinecolor\":\"rgba(0, 0, 0, 1.000)\",\"anchor\":\"x1\"},\"legend\":{\"tracegroupgap\":0,\"bordercolor\":\"rgba(0, 0, 0, 1.000)\",\"bgcolor\":\"rgba(255, 255, 255, 1.000)\",\"font\":{\"color\":\"rgba(0, 0, 0, 1.000)\",\"family\":\"sans-serif\",\"size\":11},\"y\":1.0,\"x\":1.0},\"width\":600});\n",
       "    </script>\n"
      ]
     },
     "execution_count": 47,
     "metadata": {},
     "output_type": "execute_result"
    }
   ],
   "source": [
    "plot([Uniform(3, 6), Uniform(5, 7)], fill=0, alpha=0.5)"
   ]
  },
  {
   "cell_type": "markdown",
   "metadata": {},
   "source": [
    "$P_{error} = P(x \\lt \\gamma | x \\in \\omega_1) + P(x \\gt \\gamma | x \\in \\omega_1)$,\n",
    "$\\gamma = \\frac{P(x|\\omega_1)}{p(x)} \\gtrless \\frac{P(x | \\omega_2)}{p(x)}$"
   ]
  },
  {
   "cell_type": "markdown",
   "metadata": {},
   "source": [
    "## 1.4"
   ]
  },
  {
   "cell_type": "markdown",
   "metadata": {},
   "source": [
    "### a)\n",
    "A few key definitions:  \n",
    "$\\gamma$ - variable used for the decision boundary  \n",
    "$Q(x) = 1 - \\Omega(x)$ where $\\Omega()$ is the normal cumulative density function  \n",
    "$\\gamma = P(X=x|\\omega_1) \\gtrless P(X=x|\\omega_2)$  \n",
    "$\\gamma = \\frac{1}{\\sqrt{2\\pi}}e^{-\\frac{(x)^2}{2}} \\gtrless \\frac{1}{\\sqrt{2\\pi \\sigma^2}}e^{-\\frac{(x-\\mu)^2}{2\\sigma^2}}$  "
   ]
  },
  {
   "cell_type": "markdown",
   "metadata": {},
   "source": [
    "$\\gamma = e^{-\\frac{x^2}{2}} \\gtrless \\frac{1}{\\sqrt{\\sigma^2}}e^{-\\frac{(x-\\mu)^2}{2\\sigma^2}}$"
   ]
  },
  {
   "cell_type": "markdown",
   "metadata": {},
   "source": [
    "$\\gamma = -\\frac{x^2}{2} \\gtrless ln(\\frac{1}{\\sqrt{\\sigma^2}}) - \\frac{(x-\\mu)^2}{2\\sigma^2}$"
   ]
  },
  {
   "cell_type": "markdown",
   "metadata": {},
   "source": [
    "### b)"
   ]
  },
  {
   "cell_type": "code",
   "execution_count": 55,
   "metadata": {},
   "outputs": [
    {
     "data": {
      "application/vnd.plotly.v1+json": {
       "data": [
        {
         "colorbar": {
          "title": {
           "text": ""
          }
         },
         "fill": "tozeroy",
         "fillcolor": "rgba(0, 154, 250, 0.500)",
         "hoverinfo": "text",
         "legendgroup": "y1",
         "line": {
          "color": "rgba(0, 154, 250, 0.500)",
          "dash": "solid",
          "shape": "linear",
          "width": 1
         },
         "mode": "lines",
         "name": "y1",
         "showlegend": true,
         "text": [
          null,
          null,
          null,
          null,
          null,
          null,
          null,
          null,
          null,
          null,
          null,
          null,
          null,
          null,
          null,
          null,
          null,
          null,
          null,
          null,
          null,
          null,
          null,
          null,
          null,
          null,
          null,
          null,
          null,
          null,
          null,
          null,
          null,
          null,
          null,
          null,
          null,
          null,
          null,
          null,
          null,
          null,
          null,
          null,
          null,
          null,
          null,
          null,
          null,
          null,
          null,
          null,
          null
         ],
         "type": "scatter",
         "x": [
          -3.6826972435271177,
          -3.6463780015985487,
          -3.31055416696218,
          -2.9747303323258114,
          -2.772914205529732,
          -2.571098078733653,
          -2.400465112002723,
          -2.2298321452717933,
          -2.13715453093097,
          -2.044476916590147,
          -1.9517993022493236,
          -1.8591216879085006,
          -1.7736811249664992,
          -1.688240562024498,
          -1.6027999990824968,
          -1.5173594361404954,
          -1.3341568093283183,
          -1.150954182516141,
          -0.938695973070132,
          -0.726437763624123,
          -0.6321227398586288,
          -0.5378077160931345,
          -0.4434926923276402,
          -0.3491776685621459,
          -0.26647189196534515,
          -0.18376611536854448,
          -0.10106033877174378,
          -0.018354562174943093,
          0.07181693488643331,
          0.16198843194780974,
          0.25215992900918616,
          0.34233142607056255,
          0.4330388370937696,
          0.5237462481169767,
          0.6144536591401837,
          0.7051610701633908,
          0.9057383543900099,
          1.106315638616629,
          1.2971598634105295,
          1.4880040882044299,
          1.587220944901881,
          1.6864378015993322,
          1.7856546582967834,
          1.8848715149942346,
          2.051910434403632,
          2.2189493538130294,
          2.422884941343994,
          2.626820528874959,
          2.8185259961499938,
          3.010231463425029,
          3.3173584882002003,
          3.6244855129753715,
          3.6717509992155426
         ],
         "xaxis": "x",
         "y": [
          0.000452796379484318,
          0.0005172548843439664,
          0.0016635141117062604,
          0.004779359160850086,
          0.008535979822317361,
          0.01463687574764495,
          0.02236954350687503,
          0.03320634751084899,
          0.040654193883506856,
          0.04934684410243188,
          0.05938587999843854,
          0.07085602636157629,
          0.08275168522000596,
          0.09594150167145825,
          0.1104245880896179,
          0.12616958523138108,
          0.163830040139458,
          0.2057103231063552,
          0.2567856476006646,
          0.306421263580707,
          0.32669504989453857,
          0.3452256205982121,
          0.3615765810782454,
          0.37534823572672477,
          0.3850268650383341,
          0.39226269403731073,
          0.3969102361639889,
          0.3988750862378772,
          0.39791479908195987,
          0.39374229422849955,
          0.38645847777247744,
          0.37623778226095456,
          0.36323696904367025,
          0.3478118524082641,
          0.33031280391985424,
          0.31112372988229475,
          0.26471023170980124,
          0.21633964421866161,
          0.17200179110421843,
          0.13185972425937195,
          0.11320287713237787,
          0.09623378740610379,
          0.0810069915540008,
          0.06752152471816623,
          0.048601214989125965,
          0.034020001408976375,
          0.021192154157779558,
          0.012663498233631047,
          0.0075140330852595085,
          0.004297657101446038,
          0.0016264229207377896,
          0.0005601050793792979,
          0.0004713940293501837
         ],
         "yaxis": "y",
         "zmax": 0.1,
         "zmin": -0.1
        },
        {
         "colorbar": {
          "title": {
           "text": ""
          }
         },
         "fill": "tozeroy",
         "fillcolor": "rgba(227, 111, 71, 0.500)",
         "hoverinfo": "text",
         "legendgroup": "y2",
         "line": {
          "color": "rgba(227, 111, 71, 0.500)",
          "dash": "solid",
          "shape": "linear",
          "width": 1
         },
         "mode": "lines",
         "name": "y2",
         "showlegend": true,
         "text": [
          null,
          null,
          null,
          null,
          null,
          null,
          null,
          null,
          null,
          null,
          null,
          null,
          null,
          null,
          null,
          null,
          null,
          null,
          null,
          null,
          null,
          null,
          null,
          null,
          null,
          null,
          null,
          null,
          null,
          null,
          null,
          null,
          null,
          null,
          null,
          null,
          null,
          null,
          null,
          null,
          null,
          null,
          null,
          null,
          null,
          null,
          null,
          null,
          null,
          null,
          null,
          null,
          null
         ],
         "type": "scatter",
         "x": [
          -6.365394487054235,
          -6.2927560031970975,
          -5.62110833392436,
          -4.949460664651622,
          -4.545828411059464,
          -4.142196157467306,
          -3.8009302240054463,
          -3.459664290543587,
          -3.2743090618619406,
          -3.088953833180294,
          -2.9035986044986477,
          -2.7182433758170013,
          -2.5473622499329984,
          -2.376481124048996,
          -2.205599998164993,
          -2.0347188722809904,
          -1.668313618656636,
          -1.3019083650322818,
          -0.8773919461402637,
          -0.45287552724824565,
          -0.2642454797172571,
          -0.07561543218626848,
          0.1130146153447201,
          0.3016446628757087,
          0.4670562160693101,
          0.6324677692629115,
          0.7978793224565128,
          0.9632908756501143,
          1.1436338697728672,
          1.32397686389562,
          1.5043198580183728,
          1.6846628521411255,
          1.8660776741875396,
          2.0474924962339536,
          2.228907318280368,
          2.410322140326782,
          2.8114767087800203,
          3.2126312772332586,
          3.5943197268210594,
          3.97600817640886,
          4.174441889803763,
          4.372875603198665,
          4.571309316593568,
          4.76974302998847,
          5.103820868807265,
          5.43789870762606,
          5.845769882687989,
          6.253641057749919,
          6.637051992299989,
          7.020462926850059,
          7.6347169764004015,
          8.248971025950743,
          8.343501998431087
         ],
         "xaxis": "x",
         "y": [
          0.000226398189742159,
          0.0002586274421719832,
          0.0008317570558531302,
          0.0023896795804250475,
          0.0042679899111586804,
          0.007318437873822475,
          0.011184771753437515,
          0.016603173755424472,
          0.020327096941753428,
          0.02467342205121592,
          0.02969293999921926,
          0.03542801318078814,
          0.04137584261000298,
          0.047970750835729124,
          0.05521229404480897,
          0.06308479261569057,
          0.08191502006972902,
          0.1028551615531776,
          0.12839282380033232,
          0.1532106317903535,
          0.1633475249472693,
          0.1726128102991061,
          0.18078829053912274,
          0.1876741178633624,
          0.19251343251916708,
          0.1961313470186554,
          0.19845511808199448,
          0.1994375431189386,
          0.19895739954097993,
          0.19687114711424977,
          0.19322923888623872,
          0.18811889113047728,
          0.18161848452183513,
          0.17390592620413206,
          0.1651564019599271,
          0.15556186494114735,
          0.1323551158549006,
          0.10816982210933078,
          0.08600089555210917,
          0.06592986212968595,
          0.0566014385661889,
          0.048116893703051875,
          0.04050349577700036,
          0.03376076235908307,
          0.02430060749456296,
          0.017010000704488173,
          0.01059607707888977,
          0.006331749116815515,
          0.0037570165426297456,
          0.002148828550723015,
          0.0008132114603688935,
          0.00028005253968964896,
          0.000235697014675091
         ],
         "yaxis": "y",
         "zmax": 0.1,
         "zmin": -0.1
        }
       ],
       "layout": {
        "annotations": [
         {
          "font": {
           "color": "rgba(0, 0, 0, 1)",
           "family": "sans-serif",
           "size": 20
          },
          "rotation": 0,
          "showarrow": false,
          "text": "Class Conditional PDFs",
          "x": 0.5349537037037038,
          "xanchor": "center",
          "xref": "paper",
          "y": 1,
          "yanchor": "top",
          "yref": "paper"
         }
        ],
        "height": 400,
        "hovermode": "x",
        "legend": {
         "bgcolor": "rgba(255, 255, 255, 1.000)",
         "bordercolor": "rgba(0, 0, 0, 1)",
         "font": {
          "color": "rgba(0, 0, 0, 1)",
          "family": "sans-serif",
          "size": 11
         },
         "tracegroupgap": 0,
         "x": 1,
         "y": 1
        },
        "margin": {
         "b": 20,
         "l": 0,
         "r": 0,
         "t": 20
        },
        "paper_bgcolor": "rgba(255, 255, 255, 1.000)",
        "plot_bgcolor": "rgba(255, 255, 255, 1.000)",
        "showlegend": true,
        "width": 600,
        "xaxis": {
         "anchor": "y",
         "autorange": false,
         "domain": [
          0.07646908719743364,
          0.9934383202099737
         ],
         "gridcolor": "rgba(0, 0, 0, 0.1)",
         "gridwidth": 0.5,
         "linecolor": "rgba(0, 0, 0, 1)",
         "mirror": false,
         "range": [
          -6.806661381618795,
          8.784768892995647
         ],
         "showgrid": true,
         "showline": true,
         "showticklabels": true,
         "tickangle": 0,
         "tickcolor": "rgb(0, 0, 0)",
         "tickfont": {
          "color": "rgba(0, 0, 0, 1)",
          "family": "sans-serif",
          "size": 11
         },
         "tickmode": "array",
         "ticks": "inside",
         "ticktext": [
          "-6",
          "-3",
          "0",
          "3",
          "6"
         ],
         "tickvals": [
          -6,
          -3,
          0,
          3,
          6
         ],
         "title": {
          "font": {
           "color": "rgba(0, 0, 0, 1)",
           "family": "sans-serif",
           "size": 15
          },
          "text": "x"
         },
         "type": "linear",
         "visible": true,
         "zeroline": false,
         "zerolinecolor": "rgba(0, 0, 0, 1)"
        },
        "yaxis": {
         "anchor": "x",
         "autorange": false,
         "domain": [
          0.07581474190726165,
          0.9415463692038496
         ],
         "gridcolor": "rgba(0, 0, 0, 0.1)",
         "gridwidth": 0.5,
         "linecolor": "rgba(0, 0, 0, 1)",
         "mirror": false,
         "range": [
          -0.011966252587136315,
          0.4108413388250135
         ],
         "showgrid": true,
         "showline": true,
         "showticklabels": true,
         "tickangle": 0,
         "tickcolor": "rgb(0, 0, 0)",
         "tickfont": {
          "color": "rgba(0, 0, 0, 1)",
          "family": "sans-serif",
          "size": 11
         },
         "tickmode": "array",
         "ticks": "inside",
         "ticktext": [
          "0.0",
          "0.1",
          "0.2",
          "0.3",
          "0.4"
         ],
         "tickvals": [
          0,
          0.1,
          0.2,
          0.30000000000000004,
          0.4
         ],
         "title": {
          "font": {
           "color": "rgba(0, 0, 0, 1)",
           "family": "sans-serif",
           "size": 15
          },
          "text": "p(x)"
         },
         "type": "linear",
         "visible": true,
         "zeroline": false,
         "zerolinecolor": "rgba(0, 0, 0, 1)"
        }
       }
      },
      "image/png": "[encoded data removed]",
      "text/html": [
       "    <div id=\"de7ba61a-c001-41ed-8a03-39e60bca4d71\" style=\"width:600px;height:400px;\"></div>\n",
       "    <script>\n",
       "    PLOT = document.getElementById('de7ba61a-c001-41ed-8a03-39e60bca4d71');\n",
       "    Plotly.plot(PLOT, [{\"xaxis\":\"x1\",\"colorbar\":{\"title\":\"\"},\"fill\":\"tozeroy\",\"yaxis\":\"y1\",\"text\":[null,null,null,null,null,null,null,null,null,null,null,null,null,null,null,null,null,null,null,null,null,null,null,null,null,null,null,null,null,null,null,null,null,null,null,null,null,null,null,null,null,null,null,null,null,null,null,null,null,null,null,null,null],\"x\":[-3.6826972435271177,-3.6463780015985487,-3.31055416696218,-2.9747303323258114,-2.772914205529732,-2.571098078733653,-2.400465112002723,-2.2298321452717933,-2.13715453093097,-2.044476916590147,-1.9517993022493236,-1.8591216879085006,-1.7736811249664992,-1.688240562024498,-1.6027999990824968,-1.5173594361404954,-1.3341568093283183,-1.150954182516141,-0.938695973070132,-0.726437763624123,-0.6321227398586288,-0.5378077160931345,-0.4434926923276402,-0.3491776685621459,-0.26647189196534515,-0.18376611536854448,-0.10106033877174378,-0.018354562174943093,0.07181693488643331,0.16198843194780974,0.25215992900918616,0.34233142607056255,0.4330388370937696,0.5237462481169767,0.6144536591401837,0.7051610701633908,0.9057383543900099,1.106315638616629,1.2971598634105295,1.4880040882044299,1.587220944901881,1.6864378015993322,1.7856546582967834,1.8848715149942346,2.051910434403632,2.2189493538130294,2.422884941343994,2.626820528874959,2.8185259961499938,3.010231463425029,3.3173584882002003,3.6244855129753715,3.6717509992155426],\"showlegend\":true,\"mode\":\"lines\",\"fillcolor\":\"rgba(0, 154, 250, 0.500)\",\"name\":\"y1\",\"zmin\":-0.1,\"legendgroup\":\"y1\",\"zmax\":0.1,\"line\":{\"color\":\"rgba(0, 154, 250, 0.500)\",\"shape\":\"linear\",\"dash\":\"solid\",\"width\":1},\"y\":[0.000452796379484318,0.0005172548843439664,0.0016635141117062604,0.004779359160850086,0.008535979822317361,0.01463687574764495,0.02236954350687503,0.03320634751084899,0.040654193883506856,0.04934684410243188,0.05938587999843854,0.07085602636157629,0.08275168522000596,0.09594150167145825,0.1104245880896179,0.12616958523138108,0.163830040139458,0.2057103231063552,0.2567856476006646,0.306421263580707,0.32669504989453857,0.3452256205982121,0.3615765810782454,0.37534823572672477,0.3850268650383341,0.39226269403731073,0.3969102361639889,0.3988750862378772,0.39791479908195987,0.39374229422849955,0.38645847777247744,0.37623778226095456,0.36323696904367025,0.3478118524082641,0.33031280391985424,0.31112372988229475,0.26471023170980124,0.21633964421866161,0.17200179110421843,0.13185972425937195,0.11320287713237787,0.09623378740610379,0.0810069915540008,0.06752152471816623,0.048601214989125965,0.034020001408976375,0.021192154157779558,0.012663498233631047,0.0075140330852595085,0.004297657101446038,0.0016264229207377896,0.0005601050793792979,0.0004713940293501837],\"type\":\"scatter\",\"hoverinfo\":\"text\"},{\"xaxis\":\"x1\",\"colorbar\":{\"title\":\"\"},\"fill\":\"tozeroy\",\"yaxis\":\"y1\",\"text\":[null,null,null,null,null,null,null,null,null,null,null,null,null,null,null,null,null,null,null,null,null,null,null,null,null,null,null,null,null,null,null,null,null,null,null,null,null,null,null,null,null,null,null,null,null,null,null,null,null,null,null,null,null],\"x\":[-6.365394487054235,-6.2927560031970975,-5.62110833392436,-4.949460664651622,-4.545828411059464,-4.142196157467306,-3.8009302240054463,-3.459664290543587,-3.2743090618619406,-3.088953833180294,-2.9035986044986477,-2.7182433758170013,-2.5473622499329984,-2.376481124048996,-2.205599998164993,-2.0347188722809904,-1.668313618656636,-1.3019083650322818,-0.8773919461402637,-0.45287552724824565,-0.2642454797172571,-0.07561543218626848,0.1130146153447201,0.3016446628757087,0.4670562160693101,0.6324677692629115,0.7978793224565128,0.9632908756501143,1.1436338697728672,1.32397686389562,1.5043198580183728,1.6846628521411255,1.8660776741875396,2.0474924962339536,2.228907318280368,2.410322140326782,2.8114767087800203,3.2126312772332586,3.5943197268210594,3.97600817640886,4.174441889803763,4.372875603198665,4.571309316593568,4.76974302998847,5.103820868807265,5.43789870762606,5.845769882687989,6.253641057749919,6.637051992299989,7.020462926850059,7.6347169764004015,8.248971025950743,8.343501998431087],\"showlegend\":true,\"mode\":\"lines\",\"fillcolor\":\"rgba(227, 111, 71, 0.500)\",\"name\":\"y2\",\"zmin\":-0.1,\"legendgroup\":\"y2\",\"zmax\":0.1,\"line\":{\"color\":\"rgba(227, 111, 71, 0.500)\",\"shape\":\"linear\",\"dash\":\"solid\",\"width\":1},\"y\":[0.000226398189742159,0.0002586274421719832,0.0008317570558531302,0.0023896795804250475,0.0042679899111586804,0.007318437873822475,0.011184771753437515,0.016603173755424472,0.020327096941753428,0.02467342205121592,0.02969293999921926,0.03542801318078814,0.04137584261000298,0.047970750835729124,0.05521229404480897,0.06308479261569057,0.08191502006972902,0.1028551615531776,0.12839282380033232,0.1532106317903535,0.1633475249472693,0.1726128102991061,0.18078829053912274,0.1876741178633624,0.19251343251916708,0.1961313470186554,0.19845511808199448,0.1994375431189386,0.19895739954097993,0.19687114711424977,0.19322923888623872,0.18811889113047728,0.18161848452183513,0.17390592620413206,0.1651564019599271,0.15556186494114735,0.1323551158549006,0.10816982210933078,0.08600089555210917,0.06592986212968595,0.0566014385661889,0.048116893703051875,0.04050349577700036,0.03376076235908307,0.02430060749456296,0.017010000704488173,0.01059607707888977,0.006331749116815515,0.0037570165426297456,0.002148828550723015,0.0008132114603688935,0.00028005253968964896,0.000235697014675091],\"type\":\"scatter\",\"hoverinfo\":\"text\"}], {\"showlegend\":true,\"xaxis\":{\"showticklabels\":true,\"gridwidth\":0.5,\"tickvals\":[-6.0,-3.0,0.0,3.0,6.0],\"visible\":true,\"ticks\":\"inside\",\"range\":[-6.806661381618795,8.784768892995647],\"domain\":[0.07646908719743364,0.9934383202099737],\"tickmode\":\"array\",\"linecolor\":\"rgba(0, 0, 0, 1.000)\",\"showgrid\":true,\"title\":\"x\",\"mirror\":false,\"tickangle\":0,\"showline\":true,\"gridcolor\":\"rgba(0, 0, 0, 0.100)\",\"titlefont\":{\"color\":\"rgba(0, 0, 0, 1.000)\",\"family\":\"sans-serif\",\"size\":15},\"tickcolor\":\"rgb(0, 0, 0)\",\"ticktext\":[\"-6\",\"-3\",\"0\",\"3\",\"6\"],\"zeroline\":false,\"type\":\"-\",\"tickfont\":{\"color\":\"rgba(0, 0, 0, 1.000)\",\"family\":\"sans-serif\",\"size\":11},\"zerolinecolor\":\"rgba(0, 0, 0, 1.000)\",\"anchor\":\"y1\"},\"paper_bgcolor\":\"rgba(255, 255, 255, 1.000)\",\"annotations\":[{\"yanchor\":\"top\",\"xanchor\":\"center\",\"rotation\":-0.0,\"y\":1.0,\"font\":{\"color\":\"rgba(0, 0, 0, 1.000)\",\"family\":\"sans-serif\",\"size\":20},\"yref\":\"paper\",\"showarrow\":false,\"text\":\"Class Conditional PDFs\",\"xref\":\"paper\",\"x\":0.5349537037037038}],\"height\":400,\"margin\":{\"l\":0,\"b\":20,\"r\":0,\"t\":20},\"plot_bgcolor\":\"rgba(255, 255, 255, 1.000)\",\"yaxis\":{\"showticklabels\":true,\"gridwidth\":0.5,\"tickvals\":[0.0,0.1,0.2,0.30000000000000004,0.4],\"visible\":true,\"ticks\":\"inside\",\"range\":[-0.011966252587136315,0.4108413388250135],\"domain\":[0.07581474190726165,0.9415463692038496],\"tickmode\":\"array\",\"linecolor\":\"rgba(0, 0, 0, 1.000)\",\"showgrid\":true,\"title\":\"p(x)\",\"mirror\":false,\"tickangle\":0,\"showline\":true,\"gridcolor\":\"rgba(0, 0, 0, 0.100)\",\"titlefont\":{\"color\":\"rgba(0, 0, 0, 1.000)\",\"family\":\"sans-serif\",\"size\":15},\"tickcolor\":\"rgb(0, 0, 0)\",\"ticktext\":[\"0.0\",\"0.1\",\"0.2\",\"0.3\",\"0.4\"],\"zeroline\":false,\"type\":\"-\",\"tickfont\":{\"color\":\"rgba(0, 0, 0, 1.000)\",\"family\":\"sans-serif\",\"size\":11},\"zerolinecolor\":\"rgba(0, 0, 0, 1.000)\",\"anchor\":\"x1\"},\"legend\":{\"tracegroupgap\":0,\"bordercolor\":\"rgba(0, 0, 0, 1.000)\",\"bgcolor\":\"rgba(255, 255, 255, 1.000)\",\"font\":{\"color\":\"rgba(0, 0, 0, 1.000)\",\"family\":\"sans-serif\",\"size\":11},\"y\":1.0,\"x\":1.0},\"width\":600});\n",
       "    </script>\n"
      ]
     },
     "execution_count": 55,
     "metadata": {},
     "output_type": "execute_result"
    }
   ],
   "source": [
    "plot([Normal(), Normal(1, 2)], fill=0, alpha=0.5, title=\"Class Conditional PDFs\", xlabel=\"x\", ylabel=\"p(x)\")"
   ]
  },
  {
   "cell_type": "code",
   "execution_count": null,
   "metadata": {},
   "outputs": [],
   "source": [
    "plot(gt)"
   ]
  }
 ],
 "metadata": {
  "kernelspec": {
   "display_name": "Julia 1.0.3",
   "language": "julia",
   "name": "julia-1.0"
  },
  "language_info": {
   "file_extension": ".jl",
   "mimetype": "application/julia",
   "name": "julia",
   "version": "1.0.3"
  }
 },
 "nbformat": 4,
 "nbformat_minor": 2
}
