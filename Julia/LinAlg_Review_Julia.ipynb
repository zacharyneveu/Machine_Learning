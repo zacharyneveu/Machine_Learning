{
 "cells": [
  {
   "cell_type": "markdown",
   "metadata": {},
   "source": [
    "## Power method for eigenvectors"
   ]
  },
  {
   "cell_type": "code",
   "execution_count": 2,
   "metadata": {},
   "outputs": [],
   "source": [
    "using LinearAlgebra"
   ]
  },
  {
   "cell_type": "code",
   "execution_count": 1,
   "metadata": {},
   "outputs": [
    {
     "data": {
      "text/plain": [
       "2×2 Array{Int64,2}:\n",
       " 2  1\n",
       " 1  2"
      ]
     },
     "execution_count": 1,
     "metadata": {},
     "output_type": "execute_result"
    }
   ],
   "source": [
    "A = [2 1; 1 2]"
   ]
  },
  {
   "cell_type": "code",
   "execution_count": 3,
   "metadata": {},
   "outputs": [
    {
     "data": {
      "text/plain": [
       "2-element Array{Int64,1}:\n",
       "  6\n",
       " -1"
      ]
     },
     "execution_count": 3,
     "metadata": {},
     "output_type": "execute_result"
    }
   ],
   "source": [
    "x = [6; -1]"
   ]
  },
  {
   "cell_type": "code",
   "execution_count": 4,
   "metadata": {},
   "outputs": [
    {
     "data": {
      "text/plain": [
       "2-element Array{Int64,1}:\n",
       " 11\n",
       "  4"
      ]
     },
     "execution_count": 4,
     "metadata": {},
     "output_type": "execute_result"
    }
   ],
   "source": [
    "A*x"
   ]
  },
  {
   "cell_type": "code",
   "execution_count": 6,
   "metadata": {},
   "outputs": [
    {
     "data": {
      "text/plain": [
       "2-element Array{Float64,1}:\n",
       "  0.9863939238321437\n",
       " -0.1643989873053573"
      ]
     },
     "execution_count": 6,
     "metadata": {},
     "output_type": "execute_result"
    }
   ],
   "source": [
    "x = x/norm(x)"
   ]
  },
  {
   "cell_type": "code",
   "execution_count": 8,
   "metadata": {},
   "outputs": [
    {
     "data": {
      "text/plain": [
       "2-element Array{Float64,1}:\n",
       " 1.8083888603589302\n",
       " 0.6575959492214292"
      ]
     },
     "execution_count": 8,
     "metadata": {},
     "output_type": "execute_result"
    }
   ],
   "source": [
    "a = A*x"
   ]
  },
  {
   "cell_type": "code",
   "execution_count": 9,
   "metadata": {},
   "outputs": [
    {
     "data": {
      "text/plain": [
       "2-element Array{Float64,1}:\n",
       "  0.9863939238321437\n",
       " -0.1643989873053573"
      ]
     },
     "execution_count": 9,
     "metadata": {},
     "output_type": "execute_result"
    }
   ],
   "source": [
    "x = x/norm(x)"
   ]
  },
  {
   "cell_type": "markdown",
   "metadata": {},
   "source": [
    "### Cheating method..."
   ]
  },
  {
   "cell_type": "code",
   "execution_count": 10,
   "metadata": {},
   "outputs": [
    {
     "data": {
      "text/plain": [
       "2×2 Array{Float64,2}:\n",
       " -0.707107  0.707107\n",
       "  0.707107  0.707107"
      ]
     },
     "execution_count": 10,
     "metadata": {},
     "output_type": "execute_result"
    }
   ],
   "source": [
    "eigvecs(A)"
   ]
  },
  {
   "cell_type": "code",
   "execution_count": 15,
   "metadata": {},
   "outputs": [
    {
     "data": {
      "text/plain": [
       "2-element Array{Float64,1}:\n",
       " 1.0\n",
       " 3.0"
      ]
     },
     "execution_count": 15,
     "metadata": {},
     "output_type": "execute_result"
    }
   ],
   "source": [
    "eigvals(A)"
   ]
  },
  {
   "cell_type": "code",
   "execution_count": null,
   "metadata": {},
   "outputs": [],
   "source": []
  },
  {
   "cell_type": "code",
   "execution_count": 16,
   "metadata": {},
   "outputs": [
    {
     "name": "stdout",
     "output_type": "stream",
     "text": [
      "  0.199038 seconds (829.79 k allocations: 42.288 MiB, 3.91% gc time)\n"
     ]
    },
    {
     "data": {
      "text/plain": [
       "500×500 Array{Float64,2}:\n",
       " -0.609287   -0.997814     0.976696   -0.929535   …  -0.544849      0.203555 \n",
       " -0.038372   -0.183853     0.368985   -0.452232      -0.273236     -0.0931374\n",
       "  0.129219   -0.253884    -0.0119275  -0.470831      -0.250214     -0.0436674\n",
       " -0.0626242  -0.217615    -0.235444    0.0132043      0.128234      0.130511 \n",
       "  1.02164     1.21155     -1.13714     0.520276       0.423744     -0.193895 \n",
       " -0.0416291   0.514586    -0.128312    0.659096   …   0.24502      -0.172621 \n",
       " -0.123407   -0.362783     0.479231   -0.587589      -0.463859      0.294947 \n",
       "  0.192022    0.0948112    0.100353   -0.392626      -0.329286      0.0421519\n",
       " -0.478258   -0.051901     0.734709   -0.161231      -0.0564735    -0.420005 \n",
       " -0.259542   -0.163223    -0.0255069   0.374209       0.210256      0.123585 \n",
       "  0.0900043   0.171724    -0.183096    0.187499   …   0.179059      0.0132903\n",
       "  0.0318007  -0.0793376   -0.160846    0.295387       0.0719165     0.160659 \n",
       "  0.707416    0.473718    -0.571858   -0.197761       0.00319596    0.153194 \n",
       "  ⋮                                               ⋱                          \n",
       "  0.232368    0.260169    -0.267508    0.337831       0.265424      0.125021 \n",
       "  0.357347   -0.273189    -0.399622   -0.15116       -0.13479       0.19277  \n",
       "  0.215358    0.539022    -0.477048    0.627699   …   0.319672      0.0575963\n",
       "  0.236849   -0.405423    -0.0660994  -0.583356      -0.274736      0.112755 \n",
       "  0.0324148  -0.379283     0.500193   -0.964267      -0.556058     -0.153156 \n",
       " -0.255379   -0.173422     0.275672    0.217041       0.0157421     0.0756922\n",
       " -0.35838    -0.636643     0.308042   -0.393287      -0.283619      0.500544 \n",
       " -0.327667   -0.379855     0.0769184   0.0515007  …  -0.0114036     0.24044  \n",
       "  0.139488    0.302557     0.17991     0.046942      -0.0834921    -0.250331 \n",
       " -0.495655    0.602419     0.156085    1.08987        0.31561      -0.296442 \n",
       " -0.311228    0.00976214  -0.211412    0.511153       0.305367      0.290739 \n",
       " -0.171582   -0.11794      0.0590567   0.0183595      0.000279831  -0.13816  "
      ]
     },
     "execution_count": 16,
     "metadata": {},
     "output_type": "execute_result"
    }
   ],
   "source": [
    "a = rand(500, 500)\n",
    "@time inv(a)"
   ]
  },
  {
   "cell_type": "code",
   "execution_count": 18,
   "metadata": {},
   "outputs": [
    {
     "name": "stdout",
     "output_type": "stream",
     "text": [
      " 27.360307 seconds (11 allocations: 767.899 MiB, 0.15% gc time)\n"
     ]
    },
    {
     "data": {
      "text/plain": [
       "10000×10000 Array{Float64,2}:\n",
       " -0.05843      0.0254433     0.00689792   …   0.0232714     0.0848133 \n",
       " -0.0348993    0.0466401    -0.00123524       0.00863916    0.0133617 \n",
       " -0.0139275    0.00235414   -0.00228538      -0.0190167     0.0209158 \n",
       "  0.0776339   -0.0461273    -0.00902342      -0.0527689    -0.109515  \n",
       "  0.00202875  -0.000987441   0.00137554      -0.000717541   0.0187723 \n",
       "  0.0572828   -0.0432408     0.00292972   …  -0.0305876    -0.0911729 \n",
       " -0.0449041    0.0438483     0.0254692        0.037652      0.0307386 \n",
       "  0.0442714   -0.016397     -0.00786481      -0.0114396    -0.0348233 \n",
       " -0.0227514    0.0257345    -0.0317335       -0.00966828    0.030581  \n",
       "  0.0302853   -0.00679158   -0.0105458       -0.00248158   -0.0265047 \n",
       " -0.014718     0.0384075     0.000504935  …  -0.00503914    0.0283302 \n",
       " -0.0292014    0.00112665    0.0224566        0.00419753    0.0307788 \n",
       "  0.0204525   -0.0514081    -0.0283514       -0.00622263    0.0412894 \n",
       "  ⋮                                       ⋱                           \n",
       " -0.00730063   0.0107142     0.00266828      -0.00655909   -0.0261799 \n",
       " -0.0078558    0.0268722     0.0353825        0.0161678    -0.00529222\n",
       "  0.010568    -0.000233571   0.0107468    …   0.0106183    -0.0218324 \n",
       "  0.0323675   -0.00311916   -0.0089453       -0.0201781    -0.0147463 \n",
       " -0.0273595    0.00539495    0.0134181        0.00226112    0.0441729 \n",
       " -0.00548608  -0.0112817    -0.0203621       -0.00101183    0.0209759 \n",
       "  0.00127597  -0.046957     -0.00999868      -0.0457082    -0.0102288 \n",
       "  0.0124761   -0.0273164    -0.0105845    …  -0.0174033    -0.0188024 \n",
       " -0.0113645   -0.00498032    0.0011894       -0.0261972    -0.0178255 \n",
       " -0.00123425   0.0296983     0.0238232        0.00958575   -0.0201602 \n",
       "  0.0224461   -0.0175268    -0.0314023       -0.0116905    -0.020843  \n",
       " -0.0129877    0.00956974    0.0100782        0.0237601     0.0572152 "
      ]
     },
     "execution_count": 18,
     "metadata": {},
     "output_type": "execute_result"
    }
   ],
   "source": [
    "b = rand(10000, 10000)\n",
    "@time inv(b)"
   ]
  },
  {
   "cell_type": "code",
   "execution_count": 14,
   "metadata": {},
   "outputs": [
    {
     "data": {
      "text/plain": [
       "0.7071067811865476"
      ]
     },
     "execution_count": 14,
     "metadata": {},
     "output_type": "execute_result"
    }
   ],
   "source": [
    "√2/2"
   ]
  }
 ],
 "metadata": {
  "kernelspec": {
   "display_name": "Julia 1.0.3",
   "language": "julia",
   "name": "julia-1.0"
  },
  "language_info": {
   "file_extension": ".jl",
   "mimetype": "application/julia",
   "name": "julia",
   "version": "1.0.3"
  }
 },
 "nbformat": 4,
 "nbformat_minor": 2
}
