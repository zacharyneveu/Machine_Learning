{
 "cells": [
  {
   "cell_type": "code",
   "execution_count": 1,
   "metadata": {},
   "outputs": [],
   "source": [
    "load(\"normFeatures.mat\")"
   ]
  },
  {
   "cell_type": "code",
   "execution_count": 64,
   "metadata": {},
   "outputs": [],
   "source": [
    "labels = readtable(strcat(\"~/Music/urbansound8k/train.csv\"));\n",
    "labels = categorical(labels.Class);"
   ]
  },
  {
   "cell_type": "code",
   "execution_count": 10,
   "metadata": {},
   "outputs": [
    {
     "name": "stdout",
     "output_type": "stream",
     "text": [
      "\n",
      "ans =\n",
      "\n",
      "        5435           2\n",
      "\n"
     ]
    }
   ],
   "source": [
    "size(labels)"
   ]
  },
  {
   "cell_type": "code",
   "execution_count": 11,
   "metadata": {},
   "outputs": [
    {
     "name": "stdout",
     "output_type": "stream",
     "text": [
      "\n",
      "ans =\n",
      "\n",
      "        5435         107\n",
      "\n"
     ]
    }
   ],
   "source": [
    "size(normFeatures)"
   ]
  },
  {
   "cell_type": "code",
   "execution_count": 65,
   "metadata": {},
   "outputs": [],
   "source": [
    "Data = [table(labels) array2table(normFeatures)];\n",
    "part = cvpartition(Data.labels, 'HoldOut', 0.2);\n",
    "TRD = Data(training(part),:);\n",
    "VLD = Data(test(part),:);"
   ]
  },
  {
   "cell_type": "markdown",
   "metadata": {},
   "source": [
    "# SVM"
   ]
  },
  {
   "cell_type": "code",
   "execution_count": 38,
   "metadata": {},
   "outputs": [
    {
     "name": "stdout",
     "output_type": "stream",
     "text": [
      "\n",
      "svm = \n",
      "\n",
      "  ClassificationECOC\n",
      "             ResponseName: 'labels'\n",
      "    CategoricalPredictors: []\n",
      "               ClassNames: [1x10 categorical]\n",
      "           ScoreTransform: 'none'\n",
      "           BinaryLearners: {45x1 cell}\n",
      "               CodingName: 'onevsone'\n",
      "\n",
      "\n"
     ]
    }
   ],
   "source": [
    "svm = fitcecoc(TRD, 'labels')"
   ]
  },
  {
   "cell_type": "code",
   "execution_count": 43,
   "metadata": {},
   "outputs": [],
   "source": [
    "yhat = predict(svm, VLD);"
   ]
  },
  {
   "cell_type": "code",
   "execution_count": 46,
   "metadata": {},
   "outputs": [
    {
     "name": "stdout",
     "output_type": "stream",
     "text": [
      "\n",
      "ans = \n",
      "\n",
      "  ConfusionMatrixChart with properties:\n",
      "\n",
      "    NormalizedValues: [10x10 double]\n",
      "         ClassLabels: [10x1 categorical]\n",
      "\n",
      "  Use GET to show all properties\n",
      "\n"
     ]
    }
   ],
   "source": [
    "confusionchart(VLD.labels, yhat)"
   ]
  },
  {
   "cell_type": "code",
   "execution_count": 51,
   "metadata": {},
   "outputs": [
    {
     "name": "stdout",
     "output_type": "stream",
     "text": [
      "Accuracy: 0.59062\n"
     ]
    }
   ],
   "source": [
    "acc = sum(VLD.labels == yhat) / numel(yhat);\n",
    "disp(\"Accuracy: \"+num2str(acc))"
   ]
  },
  {
   "cell_type": "markdown",
   "metadata": {},
   "source": [
    "# GMM"
   ]
  },
  {
   "cell_type": "code",
   "execution_count": 54,
   "metadata": {},
   "outputs": [],
   "source": [
    "gmm = fitcnb(TRD, 'labels');"
   ]
  },
  {
   "cell_type": "code",
   "execution_count": 56,
   "metadata": {},
   "outputs": [],
   "source": [
    "preds = predict(gmm, VLD);"
   ]
  },
  {
   "cell_type": "code",
   "execution_count": 57,
   "metadata": {},
   "outputs": [
    {
     "name": "stdout",
     "output_type": "stream",
     "text": [
      "\n",
      "ans = \n",
      "\n",
      "  ConfusionMatrixChart with properties:\n",
      "\n",
      "    NormalizedValues: [10x10 double]\n",
      "         ClassLabels: [10x1 categorical]\n",
      "\n",
      "  Use GET to show all properties\n",
      "\n"
     ]
    }
   ],
   "source": [
    "confusionchart(VLD.labels, preds)"
   ]
  },
  {
   "cell_type": "markdown",
   "metadata": {},
   "source": [
    "# KNN"
   ]
  },
  {
   "cell_type": "code",
   "execution_count": 66,
   "metadata": {},
   "outputs": [],
   "source": [
    "knn = fitcknn(TRD, 'labels');"
   ]
  },
  {
   "cell_type": "code",
   "execution_count": 69,
   "metadata": {},
   "outputs": [],
   "source": [
    "knnpreds = predict(knn, VLD);\n",
    "confusionchart(VLD.labels, knnpreds);"
   ]
  },
  {
   "cell_type": "code",
   "execution_count": 68,
   "metadata": {},
   "outputs": [
    {
     "name": "stdout",
     "output_type": "stream",
     "text": [
      "\n",
      "acc =\n",
      "\n",
      "    0.7397\n",
      "\n"
     ]
    }
   ],
   "source": [
    "acc = sum(VLD.labels == knnpreds) / numel(knnpreds)"
   ]
  }
 ],
 "metadata": {
  "kernelspec": {
   "display_name": "MATLAB",
   "language": "matlab",
   "name": "imatlab"
  },
  "language_info": {
   "codemirror_mode": "octave",
   "file_extension": ".m",
   "mimetype": "text/x-matlab",
   "name": "matlab",
   "nbconvert_exporter": "imatlab._exporter.MatlabExporter",
   "pygments_lexer": "matlab",
   "version": "9.6.0.1072779 (R2019a)"
  }
 },
 "nbformat": 4,
 "nbformat_minor": 2
}
