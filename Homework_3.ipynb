{
 "cells": [
  {
   "cell_type": "markdown",
   "metadata": {},
   "source": [
    "## 1)"
   ]
  },
  {
   "cell_type": "markdown",
   "metadata": {},
   "source": [
    "Prove that a general whitening transform A w = ΦΛ −1/2 when applied to a\n",
    "Gaussian distribution insures that the ﬁnal distribution has covariance propor-\n",
    "tional to the identity matrix I. Check whether normalization is preserved by the\n",
    "transformation."
   ]
  },
  {
   "cell_type": "markdown",
   "metadata": {},
   "source": [
    "## 2)\n",
    "37. Derive the Bhattacharyya error bound without the need for ﬁrst examining the\n",
    "Chernoﬀ bound. Do this as follows:\n",
    "(a) If a and b are nonnegative numbers, show directly that $min[a,b] \\le \\sqrt{ab}$.\n",
    "(b) Use this to show that the error rate for a two-category Bayes classiﬁer must\n",
    "satisfy\n",
    "$$P(error) \\le P (\\omega_1 )P (\\omega_2 ) \\rho \\le \\rho/2$$\n",
    "where ρ is the so-called Bhattacharyya coeﬃcient\n",
    "$\\rho = p(x|\\omega_1 ) p(x|\\omega_2 ) dx$."
   ]
  },
  {
   "cell_type": "markdown",
   "metadata": {},
   "source": [
    "## 3)\n",
    "Let x have an exponential density\n",
    "\\begin{equation}\n",
    "p(x | \\theta) = \n",
    "\\begin{cases}\n",
    "    \\theta e^{-\\theta x}  & x \\ge 0\\\\\n",
    "    0 & otherwise \\\\\n",
    "\\end{cases}\n",
    "\\end{equation}\n",
    "(a) Plot p(x|θ) versus x for θ = 1. Plot p(x|θ) versus θ, (0 ≤ θ ≤ 5), for x = 2."
   ]
  },
  {
   "cell_type": "markdown",
   "metadata": {},
   "source": [
    "(b) Suppose that n samples x 1 , ..., x n are drawn independently according to p(x|θ).\n",
    "Show that the maximum likelihood estimate for θ is given by\n",
    "$$\\hat{\\theta} = \\frac{1}{\\frac{1}{n}\\sum_{k=1}^n x_k}$$"
   ]
  },
  {
   "cell_type": "code",
   "execution_count": 10,
   "metadata": {},
   "outputs": [
    {
     "data": {
      "image/png": "[encoded data removed]",
      "text/plain": [
       "<IPython.core.display.Image object>"
      ]
     },
     "metadata": {},
     "output_type": "display_data"
    }
   ],
   "source": [
    "function y = expdist(x, theta)\n",
    "    y = theta .* exp(-theta .* x);\n",
    "end\n",
    "r = linspace(0, 5);\n",
    "plot(r, expdist(r, 1))\n",
    "title(\"Exponential distribution with theta = 1\")\n",
    "xlabel('x')\n",
    "ylabel('p(x|\\theta)')"
   ]
  },
  {
   "cell_type": "code",
   "execution_count": 14,
   "metadata": {},
   "outputs": [
    {
     "data": {
      "image/png": "[encoded data removed]",
      "text/plain": [
       "<IPython.core.display.Image object>"
      ]
     },
     "metadata": {},
     "output_type": "display_data"
    }
   ],
   "source": [
    "thetarange = linspace(0, 5);\n",
    "plot(thetarange, expdist(1, thetarange))\n",
    "title('')\n",
    "xlabel('\\theta')\n",
    "ylabel('P(x=1|\\theta)')"
   ]
  },
  {
   "cell_type": "markdown",
   "metadata": {},
   "source": [
    "## 4)\n",
    "3. Maximum likelihood methods apply to estimates of prior probabilities as well.\n",
    "Let samples be drawn by successive, independent selections of a state of nature ω i\n",
    "with unknown probability P (ω i ). Let z ik = 1 if the state of nature for the kth sample\n",
    "is ω i and z ik = 0 otherwise.\n",
    "(a) Show that\n",
    "$$ P(z_{i1},...,z_{in}|P(\\omega_i)) = \\prod_{k=1}^{n} \\theta_i^{x_i}(1-\\theta_i)^{1-x_i}$$\n",
    "(b) Show that the maximum likelihood estimate for P (ω i ) is\n",
    "$$\\hat{P}(\\omega_i) = \\frac{1}{n} \\sum_{k=1}^n z_{ik}$$\n",
    "Interpret your result in words."
   ]
  },
  {
   "cell_type": "markdown",
   "metadata": {},
   "source": [
    "## 5)\n",
    "17. The purpose of this problem is to derive the Bayesian classiﬁer for the d-\n",
    "dimensional multivariate Bernoulli case. As usual, work with each class separately,\n",
    "interpreting P (x|D) to mean P (x|D i , ω i ). Let the conditional probability for a given\n",
    "category be given by\n",
    "$$ P(x|\\theta) = \\prod_{i=1}^d \\theta_i^{x_i}(1-\\theta_i)^{1-x_i}$$\n",
    "and let D = {x 1 , ..., x n } be a set of n samples independently drawn according to this\n",
    "probability density."
   ]
  },
  {
   "cell_type": "markdown",
   "metadata": {},
   "source": [
    "(a) If s = (s 1 , ..., s d ) t is the sum of the n samples, show that\n",
    "$$P(D|\\theta) = \\prod_{i=1}^d \\theta_i^{s_i}(1-\\theta_i)^{n-s_i}$$\n",
    "(b) Assuming a uniform a priori distribution for θ and using the identity\n",
    "$$\\int_0^1 \\theta^m(1-\\theta)^n d\\theta = \\frac{m!n!}{(m+n+1)!}$$\n",
    "show that\n",
    "$$P(D|\\theta) = \\prod_{i=1}^d \\frac{(n+1)!}{s_i!(n-s_i)!}\\theta_i^{s_i}(1-\\theta_i)^{n-s_i}$$\n",
    "(c) Plot this density for the case d = 1, n = 1, and for the two resulting possibilities\n",
    "for s 1 .\n",
    "(d) Integrate the product P (x|θ)p(θ|D) over θ to obtain the desired conditional\n",
    "probability\n",
    "$$P(x|D) = \\prod_{i=1}^d \\bigg(\\frac{s_i+1}{n+2}\\bigg)^{x_i}\\bigg(1 - \\frac{s_i+1}{n+2}\\bigg)^{1 - x_i}$$\n",
    "(e) If we think of obtaining P (x|D) by substituting an estimate θ̂ for θ in P (x|θ),\n",
    "what is the eﬀective Bayesian estimate for θ?"
   ]
  },
  {
   "cell_type": "markdown",
   "metadata": {},
   "source": [
    "## 6)\n",
    "Assume we have training data from a Gaussian distribution of known covariance Σ but unknown mean µ. Suppose further that this mean itself is random, and characterized by a Gaussian density having mean m 0 and covariance Σ 0 .  \n",
    "(a) What is the MAP estimator for µ?  \n",
    "(b) Suppose we transform our coordinates by a linear transform x' = Ax, for non-singular matrix A, and accordingly for other terms. Determine whether your MAP estimator gives the appropriate estimate for the transformed mean µ'.\n",
    "Explain."
   ]
  }
 ],
 "metadata": {
  "kernelspec": {
   "display_name": "Octave",
   "language": "octave",
   "name": "octave"
  },
  "language_info": {
   "file_extension": ".m",
   "help_links": [
    {
     "text": "GNU Octave",
     "url": "https://www.gnu.org/software/octave/support.html"
    },
    {
     "text": "Octave Kernel",
     "url": "https://github.com/Calysto/octave_kernel"
    },
    {
     "text": "MetaKernel Magics",
     "url": "https://github.com/calysto/metakernel/blob/master/metakernel/magics/README.md"
    }
   ],
   "mimetype": "text/x-octave",
   "name": "octave",
   "version": "4.4.0"
  }
 },
 "nbformat": 4,
 "nbformat_minor": 2
}
